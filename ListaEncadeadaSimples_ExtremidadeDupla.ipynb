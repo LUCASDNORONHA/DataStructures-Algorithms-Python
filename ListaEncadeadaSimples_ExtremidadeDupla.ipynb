{
  "nbformat": 4,
  "nbformat_minor": 0,
  "metadata": {
    "colab": {
      "provenance": [],
      "authorship_tag": "ABX9TyOOKdRzxgjcaKaHjp9o8pSh",
      "include_colab_link": true
    },
    "kernelspec": {
      "name": "python3",
      "display_name": "Python 3"
    },
    "language_info": {
      "name": "python"
    }
  },
  "cells": [
    {
      "cell_type": "markdown",
      "metadata": {
        "id": "view-in-github",
        "colab_type": "text"
      },
      "source": [
        "<a href=\"https://colab.research.google.com/github/LUCASDNORONHA/data_structures_algorithms_python/blob/master/ListaEncadeadaSimples_ExtremidadeDupla.ipynb\" target=\"_parent\"><img src=\"https://colab.research.google.com/assets/colab-badge.svg\" alt=\"Open In Colab\"/></a>"
      ]
    },
    {
      "cell_type": "markdown",
      "source": [
        "# **IA Expert Academy**\n",
        "\n",
        "\n",
        "---\n",
        "\n",
        "**Curso:** Estruturas de Dados e Algoritmos em Python\n",
        "\n",
        "**Alunos:** Lucas Dias Noronha"
      ],
      "metadata": {
        "id": "nf-8PSojINP5"
      }
    },
    {
      "cell_type": "markdown",
      "source": [
        "# Lista Encadeada Simples com Extremidade Dupla"
      ],
      "metadata": {
        "id": "SAp3nV84IpzU"
      }
    },
    {
      "cell_type": "code",
      "execution_count": 1,
      "metadata": {
        "id": "Xu6iYrDoIMoD"
      },
      "outputs": [],
      "source": [
        "class No:\n",
        "    def __init__(self, valor):\n",
        "        \"\"\"\n",
        "        Inicializa um nó com um valor especificado.\n",
        "\n",
        "        Args:\n",
        "            valor: O valor a ser armazenado no nó.\n",
        "        \"\"\"\n",
        "        self.valor = valor\n",
        "        self.proximo = None\n",
        "\n",
        "    def mostra_no(self):\n",
        "        \"\"\"\n",
        "        Exibe o valor do nó.\n",
        "        \"\"\"\n",
        "        print(self.valor)\n",
        "\n",
        "class ListaEncadeadaExtremidadeDupla:\n",
        "    def __init__(self):\n",
        "        self.primeiro = None\n",
        "        self.ultimo = None\n",
        "\n",
        "    def lista_vazia(self):\n",
        "        \"\"\"\n",
        "        Verifica se a lista está vazia.\n",
        "\n",
        "        Returns:\n",
        "            bool: True se a lista estiver vazia, False caso contrário.\n",
        "        \"\"\"\n",
        "        return self.primeiro is None\n",
        "\n",
        "    def insere_inicio(self, valor):\n",
        "        \"\"\"\n",
        "        Insere um valor no início da lista encadeada.\n",
        "\n",
        "        Args:\n",
        "            valor: O valor a ser inserido no início da lista.\n",
        "        \"\"\"\n",
        "        novo = No(valor)\n",
        "        if self.lista_vazia():\n",
        "            self.ultimo = novo\n",
        "        novo.proximo = self.primeiro\n",
        "        self.primeiro = novo\n",
        "\n",
        "    def insere_final(self, valor):\n",
        "        \"\"\"\n",
        "        Insere um valor no final da lista encadeada.\n",
        "\n",
        "        Args:\n",
        "            valor: O valor a ser inserido no final da lista.\n",
        "        \"\"\"\n",
        "        novo = No(valor)\n",
        "        if self.lista_vazia():\n",
        "            self.primeiro = novo\n",
        "        else:\n",
        "            self.ultimo.proximo = novo\n",
        "        self.ultimo = novo\n",
        "\n",
        "    def excluir_inicio(self):\n",
        "        \"\"\"\n",
        "        Remove o primeiro nó da lista encadeada.\n",
        "\n",
        "        Returns:\n",
        "            No: O nó removido, ou None se a lista estiver vazia.\n",
        "        \"\"\"\n",
        "        if self.lista_vazia():\n",
        "            print('A lista está vazia')\n",
        "            return None\n",
        "\n",
        "        temp = self.primeiro\n",
        "        if self.primeiro.proximo is None:\n",
        "            self.ultimo = None\n",
        "        self.primeiro = self.primeiro.proximo\n",
        "        return temp\n",
        "\n",
        "    def mostrar(self):\n",
        "        \"\"\"\n",
        "        Exibe os valores na lista encadeada.\n",
        "        \"\"\"\n",
        "        if self.lista_vazia():\n",
        "            print('A lista está vazia')\n",
        "            return\n",
        "        atual = self.primeiro\n",
        "        while atual is not None:\n",
        "            atual.mostra_no()\n",
        "            atual = atual.proximo"
      ]
    },
    {
      "cell_type": "code",
      "source": [
        "# Criar uma lista encadeada de extremidade dupla\n",
        "minha_lista = ListaEncadeadaExtremidadeDupla()\n",
        "\n",
        "# Inserir valores no início e no final da lista\n",
        "minha_lista.insere_inicio(10)\n",
        "minha_lista.insere_final(20)\n",
        "minha_lista.insere_inicio(5)\n",
        "minha_lista.insere_final(15)\n",
        "\n",
        "# Exibir os valores na lista\n",
        "print(\"Valores na lista:\")\n",
        "minha_lista.mostrar()"
      ],
      "metadata": {
        "colab": {
          "base_uri": "https://localhost:8080/"
        },
        "id": "ulyhpuo_I9ht",
        "outputId": "9145ee91-6a21-4145-9fbd-1c225fde71c1"
      },
      "execution_count": 2,
      "outputs": [
        {
          "output_type": "stream",
          "name": "stdout",
          "text": [
            "Valores na lista:\n",
            "5\n",
            "10\n",
            "20\n",
            "15\n"
          ]
        }
      ]
    },
    {
      "cell_type": "code",
      "source": [
        "# Remover o primeiro valor da lista\n",
        "primeiro_no = minha_lista.excluir_inicio()\n",
        "if primeiro_no is not None:\n",
        "    print(f\"Primeiro valor removido: {primeiro_no.valor}\")"
      ],
      "metadata": {
        "colab": {
          "base_uri": "https://localhost:8080/"
        },
        "id": "zxuNq2q-JMqu",
        "outputId": "3fd6eb0e-85be-4bbc-c038-6274fca2827c"
      },
      "execution_count": 3,
      "outputs": [
        {
          "output_type": "stream",
          "name": "stdout",
          "text": [
            "Primeiro valor removido: 5\n"
          ]
        }
      ]
    },
    {
      "cell_type": "code",
      "source": [
        "# Exibir os valores atualizados na lista\n",
        "print(\"Valores na lista após a remoção do primeiro elemento:\")\n",
        "minha_lista.mostrar()"
      ],
      "metadata": {
        "colab": {
          "base_uri": "https://localhost:8080/"
        },
        "id": "TH0o71HLJQCU",
        "outputId": "9539f5bb-7df8-4cce-87f0-29b7de53b6c8"
      },
      "execution_count": 4,
      "outputs": [
        {
          "output_type": "stream",
          "name": "stdout",
          "text": [
            "Valores na lista após a remoção do primeiro elemento:\n",
            "10\n",
            "20\n",
            "15\n"
          ]
        }
      ]
    },
    {
      "cell_type": "code",
      "source": [
        "# Verificar se a lista está vazia\n",
        "if minha_lista.lista_vazia():\n",
        "    print(\"A lista está vazia\")\n",
        "else:\n",
        "    print(\"A lista não está vazia\")"
      ],
      "metadata": {
        "colab": {
          "base_uri": "https://localhost:8080/"
        },
        "id": "a_nMp2MHJWtU",
        "outputId": "3870261f-6ac6-4df9-a3fd-926eada026c9"
      },
      "execution_count": 5,
      "outputs": [
        {
          "output_type": "stream",
          "name": "stdout",
          "text": [
            "A lista não está vazia\n"
          ]
        }
      ]
    },
    {
      "cell_type": "code",
      "source": [
        "# Inserir mais valores no início e no final da lista\n",
        "minha_lista.insere_inicio(30)\n",
        "minha_lista.insere_final(40)\n",
        "\n",
        "# Exibir os valores na lista novamente\n",
        "print(\"Valores na lista após inserções adicionais:\")\n",
        "minha_lista.mostrar()"
      ],
      "metadata": {
        "colab": {
          "base_uri": "https://localhost:8080/"
        },
        "id": "6ckngppLJZIP",
        "outputId": "5f175f37-faca-400f-a260-4d88f95c5cf6"
      },
      "execution_count": 6,
      "outputs": [
        {
          "output_type": "stream",
          "name": "stdout",
          "text": [
            "Valores na lista após inserções adicionais:\n",
            "30\n",
            "10\n",
            "20\n",
            "15\n",
            "40\n"
          ]
        }
      ]
    }
  ]
}