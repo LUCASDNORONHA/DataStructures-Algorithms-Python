{
  "nbformat": 4,
  "nbformat_minor": 0,
  "metadata": {
    "colab": {
      "provenance": [],
      "authorship_tag": "ABX9TyMH2SUPBi33Zbjo5JKA9lDE",
      "include_colab_link": true
    },
    "kernelspec": {
      "name": "python3",
      "display_name": "Python 3"
    },
    "language_info": {
      "name": "python"
    }
  },
  "cells": [
    {
      "cell_type": "markdown",
      "metadata": {
        "id": "view-in-github",
        "colab_type": "text"
      },
      "source": [
        "<a href=\"https://colab.research.google.com/github/LUCASDNORONHA/data_structures_algorithms_python/blob/master/Dijkstra.ipynb\" target=\"_parent\"><img src=\"https://colab.research.google.com/assets/colab-badge.svg\" alt=\"Open In Colab\"/></a>"
      ]
    },
    {
      "cell_type": "markdown",
      "source": [
        "# **IA Expert Academy**\n",
        "\n",
        "\n",
        "---\n",
        "\n",
        "**Curso:** Estrutura de Dados e Algoritmos em Python\n",
        "\n",
        "**Aluno:** Lucas Dias Noronha"
      ],
      "metadata": {
        "id": "xU6F8JiCW33p"
      }
    },
    {
      "cell_type": "markdown",
      "source": [
        "# Caminho mais curso com o algoritmo de Dijkstra"
      ],
      "metadata": {
        "id": "ruagEDztVQM3"
      }
    },
    {
      "cell_type": "markdown",
      "source": [
        "### **Estrutura do grafo - matriz de adjacência**"
      ],
      "metadata": {
        "id": "W4bBeJjPVU3I"
      }
    },
    {
      "cell_type": "code",
      "execution_count": 3,
      "metadata": {
        "colab": {
          "base_uri": "https://localhost:8080/"
        },
        "id": "8USO-H8DTVl2",
        "outputId": "5113b8e4-4cec-428f-e8ff-885b22cecb62"
      },
      "outputs": [
        {
          "output_type": "execute_result",
          "data": {
            "text/plain": [
              "(0, 11, 5)"
            ]
          },
          "metadata": {},
          "execution_count": 3
        }
      ],
      "source": [
        "import numpy as np\n",
        "\n",
        "vertices = {'arad': 0, 'zerind': 1, 'oradea': 2, 'sibiu': 3, 'timisoara': 4,\n",
        "            'lugoj': 5, 'mehadia': 6, 'dobreta': 7, 'craiova': 8, 'rimnicu': 9,\n",
        "            'fagaras': 10, 'pitesti': 11, 'bucharest': 12, 'giurgiu': 13}\n",
        "\n",
        "vertices['arad'], vertices['pitesti'], vertices['lugoj']"
      ]
    },
    {
      "cell_type": "code",
      "source": [
        "len(vertices)"
      ],
      "metadata": {
        "colab": {
          "base_uri": "https://localhost:8080/"
        },
        "id": "cRq58AFzVufq",
        "outputId": "ede23e59-72bb-45d0-8a0b-08a4c80cfbb9"
      },
      "execution_count": 4,
      "outputs": [
        {
          "output_type": "execute_result",
          "data": {
            "text/plain": [
              "14"
            ]
          },
          "metadata": {},
          "execution_count": 4
        }
      ]
    },
    {
      "cell_type": "code",
      "source": [
        "cidades = {0: 'arad', 1: 'zerind', 2: 'oradea', 3: 'sibiu', 4: 'timisoara',\n",
        "           5: 'lugoj', 6: 'mehadia', 7: 'dobreta', 8: 'craiova', 9: 'rimnicu',\n",
        "           10: 'fagaras', 11: 'pitesti', 12: 'bucharest', 13: 'giurgiu'}\n",
        "\n",
        "cidades[0], cidades[12]"
      ],
      "metadata": {
        "colab": {
          "base_uri": "https://localhost:8080/"
        },
        "id": "Iv36JpJWV4ZA",
        "outputId": "3e34ca44-9af2-4bac-e394-d82f33c9be5a"
      },
      "execution_count": 6,
      "outputs": [
        {
          "output_type": "execute_result",
          "data": {
            "text/plain": [
              "('arad', 'bucharest')"
            ]
          },
          "metadata": {},
          "execution_count": 6
        }
      ]
    },
    {
      "cell_type": "code",
      "source": [
        "arestas = np.zeros([len(cidades), len(cidades)], dtype=int)\n",
        "\n",
        "arestas.shape"
      ],
      "metadata": {
        "colab": {
          "base_uri": "https://localhost:8080/"
        },
        "id": "fsA9mNEeV96p",
        "outputId": "99b54287-6a7f-44e7-b98b-a3b8bcb5a790"
      },
      "execution_count": 9,
      "outputs": [
        {
          "output_type": "execute_result",
          "data": {
            "text/plain": [
              "(14, 14)"
            ]
          },
          "metadata": {},
          "execution_count": 9
        }
      ]
    },
    {
      "cell_type": "code",
      "source": [
        "arestas"
      ],
      "metadata": {
        "colab": {
          "base_uri": "https://localhost:8080/"
        },
        "id": "a29UuQffWDjN",
        "outputId": "64764b01-519c-439a-f999-20ecacc30944"
      },
      "execution_count": 10,
      "outputs": [
        {
          "output_type": "execute_result",
          "data": {
            "text/plain": [
              "array([[0, 0, 0, 0, 0, 0, 0, 0, 0, 0, 0, 0, 0, 0],\n",
              "       [0, 0, 0, 0, 0, 0, 0, 0, 0, 0, 0, 0, 0, 0],\n",
              "       [0, 0, 0, 0, 0, 0, 0, 0, 0, 0, 0, 0, 0, 0],\n",
              "       [0, 0, 0, 0, 0, 0, 0, 0, 0, 0, 0, 0, 0, 0],\n",
              "       [0, 0, 0, 0, 0, 0, 0, 0, 0, 0, 0, 0, 0, 0],\n",
              "       [0, 0, 0, 0, 0, 0, 0, 0, 0, 0, 0, 0, 0, 0],\n",
              "       [0, 0, 0, 0, 0, 0, 0, 0, 0, 0, 0, 0, 0, 0],\n",
              "       [0, 0, 0, 0, 0, 0, 0, 0, 0, 0, 0, 0, 0, 0],\n",
              "       [0, 0, 0, 0, 0, 0, 0, 0, 0, 0, 0, 0, 0, 0],\n",
              "       [0, 0, 0, 0, 0, 0, 0, 0, 0, 0, 0, 0, 0, 0],\n",
              "       [0, 0, 0, 0, 0, 0, 0, 0, 0, 0, 0, 0, 0, 0],\n",
              "       [0, 0, 0, 0, 0, 0, 0, 0, 0, 0, 0, 0, 0, 0],\n",
              "       [0, 0, 0, 0, 0, 0, 0, 0, 0, 0, 0, 0, 0, 0],\n",
              "       [0, 0, 0, 0, 0, 0, 0, 0, 0, 0, 0, 0, 0, 0]])"
            ]
          },
          "metadata": {},
          "execution_count": 10
        }
      ]
    },
    {
      "cell_type": "code",
      "source": [
        "vertices['arad'], vertices['zerind'], vertices['sibiu'], vertices['timisoara']"
      ],
      "metadata": {
        "colab": {
          "base_uri": "https://localhost:8080/"
        },
        "id": "-j9p8GfsWF9A",
        "outputId": "f9769970-3142-468b-e91f-1e9664bbc38c"
      },
      "execution_count": 11,
      "outputs": [
        {
          "output_type": "execute_result",
          "data": {
            "text/plain": [
              "(0, 1, 3, 4)"
            ]
          },
          "metadata": {},
          "execution_count": 11
        }
      ]
    },
    {
      "cell_type": "code",
      "source": [
        "arestas[vertices['arad'], [vertices['zerind']]] = 75\n",
        "arestas[vertices['arad'], [vertices['sibiu']]] = 140\n",
        "arestas[vertices['arad'], [vertices['timisoara']]] = 118"
      ],
      "metadata": {
        "id": "pawkYcQYWJew"
      },
      "execution_count": 12,
      "outputs": []
    },
    {
      "cell_type": "code",
      "source": [
        "arestas[vertices['zerind'],[vertices['arad']]] = 75\n",
        "arestas[vertices['zerind'],[vertices['oradea']]] = 71\n",
        "\n",
        "arestas[vertices['oradea'],[vertices['zerind']]] = 71\n",
        "arestas[vertices['oradea'],[vertices['sibiu']]] = 151\n",
        "\n",
        "arestas[vertices['sibiu'],[vertices['oradea']]] = 151\n",
        "arestas[vertices['sibiu'],[vertices['arad']]] = 140\n",
        "arestas[vertices['sibiu'],[vertices['fagaras']]] = 99\n",
        "arestas[vertices['sibiu'],[vertices['rimnicu']]] = 80\n",
        "\n",
        "arestas[vertices['timisoara'],[vertices['arad']]] = 118\n",
        "arestas[vertices['timisoara'],[vertices['lugoj']]] = 111\n",
        "\n",
        "arestas[vertices['lugoj'],[vertices['timisoara']]] = 111\n",
        "arestas[vertices['lugoj'],[vertices['mehadia']]] = 70\n",
        "\n",
        "arestas[vertices['mehadia'],[vertices['lugoj']]] = 70\n",
        "arestas[vertices['mehadia'],[vertices['dobreta']]] = 75\n",
        "\n",
        "arestas[vertices['dobreta'],[vertices['mehadia']]] = 75\n",
        "arestas[vertices['dobreta'],[vertices['craiova']]] = 120\n",
        "\n",
        "arestas[vertices['craiova'],[vertices['dobreta']]] = 120\n",
        "arestas[vertices['craiova'],[vertices['pitesti']]] = 138\n",
        "arestas[vertices['craiova'],[vertices['rimnicu']]] = 146\n",
        "\n",
        "arestas[vertices['rimnicu'],[vertices['craiova']]] = 146\n",
        "arestas[vertices['rimnicu'],[vertices['sibiu']]] = 80\n",
        "arestas[vertices['rimnicu'],[vertices['pitesti']]] = 97\n",
        "\n",
        "arestas[vertices['fagaras'],[vertices['sibiu']]] = 99\n",
        "arestas[vertices['fagaras'],[vertices['bucharest']]] = 211\n",
        "\n",
        "arestas[vertices['pitesti'],[vertices['rimnicu']]] = 97\n",
        "arestas[vertices['pitesti'],[vertices['craiova']]] = 138\n",
        "arestas[vertices['pitesti'],[vertices['bucharest']]] = 101\n",
        "\n",
        "arestas[vertices['bucharest'],[vertices['fagaras']]] = 211\n",
        "arestas[vertices['bucharest'],[vertices['pitesti']]] = 101\n",
        "arestas[vertices['bucharest'],[vertices['giurgiu']]] = 90"
      ],
      "metadata": {
        "id": "KTGD6hTZWMJm"
      },
      "execution_count": 13,
      "outputs": []
    },
    {
      "cell_type": "code",
      "source": [
        "arestas[vertices['pitesti'],[vertices['rimnicu']]]"
      ],
      "metadata": {
        "colab": {
          "base_uri": "https://localhost:8080/"
        },
        "id": "D2jwOrvHWO4Q",
        "outputId": "2f07ce67-0a68-4274-98eb-ca5ce354fd98"
      },
      "execution_count": 14,
      "outputs": [
        {
          "output_type": "execute_result",
          "data": {
            "text/plain": [
              "array([97])"
            ]
          },
          "metadata": {},
          "execution_count": 14
        }
      ]
    },
    {
      "cell_type": "code",
      "source": [
        "arestas[vertices['arad'],[vertices['sibiu']]]"
      ],
      "metadata": {
        "colab": {
          "base_uri": "https://localhost:8080/"
        },
        "id": "Z5xKORMrWRmV",
        "outputId": "c6ff8024-2569-4ba8-ae19-f0230fa84259"
      },
      "execution_count": 15,
      "outputs": [
        {
          "output_type": "execute_result",
          "data": {
            "text/plain": [
              "array([140])"
            ]
          },
          "metadata": {},
          "execution_count": 15
        }
      ]
    },
    {
      "cell_type": "markdown",
      "source": [
        "### **Algoritmo de Dijkstra**"
      ],
      "metadata": {
        "id": "yzA5sU4BWVk3"
      }
    },
    {
      "cell_type": "code",
      "source": [
        "cidades[1]"
      ],
      "metadata": {
        "colab": {
          "base_uri": "https://localhost:8080/",
          "height": 38
        },
        "id": "aZSbf-zDWX3H",
        "outputId": "a8743a1d-194f-4bf3-a7c0-cadd81f2682c"
      },
      "execution_count": 16,
      "outputs": [
        {
          "output_type": "execute_result",
          "data": {
            "text/plain": [
              "'zerind'"
            ],
            "application/vnd.google.colaboratory.intrinsic+json": {
              "type": "string"
            }
          },
          "metadata": {},
          "execution_count": 16
        }
      ]
    },
    {
      "cell_type": "code",
      "source": [
        "import sys\n",
        "sys.maxsize"
      ],
      "metadata": {
        "colab": {
          "base_uri": "https://localhost:8080/"
        },
        "id": "JIQaMvm0WcAW",
        "outputId": "327a74e9-0622-468e-f583-7a288bc7ea39"
      },
      "execution_count": 17,
      "outputs": [
        {
          "output_type": "execute_result",
          "data": {
            "text/plain": [
              "9223372036854775807"
            ]
          },
          "metadata": {},
          "execution_count": 17
        }
      ]
    },
    {
      "cell_type": "code",
      "source": [
        "[sys.maxsize] * 14"
      ],
      "metadata": {
        "colab": {
          "base_uri": "https://localhost:8080/"
        },
        "id": "1_mWeOEXWegP",
        "outputId": "d0111e54-2223-4dcc-8573-c2c652203ffe"
      },
      "execution_count": 18,
      "outputs": [
        {
          "output_type": "execute_result",
          "data": {
            "text/plain": [
              "[9223372036854775807,\n",
              " 9223372036854775807,\n",
              " 9223372036854775807,\n",
              " 9223372036854775807,\n",
              " 9223372036854775807,\n",
              " 9223372036854775807,\n",
              " 9223372036854775807,\n",
              " 9223372036854775807,\n",
              " 9223372036854775807,\n",
              " 9223372036854775807,\n",
              " 9223372036854775807,\n",
              " 9223372036854775807,\n",
              " 9223372036854775807,\n",
              " 9223372036854775807]"
            ]
          },
          "metadata": {},
          "execution_count": 18
        }
      ]
    },
    {
      "cell_type": "code",
      "source": [
        "[False] * 14"
      ],
      "metadata": {
        "colab": {
          "base_uri": "https://localhost:8080/"
        },
        "id": "8jhcgiuDWhMO",
        "outputId": "4c990b62-2617-49d2-f328-3fbf9387e96d"
      },
      "execution_count": 19,
      "outputs": [
        {
          "output_type": "execute_result",
          "data": {
            "text/plain": [
              "[False,\n",
              " False,\n",
              " False,\n",
              " False,\n",
              " False,\n",
              " False,\n",
              " False,\n",
              " False,\n",
              " False,\n",
              " False,\n",
              " False,\n",
              " False,\n",
              " False,\n",
              " False]"
            ]
          },
          "metadata": {},
          "execution_count": 19
        }
      ]
    },
    {
      "cell_type": "code",
      "source": [
        "import sys\n",
        "\n",
        "class Dijkstra:\n",
        "  def __init__(self, vertices, arestas, inicio):\n",
        "    self.tamanho = len(vertices)\n",
        "    self.vertices = vertices\n",
        "    self.grafo = arestas\n",
        "    self.inicio = inicio\n",
        "\n",
        "  def mostra_solucao(self, distancias):\n",
        "    print('Menores distâncias de {} até todos os outros'.format(self.vertices[self.inicio]))\n",
        "    for vertice in range(self.tamanho):\n",
        "      print(self.vertices[vertice], distancias[vertice])\n",
        "\n",
        "  def distancia_minima(self, distancia, visitados):\n",
        "    minimo = sys.maxsize\n",
        "    for vertice in range(self.tamanho):\n",
        "      if distancia[vertice] < minimo and visitados[vertice] == False:\n",
        "        minimo = distancia[vertice]\n",
        "        indice_minimo = vertice\n",
        "    return indice_minimo\n",
        "\n",
        "  def dijkstra(self):\n",
        "    distancia = [sys.maxsize] * self.tamanho\n",
        "    distancia[self.inicio] = 0\n",
        "    visitados = [False] * self.tamanho\n",
        "\n",
        "    for _ in range(self.tamanho):\n",
        "      indice_minimo = self.distancia_minima(distancia, visitados)\n",
        "      visitados[indice_minimo] = True\n",
        "      for vertice in range(self.tamanho):\n",
        "        if self.grafo[indice_minimo][vertice] > 0 and visitados[vertice] == False \\\n",
        "            and distancia[vertice] > distancia[indice_minimo] + self.grafo[indice_minimo][vertice]:\n",
        "          distancia[vertice] = distancia[indice_minimo] + self.grafo[indice_minimo][vertice]\n",
        "\n",
        "    self.mostra_solucao(distancia)"
      ],
      "metadata": {
        "id": "GNNCmpabWji2"
      },
      "execution_count": 20,
      "outputs": []
    },
    {
      "cell_type": "code",
      "source": [
        "dijkstra = Dijkstra(cidades, arestas, vertices['arad'])\n",
        "dijkstra.dijkstra()"
      ],
      "metadata": {
        "colab": {
          "base_uri": "https://localhost:8080/"
        },
        "id": "T2wmp6JUWmvw",
        "outputId": "3a4c7d04-9855-411f-fafb-c0e6b4e5a098"
      },
      "execution_count": 21,
      "outputs": [
        {
          "output_type": "stream",
          "name": "stdout",
          "text": [
            "Menores distâncias de arad até todos os outros\n",
            "arad 0\n",
            "zerind 75\n",
            "oradea 146\n",
            "sibiu 140\n",
            "timisoara 118\n",
            "lugoj 229\n",
            "mehadia 299\n",
            "dobreta 374\n",
            "craiova 366\n",
            "rimnicu 220\n",
            "fagaras 239\n",
            "pitesti 317\n",
            "bucharest 418\n",
            "giurgiu 508\n"
          ]
        }
      ]
    },
    {
      "cell_type": "markdown",
      "source": [
        "### **Teste com outro grafo**"
      ],
      "metadata": {
        "id": "fhTtBvlBWpkC"
      }
    },
    {
      "cell_type": "code",
      "source": [
        "vertices2 = {'A': 0, 'B': 1, 'C': 2, 'D': 3, 'E': 4, 'F': 5}\n",
        "vertices2_inv = {0: 'A', 1: 'B', 2:'C', 3:'D', 4:'E', 5: 'F'}"
      ],
      "metadata": {
        "id": "5lt51njmWsa5"
      },
      "execution_count": 22,
      "outputs": []
    },
    {
      "cell_type": "code",
      "source": [
        "arestas2 = np.zeros([len(vertices2), len(vertices2)], dtype=int)\n",
        "arestas2[vertices2['A'],[vertices2['B']]] = 2\n",
        "arestas2[vertices2['A'],[vertices2['C']]] = 1\n",
        "arestas2[vertices2['B'],[vertices2['D']]] = 1\n",
        "arestas2[vertices2['C'],[vertices2['D']]] = 3\n",
        "arestas2[vertices2['C'],[vertices2['E']]] = 4\n",
        "arestas2[vertices2['D'],[vertices2['F']]] = 2\n",
        "arestas2[vertices2['E'],[vertices2['F']]] = 2"
      ],
      "metadata": {
        "id": "1ex9kWjTWu--"
      },
      "execution_count": 23,
      "outputs": []
    },
    {
      "cell_type": "code",
      "source": [
        "arestas2"
      ],
      "metadata": {
        "colab": {
          "base_uri": "https://localhost:8080/"
        },
        "id": "8BY3RHCsWxQm",
        "outputId": "dabee03e-3d17-4084-aaa3-8b611d3142ef"
      },
      "execution_count": 24,
      "outputs": [
        {
          "output_type": "execute_result",
          "data": {
            "text/plain": [
              "array([[0, 2, 1, 0, 0, 0],\n",
              "       [0, 0, 0, 1, 0, 0],\n",
              "       [0, 0, 0, 3, 4, 0],\n",
              "       [0, 0, 0, 0, 0, 2],\n",
              "       [0, 0, 0, 0, 0, 2],\n",
              "       [0, 0, 0, 0, 0, 0]])"
            ]
          },
          "metadata": {},
          "execution_count": 24
        }
      ]
    },
    {
      "cell_type": "code",
      "source": [
        "dijkstra = Dijkstra(vertices2_inv, arestas2, vertices2['A'])\n",
        "dijkstra.dijkstra()"
      ],
      "metadata": {
        "colab": {
          "base_uri": "https://localhost:8080/"
        },
        "id": "aZjo4e_vW0Wm",
        "outputId": "e8374f03-088e-4d8b-f0b6-7edc5c2ba721"
      },
      "execution_count": 25,
      "outputs": [
        {
          "output_type": "stream",
          "name": "stdout",
          "text": [
            "Menores distâncias de A até todos os outros\n",
            "A 0\n",
            "B 2\n",
            "C 1\n",
            "D 3\n",
            "E 5\n",
            "F 5\n"
          ]
        }
      ]
    }
  ]
}