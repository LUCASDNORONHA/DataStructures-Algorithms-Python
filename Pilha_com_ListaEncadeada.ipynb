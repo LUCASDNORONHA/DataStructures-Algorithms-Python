{
  "nbformat": 4,
  "nbformat_minor": 0,
  "metadata": {
    "colab": {
      "provenance": [],
      "authorship_tag": "ABX9TyMkIDTUsNyJqxvn/s7PGTWY",
      "include_colab_link": true
    },
    "kernelspec": {
      "name": "python3",
      "display_name": "Python 3"
    },
    "language_info": {
      "name": "python"
    }
  },
  "cells": [
    {
      "cell_type": "markdown",
      "metadata": {
        "id": "view-in-github",
        "colab_type": "text"
      },
      "source": [
        "<a href=\"https://colab.research.google.com/github/LUCASDNORONHA/data_structures_algorithms_python/blob/master/Pilha_com_ListaEncadeada.ipynb\" target=\"_parent\"><img src=\"https://colab.research.google.com/assets/colab-badge.svg\" alt=\"Open In Colab\"/></a>"
      ]
    },
    {
      "cell_type": "markdown",
      "source": [
        "# **IA Expert Academy**\n",
        "\n",
        "\n",
        "---\n",
        "\n",
        "**Curso:** Estruturas de Dados e Algoritmos em Python\n",
        "\n",
        "**Alunos:** Lucas Dias Noronha"
      ],
      "metadata": {
        "id": "p7sgAimYMpW0"
      }
    },
    {
      "cell_type": "markdown",
      "source": [
        "# Pilha com Lista Encadeada"
      ],
      "metadata": {
        "id": "3R903ZjEL04R"
      }
    },
    {
      "cell_type": "code",
      "execution_count": 1,
      "metadata": {
        "id": "M9ECkpLWLoVF"
      },
      "outputs": [],
      "source": [
        "class No:\n",
        "    def __init__(self, valor):\n",
        "        \"\"\"\n",
        "        Inicializa um nó com um valor especificado.\n",
        "\n",
        "        Args:\n",
        "            valor: O valor a ser armazenado no nó.\n",
        "        \"\"\"\n",
        "        self.valor = valor\n",
        "        self.proximo = None\n",
        "\n",
        "    def mostra_no(self):\n",
        "        \"\"\"\n",
        "        Exibe o valor do nó.\n",
        "        \"\"\"\n",
        "        print(self.valor)\n",
        "\n",
        "class ListaEncadeada:\n",
        "    def __init__(self):\n",
        "        self.primeiro = None\n",
        "\n",
        "    def lista_vazia(self):\n",
        "        \"\"\"\n",
        "        Verifica se a lista está vazia.\n",
        "\n",
        "        Returns:\n",
        "            bool: True se a lista estiver vazia, False caso contrário.\n",
        "        \"\"\"\n",
        "        return self.primeiro is None\n",
        "\n",
        "    def insere_inicio(self, valor):\n",
        "        \"\"\"\n",
        "        Insere um valor no início da lista encadeada.\n",
        "\n",
        "        Args:\n",
        "            valor: O valor a ser inserido no início da lista.\n",
        "        \"\"\"\n",
        "        novo = No(valor)\n",
        "        novo.proximo = self.primeiro\n",
        "        self.primeiro = novo\n",
        "\n",
        "    def excluir_inicio(self):\n",
        "        \"\"\"\n",
        "        Remove o primeiro nó da lista encadeada.\n",
        "\n",
        "        Returns:\n",
        "            No: O nó removido, ou None se a lista estiver vazia.\n",
        "        \"\"\"\n",
        "        if self.lista_vazia():\n",
        "            print('A lista está vazia')\n",
        "            return None\n",
        "\n",
        "        temp = self.primeiro\n",
        "        self.primeiro = self.primeiro.proximo\n",
        "        return temp\n",
        "\n",
        "class PilhaListaEncadeada:\n",
        "    def __init__(self):\n",
        "        self.lista = ListaEncadeada()\n",
        "\n",
        "    def empilhar(self, valor):\n",
        "        \"\"\"\n",
        "        Empilha um valor na pilha.\n",
        "\n",
        "        Args:\n",
        "            valor: O valor a ser empilhado.\n",
        "        \"\"\"\n",
        "        self.lista.insere_inicio(valor)\n",
        "\n",
        "    def desempilhar(self):\n",
        "        \"\"\"\n",
        "        Desempilha um valor da pilha.\n",
        "\n",
        "        Returns:\n",
        "            No: O nó desempilhado, ou None se a pilha estiver vazia.\n",
        "        \"\"\"\n",
        "        return self.lista.excluir_inicio()\n",
        "\n",
        "    def pilha_vazia(self):\n",
        "        \"\"\"\n",
        "        Verifica se a pilha está vazia.\n",
        "\n",
        "        Returns:\n",
        "            bool: True se a pilha estiver vazia, False caso contrário.\n",
        "        \"\"\"\n",
        "        return self.lista.lista_vazia()\n",
        "\n",
        "    def ver_topo(self):\n",
        "        \"\"\"\n",
        "        Obtém o valor no topo da pilha.\n",
        "\n",
        "        Returns:\n",
        "            int: O valor no topo da pilha, ou -1 se a pilha estiver vazia.\n",
        "        \"\"\"\n",
        "        if self.lista.primeiro is None:\n",
        "            return -1\n",
        "        return self.lista.primeiro.valor"
      ]
    },
    {
      "cell_type": "code",
      "source": [
        "# Criar uma pilha utilizando uma lista encadeada\n",
        "minha_pilha = PilhaListaEncadeada()\n",
        "\n",
        "# Empilhar valores\n",
        "minha_pilha.empilhar(10)\n",
        "minha_pilha.empilhar(20)\n",
        "minha_pilha.empilhar(30)\n",
        "\n",
        "# Verificar se a pilha está vazia\n",
        "print(f'Pilha está vazia? {minha_pilha.pilha_vazia()}')"
      ],
      "metadata": {
        "colab": {
          "base_uri": "https://localhost:8080/"
        },
        "id": "ZZ2RdA0oMNpM",
        "outputId": "5b469e0d-0f92-4659-861a-a7e4a4117fac"
      },
      "execution_count": 2,
      "outputs": [
        {
          "output_type": "stream",
          "name": "stdout",
          "text": [
            "Pilha está vazia? False\n"
          ]
        }
      ]
    },
    {
      "cell_type": "code",
      "source": [
        "# Obter o valor no topo da pilha\n",
        "topo = minha_pilha.ver_topo()\n",
        "print(f'Valor no topo da pilha: {topo}')"
      ],
      "metadata": {
        "colab": {
          "base_uri": "https://localhost:8080/"
        },
        "id": "aRe8As9sMdWM",
        "outputId": "d1794698-c5b9-4161-93e5-ab53b0416728"
      },
      "execution_count": 3,
      "outputs": [
        {
          "output_type": "stream",
          "name": "stdout",
          "text": [
            "Valor no topo da pilha: 30\n"
          ]
        }
      ]
    },
    {
      "cell_type": "code",
      "source": [
        "# Desempilhar valores\n",
        "no_desempilhado = minha_pilha.desempilhar()\n",
        "if no_desempilhado is not None:\n",
        "    print(f'Valor desempilhado: {no_desempilhado.valor}')\n",
        "\n",
        "no_desempilhado = minha_pilha.desempilhar()\n",
        "if no_desempilhado is not None:\n",
        "    print(f'Valor desempilhado: {no_desempilhado.valor}')"
      ],
      "metadata": {
        "colab": {
          "base_uri": "https://localhost:8080/"
        },
        "id": "E-rT53iRMgSt",
        "outputId": "2c40b1a8-b7e0-4aaa-efe0-205a910877f7"
      },
      "execution_count": 4,
      "outputs": [
        {
          "output_type": "stream",
          "name": "stdout",
          "text": [
            "Valor desempilhado: 30\n",
            "Valor desempilhado: 20\n"
          ]
        }
      ]
    },
    {
      "cell_type": "code",
      "source": [
        "# Verificar se a pilha está vazia após desempilhar\n",
        "print(f'Pilha está vazia? {minha_pilha.pilha_vazia()}')"
      ],
      "metadata": {
        "colab": {
          "base_uri": "https://localhost:8080/"
        },
        "id": "-YUpAyaWMkwT",
        "outputId": "137e9fd5-9b8e-475e-e279-f900ef4d4cc6"
      },
      "execution_count": 5,
      "outputs": [
        {
          "output_type": "stream",
          "name": "stdout",
          "text": [
            "Pilha está vazia? False\n"
          ]
        }
      ]
    }
  ]
}