{
  "nbformat": 4,
  "nbformat_minor": 0,
  "metadata": {
    "colab": {
      "provenance": [],
      "authorship_tag": "ABX9TyPs+gWxLlJAbxczFQbcsaS1",
      "include_colab_link": true
    },
    "kernelspec": {
      "name": "python3",
      "display_name": "Python 3"
    },
    "language_info": {
      "name": "python"
    }
  },
  "cells": [
    {
      "cell_type": "markdown",
      "metadata": {
        "id": "view-in-github",
        "colab_type": "text"
      },
      "source": [
        "<a href=\"https://colab.research.google.com/github/LUCASDNORONHA/data_structures_algorithms_python/blob/master/FilaPrioridade.ipynb\" target=\"_parent\"><img src=\"https://colab.research.google.com/assets/colab-badge.svg\" alt=\"Open In Colab\"/></a>"
      ]
    },
    {
      "cell_type": "markdown",
      "source": [
        "# **IA Expert Academy**\n",
        "\n",
        "\n",
        "---\n",
        "\n",
        "**Curso:** Estruturas de Dados e Algoritmos em Python\n",
        "\n",
        "**Aluno:** Lucas Dias Noronha"
      ],
      "metadata": {
        "id": "yCVuRXb3E7gf"
      }
    },
    {
      "cell_type": "markdown",
      "source": [
        "# Fila de Prioridade"
      ],
      "metadata": {
        "id": "lHqUq1WyFTx3"
      }
    },
    {
      "cell_type": "code",
      "execution_count": 2,
      "metadata": {
        "id": "C4E-uKiYEcQf"
      },
      "outputs": [],
      "source": [
        "import numpy as np\n",
        "\n",
        "class FilaPrioridade:\n",
        "    \"\"\"\n",
        "    Classe que representa uma fila de prioridade com capacidade especificada.\n",
        "    \"\"\"\n",
        "\n",
        "    def __init__(self, capacidade):\n",
        "        \"\"\"\n",
        "        Inicializa uma fila de prioridade com a capacidade especificada.\n",
        "\n",
        "        Args:\n",
        "            capacidade (int): A capacidade máxima da fila.\n",
        "        \"\"\"\n",
        "        self.capacidade = capacidade\n",
        "        self.numero_elementos = 0\n",
        "        self.valores = np.empty(self.capacidade, dtype=int)\n",
        "\n",
        "    def fila_vazia(self):\n",
        "        \"\"\"\n",
        "        Verifica se a fila de prioridade está vazia.\n",
        "\n",
        "        Returns:\n",
        "            bool: True se a fila estiver vazia, False caso contrário.\n",
        "        \"\"\"\n",
        "        return self.numero_elementos == 0\n",
        "\n",
        "    def fila_cheia(self):\n",
        "        \"\"\"\n",
        "        Verifica se a fila de prioridade está cheia.\n",
        "\n",
        "        Returns:\n",
        "            bool: True se a fila estiver cheia, False caso contrário.\n",
        "        \"\"\"\n",
        "        return self.numero_elementos == self.capacidade\n",
        "\n",
        "    def enfileirar(self, valor):\n",
        "        \"\"\"\n",
        "        Adiciona um valor à fila de prioridade com base em sua prioridade.\n",
        "\n",
        "        Args:\n",
        "            valor: O valor a ser enfileirado.\n",
        "        \"\"\"\n",
        "        if self.fila_cheia():\n",
        "            print('A fila está cheia')\n",
        "            return\n",
        "\n",
        "        if self.numero_elementos == 0:\n",
        "            self.valores[self.numero_elementos] = valor\n",
        "            self.numero_elementos += 1\n",
        "        else:\n",
        "            x = self.numero_elementos - 1\n",
        "            while x >= 0:\n",
        "                if valor > self.valores[x]:\n",
        "                    self.valores[x + 1] = self.valores[x]\n",
        "                else:\n",
        "                    break\n",
        "                x -= 1\n",
        "            self.valores[x + 1] = valor\n",
        "            self.numero_elementos += 1\n",
        "\n",
        "    def desenfileirar(self):\n",
        "        \"\"\"\n",
        "        Remove e retorna o valor com a maior prioridade da fila.\n",
        "\n",
        "        Returns:\n",
        "            O valor com a maior prioridade na fila, ou -1 se a fila estiver vazia.\n",
        "        \"\"\"\n",
        "        if self.fila_vazia():\n",
        "            print('A fila está vazia')\n",
        "            return -1\n",
        "\n",
        "        valor = self.valores[self.numero_elementos - 1]\n",
        "        self.numero_elementos -= 1\n",
        "        return valor\n",
        "\n",
        "    def primeiro(self):\n",
        "        \"\"\"\n",
        "        Retorna o valor com a maior prioridade na fila.\n",
        "\n",
        "        Returns:\n",
        "            O valor com a maior prioridade na fila, ou -1 se a fila estiver vazia.\n",
        "        \"\"\"\n",
        "        if self.fila_vazia():\n",
        "            return -1\n",
        "        return self.valores[self.numero_elementos - 1]\n"
      ]
    },
    {
      "cell_type": "code",
      "source": [
        "# Criar uma fila de prioridade com capacidade de 5\n",
        "minha_fila = FilaPrioridade(5)\n",
        "\n",
        "# Enfileirar valores com prioridades\n",
        "minha_fila.enfileirar(10)\n",
        "minha_fila.enfileirar(30)\n",
        "minha_fila.enfileirar(20)\n",
        "minha_fila.enfileirar(5)"
      ],
      "metadata": {
        "id": "oRaOM5qHF4jq"
      },
      "execution_count": 3,
      "outputs": []
    },
    {
      "cell_type": "code",
      "source": [
        "# Verificar se a fila de prioridade está vazia\n",
        "if minha_fila.fila_vazia():\n",
        "    print(\"A fila de prioridade está vazia\")\n",
        "else:\n",
        "    print(\"A fila de prioridade não está vazia\")"
      ],
      "metadata": {
        "colab": {
          "base_uri": "https://localhost:8080/"
        },
        "id": "mYu5B1AOF-FA",
        "outputId": "6ca753c7-5190-41df-dd84-fa100901d9ad"
      },
      "execution_count": 4,
      "outputs": [
        {
          "output_type": "stream",
          "name": "stdout",
          "text": [
            "A fila de prioridade não está vazia\n"
          ]
        }
      ]
    },
    {
      "cell_type": "code",
      "source": [
        "# Obter o primeiro elemento da fila de prioridade\n",
        "primeiro_elemento = minha_fila.primeiro()\n",
        "print(f\"O primeiro elemento da fila de prioridade é: {primeiro_elemento}\")"
      ],
      "metadata": {
        "colab": {
          "base_uri": "https://localhost:8080/"
        },
        "id": "LOlTyGC3GByP",
        "outputId": "594a3967-fcfe-44c7-96e8-753d27bd2f31"
      },
      "execution_count": 5,
      "outputs": [
        {
          "output_type": "stream",
          "name": "stdout",
          "text": [
            "O primeiro elemento da fila de prioridade é: 5\n"
          ]
        }
      ]
    },
    {
      "cell_type": "code",
      "source": [
        "# Desenfileirar valores com maior prioridade\n",
        "valor_desenfileirado = minha_fila.desenfileirar()\n",
        "print(f\"Valor desenfileirado: {valor_desenfileirado}\")"
      ],
      "metadata": {
        "colab": {
          "base_uri": "https://localhost:8080/"
        },
        "id": "gOK0QBhUGE7n",
        "outputId": "b37b5297-7179-4a03-d4b1-bd09b1e79eff"
      },
      "execution_count": 6,
      "outputs": [
        {
          "output_type": "stream",
          "name": "stdout",
          "text": [
            "Valor desenfileirado: 5\n"
          ]
        }
      ]
    },
    {
      "cell_type": "code",
      "source": [
        "# Obter o primeiro elemento da fila de prioridade novamente\n",
        "novo_primeiro_elemento = minha_fila.primeiro()\n",
        "print(f\"Novo primeiro elemento da fila de prioridade é: {novo_primeiro_elemento}\")"
      ],
      "metadata": {
        "colab": {
          "base_uri": "https://localhost:8080/"
        },
        "id": "rOBSqpwiGJOZ",
        "outputId": "bc3c0903-9345-4f13-fe37-2bed92072488"
      },
      "execution_count": 7,
      "outputs": [
        {
          "output_type": "stream",
          "name": "stdout",
          "text": [
            "Novo primeiro elemento da fila de prioridade é: 10\n"
          ]
        }
      ]
    },
    {
      "cell_type": "code",
      "source": [
        "# Enfileirar mais valores com prioridades\n",
        "minha_fila.enfileirar(15)\n",
        "minha_fila.enfileirar(25)\n",
        "\n",
        "# Desenfileirar valores adicionais\n",
        "valor_desenfileirado = minha_fila.desenfileirar()\n",
        "print(f\"Valor desenfileirado: {valor_desenfileirado}\")\n",
        "valor_desenfileirado = minha_fila.desenfileirar()\n",
        "print(f\"Valor desenfileirado: {valor_desenfileirado}\")"
      ],
      "metadata": {
        "colab": {
          "base_uri": "https://localhost:8080/"
        },
        "id": "ew1oB3LcGMIn",
        "outputId": "838b484e-3160-4171-ac2b-506d334a5c64"
      },
      "execution_count": 8,
      "outputs": [
        {
          "output_type": "stream",
          "name": "stdout",
          "text": [
            "Valor desenfileirado: 10\n",
            "Valor desenfileirado: 15\n"
          ]
        }
      ]
    },
    {
      "cell_type": "code",
      "source": [
        "# Verificar se a fila de prioridade está vazia novamente\n",
        "if minha_fila.fila_vazia():\n",
        "    print(\"A fila de prioridade está vazia\")\n",
        "else:\n",
        "    print(\"A fila de prioridade não está vazia\")"
      ],
      "metadata": {
        "colab": {
          "base_uri": "https://localhost:8080/"
        },
        "id": "PxV79cb0GRFd",
        "outputId": "6d7a3c17-d2e6-4740-d5e7-d9b3e94a32a1"
      },
      "execution_count": 9,
      "outputs": [
        {
          "output_type": "stream",
          "name": "stdout",
          "text": [
            "A fila de prioridade não está vazia\n"
          ]
        }
      ]
    }
  ]
}