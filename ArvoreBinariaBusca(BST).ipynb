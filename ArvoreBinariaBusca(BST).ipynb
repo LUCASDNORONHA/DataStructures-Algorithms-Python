{
  "nbformat": 4,
  "nbformat_minor": 0,
  "metadata": {
    "colab": {
      "provenance": [],
      "authorship_tag": "ABX9TyNR3pUe5gw0DVWO3OY/ijfL",
      "include_colab_link": true
    },
    "kernelspec": {
      "name": "python3",
      "display_name": "Python 3"
    },
    "language_info": {
      "name": "python"
    }
  },
  "cells": [
    {
      "cell_type": "markdown",
      "metadata": {
        "id": "view-in-github",
        "colab_type": "text"
      },
      "source": [
        "<a href=\"https://colab.research.google.com/github/LUCASDNORONHA/data_structures_algorithms_python/blob/master/ArvoreBinariaBusca(BST).ipynb\" target=\"_parent\"><img src=\"https://colab.research.google.com/assets/colab-badge.svg\" alt=\"Open In Colab\"/></a>"
      ]
    },
    {
      "cell_type": "markdown",
      "source": [
        "# **IA Expert Academy**\n",
        "\n",
        "\n",
        "---\n",
        "\n",
        "\n",
        "**Curso:** Estruturas de Dados e Algoritmos em Python\n",
        "\n",
        "**Aluno:** Lucas Dias Noronha"
      ],
      "metadata": {
        "id": "xvMSHAEt976V"
      }
    },
    {
      "cell_type": "markdown",
      "source": [
        "# Árvores binárias de busca"
      ],
      "metadata": {
        "id": "NbgLgMCurO1m"
      }
    },
    {
      "cell_type": "code",
      "execution_count": 50,
      "metadata": {
        "id": "K9EIhL4JnOIX"
      },
      "outputs": [],
      "source": [
        "class No:\n",
        "  def __init__(self, valor):\n",
        "    self.valor = valor\n",
        "    self.esquerda = None\n",
        "    self.direita = None\n",
        "\n",
        "  def mostra_no(self):\n",
        "    print(self.valor)\n",
        "\n",
        "class ArvoreBinariaBusca:\n",
        "  def __init__(self):\n",
        "    self.raiz = None\n",
        "    self.ligacoes = []\n",
        "\n",
        "  def inserir(self, valor):\n",
        "    novo = No(valor)\n",
        "    # Se a árvore estiver vazia\n",
        "    if self.raiz == None:\n",
        "      self.raiz = novo\n",
        "    else:\n",
        "      atual = self.raiz\n",
        "      while True:\n",
        "        pai = atual\n",
        "        # Esquerda\n",
        "        if valor < atual.valor:\n",
        "          atual = atual.esquerda\n",
        "          if atual == None:\n",
        "            pai.esquerda = novo\n",
        "            self.ligacoes.append(str(pai.valor) + '->' + str(novo.valor))\n",
        "            return\n",
        "        # Direita\n",
        "        else:\n",
        "          atual = atual.direita\n",
        "          if atual == None:\n",
        "            pai.direita = novo\n",
        "            self.ligacoes.append(str(pai.valor) + '->' + str(novo.valor))\n",
        "            return\n",
        "\n",
        "  def pesquisar(self, valor):\n",
        "    atual = self.raiz\n",
        "    while atual.valor != valor:\n",
        "      if valor < atual.valor:\n",
        "        atual = atual.esquerda\n",
        "      else:\n",
        "        atual = atual.direita\n",
        "      if atual == None:\n",
        "        return None\n",
        "    return atual\n",
        "\n",
        "  # Raiz, esquerda, direita\n",
        "  def pre_ordem(self, no):\n",
        "    if no != None:\n",
        "      print(no.valor)\n",
        "      self.pre_ordem(no.esquerda)\n",
        "      self.pre_ordem(no.direita)\n",
        "\n",
        "  # Esquerda, raiz, direita\n",
        "  def em_ordem(self, no):\n",
        "    if no != None:\n",
        "      self.em_ordem(no.esquerda)\n",
        "      print(no.valor)\n",
        "      self.em_ordem(no.direita)\n",
        "\n",
        "  # Esquerda, direita, raiz\n",
        "  def pos_ordem(self, no):\n",
        "    if no != None:\n",
        "      self.pos_ordem(no.esquerda)\n",
        "      self.pos_ordem(no.direita)\n",
        "      print(no.valor)\n",
        "\n",
        "  def excluir(self, valor):\n",
        "    if self.raiz == None:\n",
        "      print('A árvore está vazia')\n",
        "      return\n",
        "\n",
        "    # Encontrar o nó\n",
        "    atual = self.raiz\n",
        "    pai = self.raiz\n",
        "    e_esquerda = True\n",
        "    while atual.valor != valor:\n",
        "      pai = atual\n",
        "      # Esquerda\n",
        "      if valor < atual.valor:\n",
        "        e_esquerda = True\n",
        "        atual = atual.esquerda\n",
        "      # Direita\n",
        "      else:\n",
        "        e_esquerda = False\n",
        "        atual = atual.direita\n",
        "      if atual == None:\n",
        "        return False\n",
        "\n",
        "    # O nó a ser apagado é uma folha\n",
        "    if atual.esquerda == None and atual.direita == None:\n",
        "      if atual == self.raiz:\n",
        "        self.raiz = None\n",
        "      elif e_esquerda == True:\n",
        "\n",
        "        self.ligacoes.remove(str(pai.valor) + '->' + str(atual.valor))\n",
        "\n",
        "        pai.esquerda = None\n",
        "      else:\n",
        "\n",
        "        self.ligacoes.remove(str(pai.valor) + '->' + str(atual.valor))\n",
        "\n",
        "        pai.direita = None\n",
        "\n",
        "    # O nó a ser apagado não possui filho na direita\n",
        "    elif atual.direita == None:\n",
        "\n",
        "      self.ligacoes.remove(str(pai.valor) + '->' + str(atual.valor))\n",
        "      self.ligacoes.remove(str(atual.valor) + '->' + str(atual.esquerda.valor))\n",
        "\n",
        "      if atual == self.raiz:\n",
        "        self.raiz = atual.esquerda\n",
        "\n",
        "        self.ligacoes.append(str(raiz.valor) + '->' + str(atual.esquerda.valor))\n",
        "\n",
        "      elif e_esquerda == True:\n",
        "        pai.esquerda = atual.esquerda\n",
        "\n",
        "        self.ligacoes.append(str(pai.valor) + '->' + str(atual.esquerda.valor))\n",
        "\n",
        "      else:\n",
        "        pai.direita = atual.esquerda\n",
        "\n",
        "        self.ligacoes.append(str(pai.valor) + '->' + str(atual.esquerda.valor))\n",
        "\n",
        "    # O nó a ser apagado não possui filho na esquerda\n",
        "    elif atual.esquerda == None:\n",
        "\n",
        "      self.ligacoes.remove(str(pai.valor) + '->' + str(atual.valor))\n",
        "      self.ligacoes.remove(str(atual.valor) + '->' + str(atual.direita.valor))\n",
        "\n",
        "      if atual == self.raiz:\n",
        "\n",
        "        self.ligacoes.append(str(raiz.valor) + '->' + str(atual.direita.valor))\n",
        "\n",
        "        self.raiz = atual.direita\n",
        "      elif e_esquerda == True:\n",
        "\n",
        "        self.ligacoes.append(str(pai.valor) + '->' + str(atual.direita.valor))\n",
        "\n",
        "        pai.esquerda = atual.direita\n",
        "      else:\n",
        "\n",
        "        self.ligacoes.append(str(pai.valor) + '->' + str(atual.direita.valor))\n",
        "\n",
        "        pai.direita = atual.direita\n",
        "\n",
        "    # O nó possui dois filhos\n",
        "    else:\n",
        "      sucessor = self.get_sucessor(atual)\n",
        "\n",
        "      self.ligacoes.remove(str(pai.valor) + '->' + str(atual.valor))\n",
        "      self.ligacoes.remove(str(atual.direita.valor) + '->' + str(sucessor.valor))\n",
        "      self.ligacoes.remove(str(atual.valor) + '->' + str(atual.esquerda.valor))\n",
        "      self.ligacoes.remove(str(atual.valor) + '->' + str(atual.direita.valor))\n",
        "\n",
        "      if atual == self.raiz:\n",
        "\n",
        "        self.ligacoes.append(str(raiz.valor) + '->' + str(sucessor.valor))\n",
        "\n",
        "        self.raiz = sucessor\n",
        "\n",
        "      elif e_esquerda == True:\n",
        "\n",
        "        self.ligacoes.append(str(pai.valor) + '->' + str(sucessor.valor))\n",
        "\n",
        "        pai.esquerda = sucessor\n",
        "\n",
        "      else:\n",
        "\n",
        "        self.ligacoes.append(str(pai.valor) + '->' + str(sucessor.valor))\n",
        "\n",
        "        pai.direita = sucessor\n",
        "\n",
        "      self.ligacoes.append(str(sucessor.valor) + '->' + str(atual.esquerda.valor))\n",
        "      self.ligacoes.append(str(sucessor.valor) + '->' + str(atual.direita.valor))\n",
        "\n",
        "      sucessor.esquerda = atual.esquerda\n",
        "\n",
        "    return True\n",
        "\n",
        "\n",
        "\n",
        "  def get_sucessor(self, no):\n",
        "    pai_sucessor = no\n",
        "    sucessor = no\n",
        "    atual = no.direita\n",
        "    while atual != None:\n",
        "      pai_sucessor = sucessor\n",
        "      sucessor = atual\n",
        "      atual = atual.esquerda\n",
        "    if sucessor != no.direita:\n",
        "      pai_sucessor.esquerda = sucessor.direita\n",
        "      sucessor.direita = no.direita\n",
        "    return sucessor"
      ]
    },
    {
      "cell_type": "code",
      "source": [
        "arvore = ArvoreBinariaBusca()\n",
        "arvore.inserir(53)\n",
        "arvore.inserir(30)\n",
        "arvore.inserir(14)\n",
        "arvore.inserir(39)\n",
        "arvore.inserir(9)\n",
        "arvore.inserir(23)\n",
        "arvore.inserir(34)\n",
        "arvore.inserir(49)\n",
        "arvore.inserir(72)\n",
        "arvore.inserir(61)\n",
        "arvore.inserir(84)\n",
        "arvore.inserir(79)\n",
        "\n",
        "arvore.raiz.esquerda.valor"
      ],
      "metadata": {
        "colab": {
          "base_uri": "https://localhost:8080/"
        },
        "id": "MZdAyfWIsgST",
        "outputId": "880af99f-51dc-4dea-e477-796f16ef882c"
      },
      "execution_count": 55,
      "outputs": [
        {
          "output_type": "execute_result",
          "data": {
            "text/plain": [
              "30"
            ]
          },
          "metadata": {},
          "execution_count": 55
        }
      ]
    },
    {
      "cell_type": "code",
      "source": [
        "arvore.raiz.direita.valor"
      ],
      "metadata": {
        "colab": {
          "base_uri": "https://localhost:8080/"
        },
        "id": "hJN6MQpfst17",
        "outputId": "aff70a72-d3d8-46be-8a95-5e05b22ab4ff"
      },
      "execution_count": 56,
      "outputs": [
        {
          "output_type": "execute_result",
          "data": {
            "text/plain": [
              "72"
            ]
          },
          "metadata": {},
          "execution_count": 56
        }
      ]
    },
    {
      "cell_type": "code",
      "source": [
        "arvore.inserir(89)"
      ],
      "metadata": {
        "id": "N5x9cea_sw4u"
      },
      "execution_count": 57,
      "outputs": []
    },
    {
      "cell_type": "code",
      "source": [
        "arvore.ligacoes.remove('14->9')"
      ],
      "metadata": {
        "id": "oO78RUQQtCYD"
      },
      "execution_count": 58,
      "outputs": []
    },
    {
      "cell_type": "code",
      "source": [
        "arvore.ligacoes"
      ],
      "metadata": {
        "colab": {
          "base_uri": "https://localhost:8080/"
        },
        "id": "LA58LVQ_twKy",
        "outputId": "a398d520-9559-4d3a-b4e8-754dfd6d7a3b"
      },
      "execution_count": 59,
      "outputs": [
        {
          "output_type": "execute_result",
          "data": {
            "text/plain": [
              "['53->30',\n",
              " '30->14',\n",
              " '30->39',\n",
              " '14->23',\n",
              " '39->34',\n",
              " '39->49',\n",
              " '53->72',\n",
              " '72->61',\n",
              " '72->84',\n",
              " '84->79',\n",
              " '84->89']"
            ]
          },
          "metadata": {},
          "execution_count": 59
        }
      ]
    },
    {
      "cell_type": "markdown",
      "source": [
        "### **Pesquisa**"
      ],
      "metadata": {
        "id": "9BfSADcAyZr3"
      }
    },
    {
      "cell_type": "code",
      "source": [
        "arvore.pesquisar(39)"
      ],
      "metadata": {
        "colab": {
          "base_uri": "https://localhost:8080/"
        },
        "id": "1qTWyzY3x1Sj",
        "outputId": "6ca98bbd-de4d-445a-9fe2-b41efe163610"
      },
      "execution_count": 60,
      "outputs": [
        {
          "output_type": "execute_result",
          "data": {
            "text/plain": [
              "<__main__.No at 0x7d1f7c1cc430>"
            ]
          },
          "metadata": {},
          "execution_count": 60
        }
      ]
    },
    {
      "cell_type": "code",
      "source": [
        "arvore.pesquisar(84)"
      ],
      "metadata": {
        "colab": {
          "base_uri": "https://localhost:8080/"
        },
        "id": "cmKtsasbx1E8",
        "outputId": "d95bb2e1-8b0c-4532-aaa5-95921af09211"
      },
      "execution_count": 61,
      "outputs": [
        {
          "output_type": "execute_result",
          "data": {
            "text/plain": [
              "<__main__.No at 0x7d1f7c1cd000>"
            ]
          },
          "metadata": {},
          "execution_count": 61
        }
      ]
    },
    {
      "cell_type": "code",
      "source": [
        "if arvore.pesquisar(100) == None:\n",
        "  print('Elemento não localizado')\n",
        "else:\n",
        "  print('Elemento localizado')"
      ],
      "metadata": {
        "colab": {
          "base_uri": "https://localhost:8080/"
        },
        "id": "LK2nccx8x66T",
        "outputId": "14428d05-2600-4dfb-a040-215cc647fefd"
      },
      "execution_count": 62,
      "outputs": [
        {
          "output_type": "stream",
          "name": "stdout",
          "text": [
            "Elemento não localizado\n"
          ]
        }
      ]
    },
    {
      "cell_type": "markdown",
      "source": [
        "### **Ordenamentos Travessia**"
      ],
      "metadata": {
        "id": "ZJgy6rVEzTLD"
      }
    },
    {
      "cell_type": "code",
      "source": [
        "arvore.pre_ordem(arvore.raiz)"
      ],
      "metadata": {
        "colab": {
          "base_uri": "https://localhost:8080/"
        },
        "id": "s6C-dlwVx7uc",
        "outputId": "b768eaaf-138c-4430-993d-a06d990ac09c"
      },
      "execution_count": 63,
      "outputs": [
        {
          "output_type": "stream",
          "name": "stdout",
          "text": [
            "53\n",
            "30\n",
            "14\n",
            "9\n",
            "23\n",
            "39\n",
            "34\n",
            "49\n",
            "72\n",
            "61\n",
            "84\n",
            "79\n",
            "89\n"
          ]
        }
      ]
    },
    {
      "cell_type": "code",
      "source": [
        "arvore.em_ordem(arvore.raiz)"
      ],
      "metadata": {
        "colab": {
          "base_uri": "https://localhost:8080/"
        },
        "id": "h98jOpHvyDEc",
        "outputId": "d7023133-cc9e-4fe5-eb18-97dd2be522c5"
      },
      "execution_count": 64,
      "outputs": [
        {
          "output_type": "stream",
          "name": "stdout",
          "text": [
            "9\n",
            "14\n",
            "23\n",
            "30\n",
            "34\n",
            "39\n",
            "49\n",
            "53\n",
            "61\n",
            "72\n",
            "79\n",
            "84\n",
            "89\n"
          ]
        }
      ]
    },
    {
      "cell_type": "code",
      "source": [
        "arvore.pos_ordem(arvore.raiz)"
      ],
      "metadata": {
        "colab": {
          "base_uri": "https://localhost:8080/"
        },
        "id": "AsHpImpryEbb",
        "outputId": "7e55845f-fd4f-4dfa-81b7-b86ec3d5cf68"
      },
      "execution_count": 65,
      "outputs": [
        {
          "output_type": "stream",
          "name": "stdout",
          "text": [
            "9\n",
            "23\n",
            "14\n",
            "34\n",
            "49\n",
            "39\n",
            "30\n",
            "61\n",
            "79\n",
            "89\n",
            "84\n",
            "72\n",
            "53\n"
          ]
        }
      ]
    },
    {
      "cell_type": "markdown",
      "source": [
        "### **Excluir**"
      ],
      "metadata": {
        "id": "PHxJrMhKyN3X"
      }
    },
    {
      "cell_type": "code",
      "source": [
        "arvore.excluir(79)"
      ],
      "metadata": {
        "colab": {
          "base_uri": "https://localhost:8080/"
        },
        "id": "eqflxrQxyHq_",
        "outputId": "cf2a5307-f363-4580-bbdf-28c1539a139a"
      },
      "execution_count": 70,
      "outputs": [
        {
          "output_type": "execute_result",
          "data": {
            "text/plain": [
              "False"
            ]
          },
          "metadata": {},
          "execution_count": 70
        }
      ]
    },
    {
      "cell_type": "code",
      "source": [
        "arvore.ligacoes"
      ],
      "metadata": {
        "colab": {
          "base_uri": "https://localhost:8080/"
        },
        "id": "olomGCvWyicM",
        "outputId": "ba28c1bd-b98c-474b-e34d-09dc2a8d49c4"
      },
      "execution_count": 71,
      "outputs": [
        {
          "output_type": "execute_result",
          "data": {
            "text/plain": [
              "['53->30', '30->14', '30->39', '14->23', '39->34', '39->49', '84->89']"
            ]
          },
          "metadata": {},
          "execution_count": 71
        }
      ]
    },
    {
      "cell_type": "code",
      "source": [
        "arvore.excluir(23)\n",
        "arvore.ligacoes"
      ],
      "metadata": {
        "colab": {
          "base_uri": "https://localhost:8080/"
        },
        "id": "Gr-XFWLrynM2",
        "outputId": "03e60650-4c53-4f88-d2bd-4884f19c6b66"
      },
      "execution_count": 74,
      "outputs": [
        {
          "output_type": "execute_result",
          "data": {
            "text/plain": [
              "['53->30', '30->39', '39->34', '39->49', '84->89']"
            ]
          },
          "metadata": {},
          "execution_count": 74
        }
      ]
    },
    {
      "cell_type": "code",
      "source": [
        "arvore.get_sucessor(arvore.raiz).valor"
      ],
      "metadata": {
        "colab": {
          "base_uri": "https://localhost:8080/"
        },
        "id": "vyhdd8Ij0Ud7",
        "outputId": "0e19390f-54bb-481e-d499-eb6b8f884ac9"
      },
      "execution_count": 76,
      "outputs": [
        {
          "output_type": "execute_result",
          "data": {
            "text/plain": [
              "72"
            ]
          },
          "metadata": {},
          "execution_count": 76
        }
      ]
    },
    {
      "cell_type": "markdown",
      "source": [
        "### **Outro exemplo**"
      ],
      "metadata": {
        "id": "sZHtfeGB0qfX"
      }
    },
    {
      "cell_type": "code",
      "source": [
        "class No:\n",
        "  def __init__(self, valor):\n",
        "    self.valor = valor\n",
        "    self.esquerda = None\n",
        "    self.direita = None\n",
        "\n",
        "class ArvoreBinariaBusca:\n",
        "  def __init__(self):\n",
        "    self.raiz = None\n",
        "\n",
        "  def inserir(self, valor):\n",
        "    novo = No(valor)\n",
        "    if self.raiz is None:\n",
        "      self.raiz = novo\n",
        "    else:\n",
        "      self._inserir_recursivamente(self.raiz, novo)\n",
        "\n",
        "  def _inserir_recursivamente(self, no, novo):\n",
        "    if novo.valor < no.valor:\n",
        "      if no.esquerda is None:\n",
        "        no.esquerda = novo\n",
        "      else:\n",
        "        self._inserir_recursivamente(no.esquerda, novo)\n",
        "    else:\n",
        "      if no.direita is None:\n",
        "        no.direita = novo\n",
        "      else:\n",
        "        self._inserir_recursivamente(no.direita, novo)\n",
        "\n",
        "  def pesquisar(self, valor):\n",
        "    return self._pesquisar_recursivamente(self.raiz, valor)\n",
        "\n",
        "  def _pesquisar_recursivamente(self, no, valor):\n",
        "    if no is None:\n",
        "      return None\n",
        "    if valor == no.valor:\n",
        "      return no\n",
        "    if valor < no.valor:\n",
        "      return self._pesquisar_recursivamente(no.esquerda, valor)\n",
        "    else:\n",
        "      return self._pesquisar_recursivamente(no.direita, valor)\n",
        "\n",
        "  def pre_ordem(self, no):\n",
        "    if no is not None:\n",
        "      print(no.valor)\n",
        "      self.pre_ordem(no.esquerda)\n",
        "      self.pre_ordem(no.direita)\n",
        "\n",
        "  def em_ordem(self, no):\n",
        "    if no is not None:\n",
        "      self.em_ordem(no.esquerda)\n",
        "      print(no.valor)\n",
        "      self.em_ordem(no.direita)\n",
        "\n",
        "  def pos_ordem(self, no):\n",
        "    if no is not None:\n",
        "      self.pos_ordem(no.esquerda)\n",
        "      self.pos_ordem(no.direita)\n",
        "      print(no.valor)\n",
        "\n",
        "  def excluir(self, valor):\n",
        "    self.raiz, removido = self._excluir_recursivamente(self.raiz, valor)\n",
        "    return removido\n",
        "\n",
        "  def _excluir_recursivamente(self, no, valor):\n",
        "    if no is None:\n",
        "      return no, False\n",
        "\n",
        "    if valor < no.valor:\n",
        "      no.esquerda, removido = self._excluir_recursivamente(no.esquerda, valor)\n",
        "    elif valor > no.valor:\n",
        "      no.direita, removido = self._excluir_recursivamente(no.direita, valor)\n",
        "    else:\n",
        "      removido = True\n",
        "      if no.esquerda is None:\n",
        "        return no.direita, removido\n",
        "      elif no.direita is None:\n",
        "        return no.esquerda, removido\n",
        "      min_valor = self._encontrar_min_valor(no.direita)\n",
        "      no.valor = min_valor\n",
        "      no.direita, _ = self._excluir_recursivamente(no.direita, min_valor)\n",
        "    return no, removido\n",
        "\n",
        "  def _encontrar_min_valor(self, no):\n",
        "    while no.esquerda is not None:\n",
        "      no = no.esquerda\n",
        "    return no.valor"
      ],
      "metadata": {
        "id": "QmmRa3PSsajV"
      },
      "execution_count": 22,
      "outputs": []
    },
    {
      "cell_type": "code",
      "source": [
        "# Criar uma árvore binária de busca\n",
        "arvore = ArvoreBinariaBusca()\n",
        "\n",
        "# Inserir elementos na árvore\n",
        "elementos = [50, 30, 70, 20, 40, 60, 80]\n",
        "for elemento in elementos:\n",
        "    arvore.inserir(elemento)"
      ],
      "metadata": {
        "id": "XDXZosUJt7jz"
      },
      "execution_count": null,
      "outputs": []
    },
    {
      "cell_type": "code",
      "source": [
        "# Realizar uma pesquisa\n",
        "elemento_pesquisado = 40\n",
        "resultado_pesquisa = arvore.pesquisar(elemento_pesquisado)\n",
        "if resultado_pesquisa:\n",
        "    print(f\"Elemento {elemento_pesquisado} encontrado na árvore.\")\n",
        "else:\n",
        "    print(f\"Elemento {elemento_pesquisado} não encontrado na árvore.\")"
      ],
      "metadata": {
        "colab": {
          "base_uri": "https://localhost:8080/"
        },
        "id": "q43C2W96uA9L",
        "outputId": "a19fc726-5c72-47af-c5c1-d8a599aac3ce"
      },
      "execution_count": 23,
      "outputs": [
        {
          "output_type": "stream",
          "name": "stdout",
          "text": [
            "Elemento 40 não encontrado na árvore.\n"
          ]
        }
      ]
    },
    {
      "cell_type": "code",
      "source": [
        "# Exibir a árvore em ordem\n",
        "print(\"Árvore em ordem (in-order):\")\n",
        "arvore.em_ordem(arvore.raiz)"
      ],
      "metadata": {
        "colab": {
          "base_uri": "https://localhost:8080/"
        },
        "id": "h9CSWFBHuEiU",
        "outputId": "d13701fd-95fe-4df4-9af3-4ed2694451ad"
      },
      "execution_count": 24,
      "outputs": [
        {
          "output_type": "stream",
          "name": "stdout",
          "text": [
            "Árvore em ordem (in-order):\n",
            "9\n",
            "14\n",
            "23\n",
            "30\n",
            "34\n",
            "39\n",
            "49\n",
            "53\n",
            "61\n",
            "72\n",
            "79\n",
            "84\n",
            "89\n",
            "89\n"
          ]
        }
      ]
    },
    {
      "cell_type": "code",
      "source": [
        "# Excluir um elemento\n",
        "elemento_a_excluir = 30\n",
        "removido = arvore.excluir(elemento_a_excluir)\n",
        "if removido:\n",
        "    print(f\"Elemento {elemento_a_excluir} removido da árvore.\")\n",
        "else:\n",
        "    print(f\"Elemento {elemento_a_excluir} não encontrado na árvore.\")"
      ],
      "metadata": {
        "colab": {
          "base_uri": "https://localhost:8080/"
        },
        "id": "MJvaGbXVuGwb",
        "outputId": "bb7eedbe-ee87-4cd2-da0b-5c56a29132d3"
      },
      "execution_count": 25,
      "outputs": [
        {
          "output_type": "stream",
          "name": "stdout",
          "text": [
            "Elemento 30 removido da árvore.\n"
          ]
        }
      ]
    },
    {
      "cell_type": "code",
      "source": [
        "# Exibir a árvore em ordem novamente\n",
        "print(\"Árvore em ordem após a exclusão:\")\n",
        "arvore.em_ordem(arvore.raiz)"
      ],
      "metadata": {
        "colab": {
          "base_uri": "https://localhost:8080/"
        },
        "id": "eN4fCvIjuJgd",
        "outputId": "63e5fbe0-c6f8-4a13-cdef-8b80df1115c4"
      },
      "execution_count": 26,
      "outputs": [
        {
          "output_type": "stream",
          "name": "stdout",
          "text": [
            "Árvore em ordem após a exclusão:\n",
            "9\n",
            "14\n",
            "23\n",
            "34\n",
            "39\n",
            "49\n",
            "53\n",
            "61\n",
            "72\n",
            "79\n",
            "84\n",
            "89\n",
            "89\n"
          ]
        }
      ]
    }
  ]
}