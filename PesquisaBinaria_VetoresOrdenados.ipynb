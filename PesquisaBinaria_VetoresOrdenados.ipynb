{
  "nbformat": 4,
  "nbformat_minor": 0,
  "metadata": {
    "colab": {
      "provenance": [],
      "authorship_tag": "ABX9TyM8hyVLTQNah6gTvjYM/Rnd",
      "include_colab_link": true
    },
    "kernelspec": {
      "name": "python3",
      "display_name": "Python 3"
    },
    "language_info": {
      "name": "python"
    }
  },
  "cells": [
    {
      "cell_type": "markdown",
      "metadata": {
        "id": "view-in-github",
        "colab_type": "text"
      },
      "source": [
        "<a href=\"https://colab.research.google.com/github/LUCASDNORONHA/data_structures_algorithms_python/blob/master/PesquisaBinaria_VetoresOrdenados.ipynb\" target=\"_parent\"><img src=\"https://colab.research.google.com/assets/colab-badge.svg\" alt=\"Open In Colab\"/></a>"
      ]
    },
    {
      "cell_type": "markdown",
      "source": [
        "# **IA Expert Academy**\n",
        "\n",
        "\n",
        "---\n",
        "\n",
        "**Curso:** Estruturas de Dados e Algoritmos em Python\n",
        "\n",
        "**Aluno:** Lucas Dias Noronha"
      ],
      "metadata": {
        "id": "YhTV_2fjeyUh"
      }
    },
    {
      "cell_type": "markdown",
      "source": [
        "# Pesquisa Binária em Vetores Ordenados"
      ],
      "metadata": {
        "id": "3ng-KhPwfHaO"
      }
    },
    {
      "cell_type": "code",
      "execution_count": 11,
      "metadata": {
        "id": "Q9HZChUvbA2v"
      },
      "outputs": [],
      "source": [
        "import numpy as np\n",
        "\n",
        "class VetorOrdenado:\n",
        "    def __init__(self, capacidade):\n",
        "        self.capacidade = capacidade\n",
        "        self.ultima_posicao = -1\n",
        "        self.valores = np.empty(self.capacidade, dtype=int)\n",
        "\n",
        "    # O(n)\n",
        "    def imprime(self):\n",
        "        if self.ultima_posicao == -1:\n",
        "            print('O vetor está vazio')\n",
        "        else:\n",
        "            for i in range(self.ultima_posicao + 1):\n",
        "                print(i, ' - ', self.valores[i])\n",
        "\n",
        "    # O(n)\n",
        "    def insere(self, valor):\n",
        "        if self.ultima_posicao == self.capacidade - 1:\n",
        "            print('Capacidade máxima atingida')\n",
        "            return\n",
        "\n",
        "        posicao = 0\n",
        "        for i in range(self.ultima_posicao + 1):\n",
        "            posicao = i\n",
        "            if self.valores[i] > valor:\n",
        "                break\n",
        "            if i == self.ultima_posicao:\n",
        "                posicao = i + 1\n",
        "\n",
        "        for x in range(self.ultima_posicao, posicao - 1, -1):\n",
        "            self.valores[x + 1] = self.valores[x]\n",
        "\n",
        "        self.valores[posicao] = valor\n",
        "        self.ultima_posicao += 1\n",
        "\n",
        "    # O(log n)\n",
        "    def pesquisa_binaria(self, valor):\n",
        "        limite_inferior = 0\n",
        "        limite_superior = self.ultima_posicao\n",
        "\n",
        "        while limite_inferior <= limite_superior:\n",
        "            posicao_atual = (limite_inferior + limite_superior) // 2\n",
        "            if self.valores[posicao_atual] == valor:\n",
        "                return posicao_atual\n",
        "            elif self.valores[posicao_atual] < valor:\n",
        "                limite_inferior = posicao_atual + 1\n",
        "            else:\n",
        "                limite_superior = posicao_atual - 1\n",
        "\n",
        "        return -1\n",
        "\n",
        "    def excluir(self, valor):\n",
        "        posicao = self.pesquisa_binaria(valor)\n",
        "        if posicao == -1:\n",
        "            return -1\n",
        "        else:\n",
        "            for i in range(posicao, self.ultima_posicao):\n",
        "                self.valores[i] = self.valores[i + 1]\n",
        "\n",
        "            self.ultima_posicao -= 1"
      ]
    },
    {
      "cell_type": "code",
      "source": [
        "vetor =  VetorOrdenado(10)\n",
        "vetor.insere(8)\n",
        "vetor.insere(9)\n",
        "vetor.insere(4)\n",
        "vetor.insere(1)\n",
        "vetor.insere(5)\n",
        "vetor.insere(7)\n",
        "vetor.insere(11)\n",
        "vetor.insere(13)\n",
        "vetor.insere(2)\n",
        "vetor.imprime()"
      ],
      "metadata": {
        "colab": {
          "base_uri": "https://localhost:8080/"
        },
        "id": "LGfSV96sh_IC",
        "outputId": "e37311c5-3382-415f-cc24-4fa10dfc941e"
      },
      "execution_count": 12,
      "outputs": [
        {
          "output_type": "stream",
          "name": "stdout",
          "text": [
            "0  -  1\n",
            "1  -  2\n",
            "2  -  4\n",
            "3  -  5\n",
            "4  -  7\n",
            "5  -  8\n",
            "6  -  9\n",
            "7  -  11\n",
            "8  -  13\n"
          ]
        }
      ]
    },
    {
      "cell_type": "code",
      "source": [
        "vetor.pesquisa_binaria(7)"
      ],
      "metadata": {
        "colab": {
          "base_uri": "https://localhost:8080/"
        },
        "id": "WQn_COHLin0B",
        "outputId": "4442d0ca-e86c-43e6-ea76-ae29e3f99350"
      },
      "execution_count": 13,
      "outputs": [
        {
          "output_type": "execute_result",
          "data": {
            "text/plain": [
              "4"
            ]
          },
          "metadata": {},
          "execution_count": 13
        }
      ]
    },
    {
      "cell_type": "code",
      "source": [
        "vetor.pesquisa_binaria(5)"
      ],
      "metadata": {
        "colab": {
          "base_uri": "https://localhost:8080/"
        },
        "id": "U7TquD4tit0-",
        "outputId": "ec60f7d8-e641-45d4-c9f7-69007ab224be"
      },
      "execution_count": 14,
      "outputs": [
        {
          "output_type": "execute_result",
          "data": {
            "text/plain": [
              "3"
            ]
          },
          "metadata": {},
          "execution_count": 14
        }
      ]
    },
    {
      "cell_type": "code",
      "source": [
        "vetor.pesquisa_binaria(13)"
      ],
      "metadata": {
        "colab": {
          "base_uri": "https://localhost:8080/"
        },
        "id": "mpWGtfxIixf2",
        "outputId": "cdca5ebb-aace-4a9c-ec4e-575a40068171"
      },
      "execution_count": 15,
      "outputs": [
        {
          "output_type": "execute_result",
          "data": {
            "text/plain": [
              "8"
            ]
          },
          "metadata": {},
          "execution_count": 15
        }
      ]
    },
    {
      "cell_type": "code",
      "source": [
        "vetor.pesquisa_binaria(20)"
      ],
      "metadata": {
        "colab": {
          "base_uri": "https://localhost:8080/"
        },
        "id": "yzVyo3Jfi2SN",
        "outputId": "68f06f10-94d5-4000-fc12-d3954302a504"
      },
      "execution_count": 16,
      "outputs": [
        {
          "output_type": "execute_result",
          "data": {
            "text/plain": [
              "-1"
            ]
          },
          "metadata": {},
          "execution_count": 16
        }
      ]
    }
  ]
}