{
  "nbformat": 4,
  "nbformat_minor": 0,
  "metadata": {
    "colab": {
      "provenance": [],
      "authorship_tag": "ABX9TyN5eqEYT1q2IWjVOGaYymF/",
      "include_colab_link": true
    },
    "kernelspec": {
      "name": "python3",
      "display_name": "Python 3"
    },
    "language_info": {
      "name": "python"
    }
  },
  "cells": [
    {
      "cell_type": "markdown",
      "metadata": {
        "id": "view-in-github",
        "colab_type": "text"
      },
      "source": [
        "<a href=\"https://colab.research.google.com/github/LUCASDNORONHA/data_structures_algorithms_python/blob/master/AlgoritmosOrdenacao.ipynb\" target=\"_parent\"><img src=\"https://colab.research.google.com/assets/colab-badge.svg\" alt=\"Open In Colab\"/></a>"
      ]
    },
    {
      "cell_type": "markdown",
      "source": [
        "# **IA Expert Academy**\n",
        "\n",
        "\n",
        "---\n",
        "\n",
        "**Curso:** Estruturas de Dados e Algoritmos em Python\n",
        "\n",
        "**Alunos:** Lucas Dias Noronha"
      ],
      "metadata": {
        "id": "zMENXSldZt11"
      }
    },
    {
      "cell_type": "markdown",
      "source": [
        "# Algoritmos de Ordenação"
      ],
      "metadata": {
        "id": "jc4gLl9bZvLb"
      }
    },
    {
      "cell_type": "markdown",
      "source": [
        "## Bubble Sort"
      ],
      "metadata": {
        "id": "1KvW3tF7Zzeb"
      }
    },
    {
      "cell_type": "code",
      "execution_count": 4,
      "metadata": {
        "id": "Hj_tiMQdUA-X"
      },
      "outputs": [],
      "source": [
        "def bubble_sort(vetor):\n",
        "    # Cria uma cópia do vetor para não modificar o original\n",
        "    vetor_ordenado = vetor.copy()\n",
        "    n = len(vetor_ordenado)\n",
        "\n",
        "    for i in range(n):\n",
        "        for j in range(0, n - i - 1):\n",
        "            if vetor_ordenado[j] > vetor_ordenado[j + 1]:\n",
        "                vetor_ordenado[j], vetor_ordenado[j + 1] = vetor_ordenado[j + 1], vetor_ordenado[j]\n",
        "\n",
        "    return vetor_ordenado\n"
      ]
    },
    {
      "cell_type": "code",
      "source": [
        "import numpy as np\n",
        "\n",
        "bubble_sort(np.array([15, 34, 8, 3]))"
      ],
      "metadata": {
        "colab": {
          "base_uri": "https://localhost:8080/"
        },
        "id": "Hq0QP3aFaA7r",
        "outputId": "03fae6ca-335e-45af-9522-95bed080519e"
      },
      "execution_count": 7,
      "outputs": [
        {
          "output_type": "execute_result",
          "data": {
            "text/plain": [
              "array([ 3,  8, 15, 34])"
            ]
          },
          "metadata": {},
          "execution_count": 7
        }
      ]
    },
    {
      "cell_type": "code",
      "source": [
        "bubble_sort(np.array([10, 9, 8, 7, 6, 5, 4, 3, 2, 1]))"
      ],
      "metadata": {
        "colab": {
          "base_uri": "https://localhost:8080/"
        },
        "id": "-o2LlEHLaC4c",
        "outputId": "781a2b7f-9fdb-40ee-d19d-0cf3cf6d595d"
      },
      "execution_count": 8,
      "outputs": [
        {
          "output_type": "execute_result",
          "data": {
            "text/plain": [
              "array([ 1,  2,  3,  4,  5,  6,  7,  8,  9, 10])"
            ]
          },
          "metadata": {},
          "execution_count": 8
        }
      ]
    },
    {
      "cell_type": "code",
      "source": [
        "vetor = np.array([64, 34, 25, 12, 22, 11, 90])\n",
        "vetor_ordenado = bubble_sort(vetor)\n",
        "print(vetor_ordenado)"
      ],
      "metadata": {
        "colab": {
          "base_uri": "https://localhost:8080/"
        },
        "id": "ZSFLN9gCamLu",
        "outputId": "324d0e3d-7a35-4613-a255-8ee0cb486f7d"
      },
      "execution_count": 9,
      "outputs": [
        {
          "output_type": "stream",
          "name": "stdout",
          "text": [
            "[11 12 22 25 34 64 90]\n"
          ]
        }
      ]
    },
    {
      "cell_type": "markdown",
      "source": [
        "## Selection Sort"
      ],
      "metadata": {
        "id": "UkL2pi7ha4W8"
      }
    },
    {
      "cell_type": "code",
      "source": [
        "def selection_sort(vetor):\n",
        "    n = len(vetor)\n",
        "\n",
        "    for i in range(n):\n",
        "        id_minimo = i\n",
        "        for j in range(i + 1, n):\n",
        "            if vetor[j] < vetor[id_minimo]:\n",
        "                id_minimo = j\n",
        "        vetor[i], vetor[id_minimo] = vetor[id_minimo], vetor[i]\n",
        "\n",
        "    return vetor"
      ],
      "metadata": {
        "id": "tI9KlKZhbB8u"
      },
      "execution_count": 10,
      "outputs": []
    },
    {
      "cell_type": "code",
      "source": [
        "selection_sort(np.array([15, 34, 8, 3]))"
      ],
      "metadata": {
        "colab": {
          "base_uri": "https://localhost:8080/"
        },
        "id": "CdHa4AB5dKe0",
        "outputId": "6b5a54c1-e15c-49d8-a654-91008fd00c72"
      },
      "execution_count": 11,
      "outputs": [
        {
          "output_type": "execute_result",
          "data": {
            "text/plain": [
              "array([ 3,  8, 15, 34])"
            ]
          },
          "metadata": {},
          "execution_count": 11
        }
      ]
    },
    {
      "cell_type": "code",
      "source": [
        "selection_sort(np.array([10, 9, 8, 7, 6, 5, 4, 3, 2, 1]))"
      ],
      "metadata": {
        "colab": {
          "base_uri": "https://localhost:8080/"
        },
        "id": "hBv8MjzQdNAl",
        "outputId": "44a184ef-60df-419c-e9b1-ab0b0058f636"
      },
      "execution_count": 12,
      "outputs": [
        {
          "output_type": "execute_result",
          "data": {
            "text/plain": [
              "array([ 1,  2,  3,  4,  5,  6,  7,  8,  9, 10])"
            ]
          },
          "metadata": {},
          "execution_count": 12
        }
      ]
    },
    {
      "cell_type": "code",
      "source": [
        "vetor = [64, 34, 25, 12, 22, 11, 90]\n",
        "vetor_ordenado = selection_sort(vetor)\n",
        "print(vetor_ordenado)"
      ],
      "metadata": {
        "colab": {
          "base_uri": "https://localhost:8080/"
        },
        "id": "ZQ1p9VyDdQC9",
        "outputId": "7b2703f3-41ca-4106-b5e9-52d8433c7915"
      },
      "execution_count": 13,
      "outputs": [
        {
          "output_type": "stream",
          "name": "stdout",
          "text": [
            "[11, 12, 22, 25, 34, 64, 90]\n"
          ]
        }
      ]
    },
    {
      "cell_type": "markdown",
      "source": [
        "## Insertion Sort"
      ],
      "metadata": {
        "id": "rQsjGDg_dWoF"
      }
    },
    {
      "cell_type": "code",
      "source": [
        "def insertion_sort(vetor):\n",
        "    n = len(vetor)\n",
        "\n",
        "    for i in range(1, n):\n",
        "        marcado = vetor[i]\n",
        "\n",
        "        j = i - 1\n",
        "        while j >= 0 and marcado < vetor[j]:\n",
        "            vetor[j + 1] = vetor[j]\n",
        "            j -= 1\n",
        "        vetor[j + 1] = marcado\n",
        "\n",
        "    return vetor"
      ],
      "metadata": {
        "id": "e9bGpaPgf7_R"
      },
      "execution_count": 14,
      "outputs": []
    },
    {
      "cell_type": "code",
      "source": [
        "insertion_sort(np.array([15, 34, 8, 3]))"
      ],
      "metadata": {
        "colab": {
          "base_uri": "https://localhost:8080/"
        },
        "id": "tFv1JOQZgAQ1",
        "outputId": "3b671a14-99e1-43f0-8293-71811ba8796b"
      },
      "execution_count": 15,
      "outputs": [
        {
          "output_type": "execute_result",
          "data": {
            "text/plain": [
              "array([ 3,  8, 15, 34])"
            ]
          },
          "metadata": {},
          "execution_count": 15
        }
      ]
    },
    {
      "cell_type": "code",
      "source": [
        "insertion_sort(np.array([10, 9, 8, 7, 6, 5, 4, 3, 2, 1]))"
      ],
      "metadata": {
        "colab": {
          "base_uri": "https://localhost:8080/"
        },
        "id": "n4lIeFUDgDVT",
        "outputId": "15f34abe-d0e7-4305-9774-843ab863d1ab"
      },
      "execution_count": 16,
      "outputs": [
        {
          "output_type": "execute_result",
          "data": {
            "text/plain": [
              "array([ 1,  2,  3,  4,  5,  6,  7,  8,  9, 10])"
            ]
          },
          "metadata": {},
          "execution_count": 16
        }
      ]
    },
    {
      "cell_type": "code",
      "source": [
        "vetor = [64, 34, 25, 12, 22, 11, 90]\n",
        "vetor_ordenado = insertion_sort(vetor)\n",
        "print(vetor_ordenado)"
      ],
      "metadata": {
        "colab": {
          "base_uri": "https://localhost:8080/"
        },
        "id": "RtbxKy_BgG0b",
        "outputId": "5dfedf07-2e59-491a-f5d6-f8355b829ee4"
      },
      "execution_count": 17,
      "outputs": [
        {
          "output_type": "stream",
          "name": "stdout",
          "text": [
            "[11, 12, 22, 25, 34, 64, 90]\n"
          ]
        }
      ]
    },
    {
      "cell_type": "markdown",
      "source": [
        "## Shell Sort"
      ],
      "metadata": {
        "id": "WpFkH3oKgMr0"
      }
    },
    {
      "cell_type": "code",
      "source": [
        "def shell_sort(vetor):\n",
        "    n = len(vetor)\n",
        "    intervalo = n // 2  # Inicialize o intervalo com metade do tamanho do vetor\n",
        "\n",
        "    while intervalo > 0:\n",
        "        for i in range(intervalo, n):\n",
        "            temp = vetor[i]\n",
        "            j = i\n",
        "\n",
        "            # Faça a inserção com o intervalo apropriado\n",
        "            while j >= intervalo and vetor[j - intervalo] > temp:\n",
        "                vetor[j] = vetor[j - intervalo]\n",
        "                j -= intervalo\n",
        "\n",
        "            vetor[j] = temp  # Inserir o elemento marcado na posição correta\n",
        "\n",
        "        intervalo //= 2  # Reduza o intervalo pela metade\n",
        "\n",
        "    return vetor"
      ],
      "metadata": {
        "id": "EzfUlhitgWPg"
      },
      "execution_count": 18,
      "outputs": []
    },
    {
      "cell_type": "code",
      "source": [
        "shell_sort(np.array([15, 34, 8, 3]))"
      ],
      "metadata": {
        "colab": {
          "base_uri": "https://localhost:8080/"
        },
        "id": "lbwsppiKhBhr",
        "outputId": "6758ae37-4c8a-400e-d14f-8c4596879134"
      },
      "execution_count": 19,
      "outputs": [
        {
          "output_type": "execute_result",
          "data": {
            "text/plain": [
              "array([ 3,  8, 15, 34])"
            ]
          },
          "metadata": {},
          "execution_count": 19
        }
      ]
    },
    {
      "cell_type": "code",
      "source": [
        "shell_sort(np.array([10, 9, 8, 7, 6, 5, 4, 3, 2, 1]))"
      ],
      "metadata": {
        "colab": {
          "base_uri": "https://localhost:8080/"
        },
        "id": "3YlI92vzhCuF",
        "outputId": "2be33e0d-7d3c-4128-c17c-5da048a4aa52"
      },
      "execution_count": 20,
      "outputs": [
        {
          "output_type": "execute_result",
          "data": {
            "text/plain": [
              "array([ 1,  2,  3,  4,  5,  6,  7,  8,  9, 10])"
            ]
          },
          "metadata": {},
          "execution_count": 20
        }
      ]
    },
    {
      "cell_type": "code",
      "source": [
        "shell_sort(np.array([8,5,1,4,2,3]))"
      ],
      "metadata": {
        "colab": {
          "base_uri": "https://localhost:8080/"
        },
        "id": "VcOdm3mghFR8",
        "outputId": "39dd0b05-c25d-40aa-8224-c568793eae11"
      },
      "execution_count": 21,
      "outputs": [
        {
          "output_type": "execute_result",
          "data": {
            "text/plain": [
              "array([1, 2, 3, 4, 5, 8])"
            ]
          },
          "metadata": {},
          "execution_count": 21
        }
      ]
    },
    {
      "cell_type": "code",
      "source": [
        "vetor = [64, 34, 25, 12, 22, 11, 90]\n",
        "vetor_ordenado = shell_sort(vetor)\n",
        "print(vetor_ordenado)"
      ],
      "metadata": {
        "colab": {
          "base_uri": "https://localhost:8080/"
        },
        "id": "-KLrf5m1hOVS",
        "outputId": "5d32e441-8574-49b1-a500-7b036ea00066"
      },
      "execution_count": 22,
      "outputs": [
        {
          "output_type": "stream",
          "name": "stdout",
          "text": [
            "[11, 12, 22, 25, 34, 64, 90]\n"
          ]
        }
      ]
    },
    {
      "cell_type": "markdown",
      "source": [
        "## Merge Sort"
      ],
      "metadata": {
        "id": "rgjUvet4hV0V"
      }
    },
    {
      "cell_type": "code",
      "source": [
        "def merge_sort(vetor):\n",
        "    if len(vetor) > 1:\n",
        "        divisao = len(vetor) // 2\n",
        "        esquerda = vetor[:divisao]\n",
        "        direita = vetor[divisao:]\n",
        "\n",
        "        merge_sort(esquerda)\n",
        "        merge_sort(direita)\n",
        "\n",
        "        i = j = k = 0\n",
        "\n",
        "        # Combinação das sublistas ordenadas\n",
        "        while i < len(esquerda) and j < len(direita):\n",
        "            if esquerda[i] < direita[j]:\n",
        "                vetor[k] = esquerda[i]\n",
        "                i += 1\n",
        "            else:\n",
        "                vetor[k] = direita[j]\n",
        "                j += 1\n",
        "            k += 1\n",
        "\n",
        "        # Verifica se há elementos restantes em esquerda e direita\n",
        "        while i < len(esquerda):\n",
        "            vetor[k] = esquerda[i]\n",
        "            i += 1\n",
        "            k += 1\n",
        "        while j < len(direita):\n",
        "            vetor[k] = direita[j]\n",
        "            j += 1\n",
        "            k += 1\n",
        "\n",
        "    return vetor"
      ],
      "metadata": {
        "id": "E6v0Z30uhbnT"
      },
      "execution_count": 26,
      "outputs": []
    },
    {
      "cell_type": "code",
      "source": [
        "merge_sort(np.array([15, 34, 8, 3]))"
      ],
      "metadata": {
        "colab": {
          "base_uri": "https://localhost:8080/"
        },
        "id": "jvFvOiCehkIb",
        "outputId": "edbd85a5-8065-4f79-d3fb-5a41a5a6290f"
      },
      "execution_count": 27,
      "outputs": [
        {
          "output_type": "execute_result",
          "data": {
            "text/plain": [
              "array([3, 3, 3, 3])"
            ]
          },
          "metadata": {},
          "execution_count": 27
        }
      ]
    },
    {
      "cell_type": "code",
      "source": [
        "merge_sort(np.array([10, 9, 8, 7, 6, 5, 4, 3, 2, 1]))"
      ],
      "metadata": {
        "colab": {
          "base_uri": "https://localhost:8080/"
        },
        "id": "PdYl2Xrfh4vG",
        "outputId": "57a8cb3f-31c4-4f66-9c9a-a4737f5c8e40"
      },
      "execution_count": 28,
      "outputs": [
        {
          "output_type": "execute_result",
          "data": {
            "text/plain": [
              "array([1, 1, 1, 1, 1, 1, 1, 1, 1, 1])"
            ]
          },
          "metadata": {},
          "execution_count": 28
        }
      ]
    },
    {
      "cell_type": "code",
      "source": [
        "merge_sort(np.array([38, 27, 43, 3, 9, 82, 10]))"
      ],
      "metadata": {
        "colab": {
          "base_uri": "https://localhost:8080/"
        },
        "id": "wJhqwrnbh720",
        "outputId": "bcf83f3c-97c3-48b2-d3fc-75c46ffb1d9f"
      },
      "execution_count": 29,
      "outputs": [
        {
          "output_type": "execute_result",
          "data": {
            "text/plain": [
              "array([ 3,  3,  3,  3,  9, 10, 10])"
            ]
          },
          "metadata": {},
          "execution_count": 29
        }
      ]
    },
    {
      "cell_type": "code",
      "source": [
        "vetor = [64, 34, 25, 12, 22, 11, 90]\n",
        "vetor_ordenado = merge_sort(vetor)\n",
        "print(vetor_ordenado)"
      ],
      "metadata": {
        "colab": {
          "base_uri": "https://localhost:8080/"
        },
        "id": "3sehbWWFiGWY",
        "outputId": "275c78f7-7143-4aa7-9b29-fd1c0fdf2398"
      },
      "execution_count": 30,
      "outputs": [
        {
          "output_type": "stream",
          "name": "stdout",
          "text": [
            "[11, 12, 22, 25, 34, 64, 90]\n"
          ]
        }
      ]
    },
    {
      "cell_type": "markdown",
      "source": [
        "## Quick Sort"
      ],
      "metadata": {
        "id": "Ql_v6SzZiTUj"
      }
    },
    {
      "cell_type": "code",
      "source": [
        "def particao(vetor, inicio, final):\n",
        "    pivo = vetor[final]\n",
        "    i = inicio - 1\n",
        "\n",
        "    for j in range(inicio, final):\n",
        "        if vetor[j] <= pivo:\n",
        "            i += 1\n",
        "            vetor[i], vetor[j] = vetor[j], vetor[i]\n",
        "\n",
        "    vetor[i + 1], vetor[final] = vetor[final], vetor[i + 1]\n",
        "    return i + 1\n",
        "\n",
        "def quick_sort(vetor, inicio, final):\n",
        "    if inicio < final:\n",
        "        posicao = particao(vetor, inicio, final)\n",
        "\n",
        "        # Ordenação à esquerda e à direita do pivo\n",
        "        quick_sort(vetor, inicio, posicao - 1)\n",
        "        quick_sort(vetor, posicao + 1, final)\n",
        "\n",
        "    return vetor"
      ],
      "metadata": {
        "id": "g0dpP9z7iHuU"
      },
      "execution_count": 31,
      "outputs": []
    },
    {
      "cell_type": "code",
      "source": [
        "vetor = np.array([15, 34, 8, 3])\n",
        "quick_sort(vetor, 0, len(vetor) - 1)"
      ],
      "metadata": {
        "colab": {
          "base_uri": "https://localhost:8080/"
        },
        "id": "HqNH4S2Oidjk",
        "outputId": "2268f665-5345-40b3-f316-82cb04fab914"
      },
      "execution_count": 32,
      "outputs": [
        {
          "output_type": "execute_result",
          "data": {
            "text/plain": [
              "array([ 3,  8, 15, 34])"
            ]
          },
          "metadata": {},
          "execution_count": 32
        }
      ]
    },
    {
      "cell_type": "code",
      "source": [
        "vetor = np.array([10, 9, 8, 7, 6, 5, 4, 3, 2, 1])\n",
        "quick_sort(vetor, 0, len(vetor) - 1)"
      ],
      "metadata": {
        "colab": {
          "base_uri": "https://localhost:8080/"
        },
        "id": "JVdTWG8nif3P",
        "outputId": "79d2e728-793e-4850-a7a2-41e513a4be24"
      },
      "execution_count": 33,
      "outputs": [
        {
          "output_type": "execute_result",
          "data": {
            "text/plain": [
              "array([ 1,  2,  3,  4,  5,  6,  7,  8,  9, 10])"
            ]
          },
          "metadata": {},
          "execution_count": 33
        }
      ]
    },
    {
      "cell_type": "code",
      "source": [
        "vetor = [64, 34, 25, 12, 22, 11, 90]\n",
        "vetor_ordenado = quick_sort(vetor, 0, len(vetor) - 1)\n",
        "print(vetor_ordenado)"
      ],
      "metadata": {
        "colab": {
          "base_uri": "https://localhost:8080/"
        },
        "id": "p2C-vbBKiiOT",
        "outputId": "ff90cec3-3acf-43a5-91a9-07e87860a548"
      },
      "execution_count": 35,
      "outputs": [
        {
          "output_type": "stream",
          "name": "stdout",
          "text": [
            "[11, 12, 22, 25, 34, 64, 90]\n"
          ]
        }
      ]
    },
    {
      "cell_type": "markdown",
      "source": [
        "# Comparativo entre Algoritmos"
      ],
      "metadata": {
        "id": "zp_ZZYzXionM"
      }
    },
    {
      "cell_type": "code",
      "source": [
        "import random\n",
        "\n",
        "vetor = [round(random.random(), 4) for _ in range(5000)]\n",
        "\n",
        "type(vetor)"
      ],
      "metadata": {
        "colab": {
          "base_uri": "https://localhost:8080/"
        },
        "id": "jmfcbl4ijHAI",
        "outputId": "dded984d-4d7c-4762-cf62-e029f98afa1c"
      },
      "execution_count": 37,
      "outputs": [
        {
          "output_type": "execute_result",
          "data": {
            "text/plain": [
              "list"
            ]
          },
          "metadata": {},
          "execution_count": 37
        }
      ]
    },
    {
      "cell_type": "code",
      "source": [
        "vetor = np.array(vetor)\n",
        "type(vetor)"
      ],
      "metadata": {
        "colab": {
          "base_uri": "https://localhost:8080/"
        },
        "id": "Y1t5KaPCjLOM",
        "outputId": "9d84b453-702d-4061-8d88-0cee287109c1"
      },
      "execution_count": 38,
      "outputs": [
        {
          "output_type": "execute_result",
          "data": {
            "text/plain": [
              "numpy.ndarray"
            ]
          },
          "metadata": {},
          "execution_count": 38
        }
      ]
    },
    {
      "cell_type": "code",
      "source": [
        "vetor[:5]"
      ],
      "metadata": {
        "colab": {
          "base_uri": "https://localhost:8080/"
        },
        "id": "n0Mr6BdzjWxU",
        "outputId": "d7cba5f7-2185-49a7-d1dc-c9d77e7633cb"
      },
      "execution_count": 39,
      "outputs": [
        {
          "output_type": "execute_result",
          "data": {
            "text/plain": [
              "array([0.8882, 0.3705, 0.7734, 0.2368, 0.791 ])"
            ]
          },
          "metadata": {},
          "execution_count": 39
        }
      ]
    },
    {
      "cell_type": "code",
      "source": [
        "len(vetor)"
      ],
      "metadata": {
        "colab": {
          "base_uri": "https://localhost:8080/"
        },
        "id": "_hhqKx70jZOD",
        "outputId": "c9ae934e-98ea-4b63-b773-3dca94cb8f26"
      },
      "execution_count": 40,
      "outputs": [
        {
          "output_type": "execute_result",
          "data": {
            "text/plain": [
              "5000"
            ]
          },
          "metadata": {},
          "execution_count": 40
        }
      ]
    },
    {
      "cell_type": "code",
      "source": [
        "%timeit bubble_sort(vetor.copy())"
      ],
      "metadata": {
        "colab": {
          "base_uri": "https://localhost:8080/"
        },
        "id": "CSWWKYU0jcob",
        "outputId": "b9541e02-fc1a-4dc3-aa35-292c0abef398"
      },
      "execution_count": 41,
      "outputs": [
        {
          "output_type": "stream",
          "name": "stdout",
          "text": [
            "6.83 s ± 879 ms per loop (mean ± std. dev. of 7 runs, 1 loop each)\n"
          ]
        }
      ]
    },
    {
      "cell_type": "code",
      "source": [
        "%timeit selection_sort(vetor.copy())"
      ],
      "metadata": {
        "colab": {
          "base_uri": "https://localhost:8080/"
        },
        "id": "TjClf6Y8jfpz",
        "outputId": "4f42eafe-c34f-48df-a617-b36ca10e85a1"
      },
      "execution_count": 42,
      "outputs": [
        {
          "output_type": "stream",
          "name": "stdout",
          "text": [
            "3.83 s ± 813 ms per loop (mean ± std. dev. of 7 runs, 1 loop each)\n"
          ]
        }
      ]
    },
    {
      "cell_type": "code",
      "source": [
        "%timeit insertion_sort(vetor.copy())"
      ],
      "metadata": {
        "colab": {
          "base_uri": "https://localhost:8080/"
        },
        "id": "PoHX11Ssjmb9",
        "outputId": "12d8d235-a275-4384-9b98-0b603e14675a"
      },
      "execution_count": 43,
      "outputs": [
        {
          "output_type": "stream",
          "name": "stdout",
          "text": [
            "3.16 s ± 799 ms per loop (mean ± std. dev. of 7 runs, 1 loop each)\n"
          ]
        }
      ]
    },
    {
      "cell_type": "code",
      "source": [
        "%timeit shell_sort(vetor.copy())"
      ],
      "metadata": {
        "colab": {
          "base_uri": "https://localhost:8080/"
        },
        "id": "oVEWnkf5joys",
        "outputId": "5719fbe3-325f-4338-fcdb-7e2e0f77ac87"
      },
      "execution_count": 44,
      "outputs": [
        {
          "output_type": "stream",
          "name": "stdout",
          "text": [
            "71.6 ms ± 30.3 ms per loop (mean ± std. dev. of 7 runs, 10 loops each)\n"
          ]
        }
      ]
    },
    {
      "cell_type": "code",
      "source": [
        "%timeit merge_sort(vetor.copy())"
      ],
      "metadata": {
        "id": "etec8QQvjsRM"
      },
      "execution_count": null,
      "outputs": []
    },
    {
      "cell_type": "code",
      "source": [
        "%timeit quick_sort(vetor.copy(), 0, len(vetor) - 1)"
      ],
      "metadata": {
        "colab": {
          "base_uri": "https://localhost:8080/"
        },
        "id": "MN64z4D8juuQ",
        "outputId": "3711b047-5f6b-4232-d572-33f0509c5183"
      },
      "execution_count": 45,
      "outputs": [
        {
          "output_type": "stream",
          "name": "stdout",
          "text": [
            "31.8 ms ± 5.79 ms per loop (mean ± std. dev. of 7 runs, 10 loops each)\n"
          ]
        }
      ]
    },
    {
      "cell_type": "markdown",
      "source": [
        "## Vetor Ordenado"
      ],
      "metadata": {
        "id": "3LmyoaHnjyzE"
      }
    },
    {
      "cell_type": "code",
      "source": [
        "import numpy as np\n",
        "\n",
        "class VetorOrdenado:\n",
        "    def __init__(self, capacidade):\n",
        "        self.capacidade = capacidade\n",
        "        self.ultima_posicao = -1\n",
        "        self.valores = np.empty(self.capacidade, dtype=float)\n",
        "\n",
        "    def insere(self, valor):\n",
        "        if self.ultima_posicao == self.capacidade - 1:\n",
        "            print('Capacidade atingida')\n",
        "            return\n",
        "\n",
        "        posicao = 0\n",
        "\n",
        "        # Encontre a posição correta para inserção usando busca binária\n",
        "        for i in range(self.ultima_posicao + 1):\n",
        "            if self.valores[i] > valor:\n",
        "                break\n",
        "            posicao = i\n",
        "\n",
        "        # Desloque os valores maiores para abrir espaço para o novo valor\n",
        "        for i in range(self.ultima_posicao, posicao - 1, -1):\n",
        "            self.valores[i + 1] = self.valores[i]\n",
        "\n",
        "        self.valores[posicao] = valor\n",
        "        self.ultima_posicao += 1\n",
        "\n",
        "    def mostra(self):\n",
        "        for i in range(self.ultima_posicao + 1):\n",
        "            print(self.valores[i], end=\" \")\n",
        "        print()"
      ],
      "metadata": {
        "id": "r6l4kbB8jyWM"
      },
      "execution_count": 46,
      "outputs": []
    },
    {
      "cell_type": "code",
      "source": [
        "def insere_ordenado(valores):\n",
        "  vetor = VetorOrdenado(len(valores))\n",
        "  for i in range(len(valores)):\n",
        "    vetor.insere(i)"
      ],
      "metadata": {
        "id": "MEii2_JWkGdE"
      },
      "execution_count": 47,
      "outputs": []
    },
    {
      "cell_type": "code",
      "source": [
        "%timeit insere_ordenado(vetor.copy())"
      ],
      "metadata": {
        "colab": {
          "base_uri": "https://localhost:8080/"
        },
        "id": "fg2O7CCKkLWg",
        "outputId": "568aab8c-13a5-4481-a998-701f426b43d4"
      },
      "execution_count": 48,
      "outputs": [
        {
          "output_type": "stream",
          "name": "stdout",
          "text": [
            "2.74 s ± 723 ms per loop (mean ± std. dev. of 7 runs, 1 loop each)\n"
          ]
        }
      ]
    }
  ]
}