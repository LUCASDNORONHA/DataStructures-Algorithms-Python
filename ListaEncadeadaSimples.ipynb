{
  "nbformat": 4,
  "nbformat_minor": 0,
  "metadata": {
    "colab": {
      "provenance": [],
      "authorship_tag": "ABX9TyOCfxRaP1q+2DHVKAr8jfud",
      "include_colab_link": true
    },
    "kernelspec": {
      "name": "python3",
      "display_name": "Python 3"
    },
    "language_info": {
      "name": "python"
    }
  },
  "cells": [
    {
      "cell_type": "markdown",
      "metadata": {
        "id": "view-in-github",
        "colab_type": "text"
      },
      "source": [
        "<a href=\"https://colab.research.google.com/github/LUCASDNORONHA/data_structures_algorithms_python/blob/master/ListaEncadeadaSimples.ipynb\" target=\"_parent\"><img src=\"https://colab.research.google.com/assets/colab-badge.svg\" alt=\"Open In Colab\"/></a>"
      ]
    },
    {
      "cell_type": "markdown",
      "source": [
        "# **IA Expert Academy**\n",
        "\n",
        "\n",
        "---\n",
        "\n",
        "**Curso:** Estruturas de Dados e Algoritmos em Python\n",
        "\n",
        "**Aluno:** Lucas Dias Noronha"
      ],
      "metadata": {
        "id": "z9PsreDiGPDd"
      }
    },
    {
      "cell_type": "markdown",
      "source": [
        "# Lista Encadeada Simples"
      ],
      "metadata": {
        "id": "NULLNDX3GrG1"
      }
    },
    {
      "cell_type": "code",
      "execution_count": 1,
      "metadata": {
        "id": "yURv7s0dFC10"
      },
      "outputs": [],
      "source": [
        "class No:\n",
        "    def __init__(self, valor):\n",
        "        \"\"\"\n",
        "        Inicializa um nó com um valor especificado.\n",
        "\n",
        "        Args:\n",
        "            valor: O valor a ser armazenado no nó.\n",
        "        \"\"\"\n",
        "        self.valor = valor\n",
        "        self.proximo = None\n",
        "\n",
        "    def mostra_no(self):\n",
        "        \"\"\"\n",
        "        Exibe o valor do nó.\n",
        "        \"\"\"\n",
        "        print(self.valor)\n",
        "\n",
        "class ListaEncadeada:\n",
        "    def __init__(self):\n",
        "        self.primeiro = None\n",
        "\n",
        "    def insere_inicio(self, valor):\n",
        "        \"\"\"\n",
        "        Insere um valor no início da lista encadeada.\n",
        "\n",
        "        Args:\n",
        "            valor: O valor a ser inserido no início da lista.\n",
        "        \"\"\"\n",
        "        novo = No(valor)\n",
        "        novo.proximo = self.primeiro\n",
        "        self.primeiro = novo\n",
        "\n",
        "    def mostrar(self):\n",
        "        \"\"\"\n",
        "        Exibe os valores na lista encadeada.\n",
        "        \"\"\"\n",
        "        if self.primeiro is None:\n",
        "            print('A lista está vazia')\n",
        "            return\n",
        "\n",
        "        atual = self.primeiro\n",
        "        while atual is not None:\n",
        "            atual.mostra_no()\n",
        "            atual = atual.proximo\n",
        "\n",
        "    def pesquisa(self, valor):\n",
        "        \"\"\"\n",
        "        Pesquisa um valor na lista encadeada.\n",
        "\n",
        "        Args:\n",
        "            valor: O valor a ser pesquisado.\n",
        "\n",
        "        Returns:\n",
        "            No: O nó contendo o valor pesquisado, ou None se o valor não for encontrado.\n",
        "        \"\"\"\n",
        "        if self.primeiro is None:\n",
        "            print('A lista está vazia')\n",
        "            return None\n",
        "\n",
        "        atual = self.primeiro\n",
        "        while atual.valor != valor:\n",
        "            if atual.proximo is None:\n",
        "                return None\n",
        "            else:\n",
        "                atual = atual.proximo\n",
        "        return atual\n",
        "\n",
        "    def excluir_inicio(self):\n",
        "        \"\"\"\n",
        "        Remove o primeiro nó da lista encadeada.\n",
        "\n",
        "        Returns:\n",
        "            No: O nó removido, ou None se a lista estiver vazia.\n",
        "        \"\"\"\n",
        "        if self.primeiro is None:\n",
        "            print('A lista está vazia')\n",
        "            return None\n",
        "\n",
        "        temp = self.primeiro\n",
        "        self.primeiro = self.primeiro.proximo\n",
        "        return temp\n",
        "\n",
        "    def excluir_valor(self, valor):\n",
        "        \"\"\"\n",
        "        Remove o nó que contém o valor especificado da lista encadeada.\n",
        "\n",
        "        Args:\n",
        "            valor: O valor a ser removido.\n",
        "\n",
        "        Returns:\n",
        "            No: O nó removido, ou None se o valor não for encontrado.\n",
        "        \"\"\"\n",
        "        if self.primeiro is None:\n",
        "            print('A lista está vazia')\n",
        "            return None\n",
        "\n",
        "        atual = self.primeiro\n",
        "        anterior = None\n",
        "        while atual.valor != valor:\n",
        "            if atual.proximo is None:\n",
        "                return None\n",
        "            else:\n",
        "                anterior = atual\n",
        "                atual = atual.proximo\n",
        "\n",
        "        if atual == self.primeiro:\n",
        "            self.primeiro = self.primeiro.proximo\n",
        "        else:\n",
        "            anterior.proximo = atual.proximo\n",
        "\n",
        "        return atual"
      ]
    },
    {
      "cell_type": "code",
      "source": [
        "# Criar uma lista encadeada vazia\n",
        "minha_lista = ListaEncadeada()\n",
        "\n",
        "# Inserir valores no início da lista\n",
        "minha_lista.insere_inicio(10)\n",
        "minha_lista.insere_inicio(20)\n",
        "minha_lista.insere_inicio(30)\n",
        "\n",
        "# Exibir os valores na lista\n",
        "print(\"Valores na lista:\")\n",
        "minha_lista.mostrar()"
      ],
      "metadata": {
        "colab": {
          "base_uri": "https://localhost:8080/"
        },
        "id": "NSSm_b1lFt7W",
        "outputId": "7cb847ec-afed-4c3e-a4a4-21e2932cecef"
      },
      "execution_count": 2,
      "outputs": [
        {
          "output_type": "stream",
          "name": "stdout",
          "text": [
            "Valores na lista:\n",
            "30\n",
            "20\n",
            "10\n"
          ]
        }
      ]
    },
    {
      "cell_type": "code",
      "source": [
        "# Pesquisar um valor na lista\n",
        "valor_pesquisado = 20\n",
        "no_encontrado = minha_lista.pesquisa(valor_pesquisado)\n",
        "if no_encontrado is not None:\n",
        "    print(f\"Valor {valor_pesquisado} encontrado na lista\")\n",
        "else:\n",
        "    print(f\"Valor {valor_pesquisado} não encontrado na lista\")"
      ],
      "metadata": {
        "colab": {
          "base_uri": "https://localhost:8080/"
        },
        "id": "hHDvwiVYF3uF",
        "outputId": "87cf1aea-a0d2-402e-d87c-dc9ce8e1d842"
      },
      "execution_count": 3,
      "outputs": [
        {
          "output_type": "stream",
          "name": "stdout",
          "text": [
            "Valor 20 encontrado na lista\n"
          ]
        }
      ]
    },
    {
      "cell_type": "code",
      "source": [
        "# Remover o primeiro valor da lista\n",
        "primeiro_no = minha_lista.excluir_inicio()\n",
        "if primeiro_no is not None:\n",
        "    print(f\"Primeiro valor removido: {primeiro_no.valor}\")"
      ],
      "metadata": {
        "colab": {
          "base_uri": "https://localhost:8080/"
        },
        "id": "C0nVNopLF7R9",
        "outputId": "b29088e8-50cd-473b-a7e9-49ac6a81782a"
      },
      "execution_count": 4,
      "outputs": [
        {
          "output_type": "stream",
          "name": "stdout",
          "text": [
            "Primeiro valor removido: 30\n"
          ]
        }
      ]
    },
    {
      "cell_type": "code",
      "source": [
        "# Exibir os valores atualizados na lista\n",
        "print(\"Valores na lista após a remoção:\")\n",
        "minha_lista.mostrar()"
      ],
      "metadata": {
        "colab": {
          "base_uri": "https://localhost:8080/"
        },
        "id": "AXaqtWRRF_5s",
        "outputId": "914728e7-d364-41f2-807e-29c1e13d043f"
      },
      "execution_count": 5,
      "outputs": [
        {
          "output_type": "stream",
          "name": "stdout",
          "text": [
            "Valores na lista após a remoção:\n",
            "20\n",
            "10\n"
          ]
        }
      ]
    },
    {
      "cell_type": "code",
      "source": [
        "# Remover um valor específico da lista\n",
        "valor_a_remover = 20\n",
        "no_removido = minha_lista.excluir_valor(valor_a_remover)\n",
        "if no_removido is not None:\n",
        "    print(f\"Valor {valor_a_remover} removido da lista\")\n",
        "else:\n",
        "    print(f\"Valor {valor_a_remover} não encontrado na lista\")"
      ],
      "metadata": {
        "colab": {
          "base_uri": "https://localhost:8080/"
        },
        "id": "5k7VUafgGCaF",
        "outputId": "ab604943-1936-49e3-9e1c-4533805d2282"
      },
      "execution_count": 6,
      "outputs": [
        {
          "output_type": "stream",
          "name": "stdout",
          "text": [
            "Valor 20 removido da lista\n"
          ]
        }
      ]
    },
    {
      "cell_type": "code",
      "source": [
        "# Exibir os valores após a segunda remoção\n",
        "print(\"Valores na lista após a remoção do valor 20:\")\n",
        "minha_lista.mostrar()"
      ],
      "metadata": {
        "colab": {
          "base_uri": "https://localhost:8080/"
        },
        "id": "r6ur1wMzGGOv",
        "outputId": "5fab7c4c-0254-471d-bff4-f67269b1d49f"
      },
      "execution_count": 7,
      "outputs": [
        {
          "output_type": "stream",
          "name": "stdout",
          "text": [
            "Valores na lista após a remoção do valor 20:\n",
            "10\n"
          ]
        }
      ]
    }
  ]
}