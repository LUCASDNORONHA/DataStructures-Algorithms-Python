{
  "nbformat": 4,
  "nbformat_minor": 0,
  "metadata": {
    "colab": {
      "provenance": [],
      "authorship_tag": "ABX9TyNlhHMsEPGNfezi0XJ6Mdwn",
      "include_colab_link": true
    },
    "kernelspec": {
      "name": "python3",
      "display_name": "Python 3"
    },
    "language_info": {
      "name": "python"
    }
  },
  "cells": [
    {
      "cell_type": "markdown",
      "metadata": {
        "id": "view-in-github",
        "colab_type": "text"
      },
      "source": [
        "<a href=\"https://colab.research.google.com/github/LUCASDNORONHA/data_structures_algorithms_python/blob/master/Comparativo_VetoresOrdenados_VetoresNaoOrdenados.ipynb\" target=\"_parent\"><img src=\"https://colab.research.google.com/assets/colab-badge.svg\" alt=\"Open In Colab\"/></a>"
      ]
    },
    {
      "cell_type": "markdown",
      "source": [
        "# **IA Expert Academy**\n",
        "\n",
        "\n",
        "---\n",
        "\n",
        "**Curso:** Estruturas de Dados e Algoritmos em Python\n",
        "\n",
        "**Aluno:** Lucas Dias Noronha"
      ],
      "metadata": {
        "id": "PlBpxT6PkuxP"
      }
    },
    {
      "cell_type": "markdown",
      "source": [
        "# Vetores Não Ordenados"
      ],
      "metadata": {
        "id": "5tPBYBH1lBog"
      }
    },
    {
      "cell_type": "code",
      "execution_count": 2,
      "metadata": {
        "id": "mtZn0GX8kYXf"
      },
      "outputs": [],
      "source": [
        "import numpy as np\n",
        "\n",
        "class VetorNaoOrdenado:\n",
        "    def __init__(self, capacidade):\n",
        "        self.capacidade = capacidade\n",
        "        self.last_position = -1\n",
        "        self.valores = np.empty(self.capacidade, dtype=float)\n",
        "\n",
        "    # O(n)\n",
        "    def imprimir(self):\n",
        "        if self.last_position == -1:\n",
        "            print('O vetor está vazio')\n",
        "        else:\n",
        "            for i in range(self.last_position + 1):\n",
        "                print(i, ' - ', self.valores[i])\n",
        "\n",
        "    # O(c) + O(n) = O(n)\n",
        "    def insere(self, valor):\n",
        "        if self.last_position == self.capacidade - 1:\n",
        "            print('Capacidade máxima atingida')\n",
        "        else:\n",
        "            self.last_position += 1\n",
        "            self.valores[self.last_position] = valor\n",
        "\n",
        "    # O(n)\n",
        "    def pesquisar(self, valor):\n",
        "        for i in range(self.last_position + 1):\n",
        "            if valor == self.valores[i]:\n",
        "                return i\n",
        "        return -1\n",
        "\n",
        "    # O(n)\n",
        "    def excluir(self, valor):\n",
        "        posicao = self.pesquisar(valor)\n",
        "        if posicao == -1:\n",
        "            return -1\n",
        "        else:\n",
        "            for i in range(posicao, self.last_position):\n",
        "                self.valores[i] = self.valores[i + 1]\n",
        "            self.last_position -= 1"
      ]
    },
    {
      "cell_type": "markdown",
      "source": [
        "# Vetores Ordenados com Pesquisa Binária e Linear"
      ],
      "metadata": {
        "id": "bTsFT9rQlV9m"
      }
    },
    {
      "cell_type": "code",
      "source": [
        "import numpy as np\n",
        "\n",
        "class VetorOrdenado:\n",
        "    def __init__(self, capacidade):\n",
        "        self.capacidade = capacidade\n",
        "        self.ultima_posicao = -1\n",
        "        self.valores = np.empty(self.capacidade, dtype=float)\n",
        "\n",
        "    # O(n)\n",
        "    def imprime(self):\n",
        "        if self.ultima_posicao == -1:\n",
        "            print('O vetor está vazio')\n",
        "        else:\n",
        "            for i in range(self.ultima_posicao + 1):\n",
        "                print(i, ' - ', self.valores[i])\n",
        "\n",
        "    # O(n)\n",
        "    def insere(self, valor):\n",
        "        if self.ultima_posicao == self.capacidade - 1:\n",
        "            print('Capacidade máxima atingida')\n",
        "            return\n",
        "\n",
        "        posicao = 0\n",
        "        for i in range(self.ultima_posicao + 1):\n",
        "            posicao = i\n",
        "            if self.valores[i] > valor:\n",
        "                break\n",
        "            if i == self.ultima_posicao:\n",
        "                posicao = i + 1\n",
        "\n",
        "        for x in range(self.ultima_posicao, posicao - 1, -1):\n",
        "            self.valores[x + 1] = self.valores[x]\n",
        "\n",
        "        self.valores[posicao] = valor\n",
        "        self.ultima_posicao += 1\n",
        "\n",
        "    # O(n)\n",
        "    def pesquisa_linear(self, valor):\n",
        "        for i in range(self.ultima_posicao + 1):\n",
        "            if self.valores[i] == valor:\n",
        "                return i\n",
        "            if self.valores[i] > valor:\n",
        "                return -1\n",
        "        return -1\n",
        "\n",
        "    # O(log n)\n",
        "    def pesquisa_binaria(self, valor):\n",
        "        limite_inferior = 0\n",
        "        limite_superior = self.ultima_posicao\n",
        "\n",
        "        while limite_inferior <= limite_superior:\n",
        "            posicao_atual = (limite_inferior + limite_superior) // 2\n",
        "\n",
        "            if self.valores[posicao_atual] == valor:\n",
        "                return posicao_atual\n",
        "            elif self.valores[posicao_atual] < valor:\n",
        "                limite_inferior = posicao_atual + 1\n",
        "            else:\n",
        "                limite_superior = posicao_atual - 1\n",
        "\n",
        "        return -1\n",
        "\n",
        "    def excluir(self, valor):\n",
        "        posicao = self.pesquisa_linear(valor)\n",
        "        if posicao == -1:\n",
        "            return -1\n",
        "        else:\n",
        "            for i in range(posicao, self.ultima_posicao):\n",
        "                self.valores[i] = self.valores[i + 1]\n",
        "\n",
        "            self.ultima_posicao -= 1"
      ],
      "metadata": {
        "id": "yahFdLyCmFKX"
      },
      "execution_count": 4,
      "outputs": []
    },
    {
      "cell_type": "markdown",
      "source": [
        "# Comparação do Tempo de Inserção de Elementos entre Vetores Ordenados e Não Ordenados"
      ],
      "metadata": {
        "id": "SFMm8msXmXrI"
      }
    },
    {
      "cell_type": "code",
      "source": [
        "import random\n",
        "\n",
        "elementos = []\n",
        "for _ in range(10000):\n",
        "  elementos.append(round(random.random(), 4))"
      ],
      "metadata": {
        "colab": {
          "base_uri": "https://localhost:8080/"
        },
        "id": "-ORS-s3Wmb-V",
        "outputId": "8155e684-4170-4e0e-c923-519ceb2f4793"
      },
      "execution_count": 23,
      "outputs": [
        {
          "output_type": "stream",
          "name": "stdout",
          "text": [
            "10000 \n",
            " [0.4914, 0.0916, 0.9566, 0.3227, 0.3785, 0.2335, 0.5637, 0.746, 0.7749, 0.2184]\n"
          ]
        }
      ]
    },
    {
      "cell_type": "code",
      "source": [
        "print(len(elementos), '\\n', elementos[0:10])"
      ],
      "metadata": {
        "colab": {
          "base_uri": "https://localhost:8080/"
        },
        "id": "BasxsbHRnBba",
        "outputId": "67234c3e-f914-4e13-864f-9659e957d95f"
      },
      "execution_count": 24,
      "outputs": [
        {
          "output_type": "stream",
          "name": "stdout",
          "text": [
            "10000 \n",
            " [0.4914, 0.0916, 0.9566, 0.3227, 0.3785, 0.2335, 0.5637, 0.746, 0.7749, 0.2184]\n"
          ]
        }
      ]
    },
    {
      "cell_type": "code",
      "source": [
        "def insere_nao_ordenado(lista):\n",
        "  vetor = VetorNaoOrdenado(len(lista))\n",
        "  for i in lista:\n",
        "    vetor.insere(i)\n",
        "  return vetor"
      ],
      "metadata": {
        "id": "AwbgU8iNnnhG"
      },
      "execution_count": 25,
      "outputs": []
    },
    {
      "cell_type": "code",
      "source": [
        "import timeit\n",
        "%timeit insere_nao_ordenado(elementos)"
      ],
      "metadata": {
        "colab": {
          "base_uri": "https://localhost:8080/"
        },
        "id": "Vkbhbk17oH8A",
        "outputId": "ced4a986-8089-4448-9516-8f7d46f7289c"
      },
      "execution_count": 29,
      "outputs": [
        {
          "output_type": "stream",
          "name": "stdout",
          "text": [
            "4.21 ms ± 160 µs per loop (mean ± std. dev. of 7 runs, 100 loops each)\n"
          ]
        }
      ]
    },
    {
      "cell_type": "code",
      "source": [
        "def insere_ordenado(lista):\n",
        "  vetor = VetorOrdenado(len(lista))\n",
        "  for i in lista:\n",
        "    vetor.insere(i)\n",
        "  return vetor"
      ],
      "metadata": {
        "id": "g_hSFw6SoPEO"
      },
      "execution_count": 30,
      "outputs": []
    },
    {
      "cell_type": "code",
      "source": [
        "%timeit insere_ordenado(elementos)"
      ],
      "metadata": {
        "colab": {
          "base_uri": "https://localhost:8080/"
        },
        "id": "QBR0HNJVo4Qo",
        "outputId": "61e2ac72-6612-4764-8d3c-fb713b45fd87"
      },
      "execution_count": 31,
      "outputs": [
        {
          "output_type": "stream",
          "name": "stdout",
          "text": [
            "13.9 s ± 777 ms per loop (mean ± std. dev. of 7 runs, 1 loop each)\n"
          ]
        }
      ]
    },
    {
      "cell_type": "markdown",
      "source": [
        "Podemos ver constatar que, quando se trata de inserção de elementos, os vetores não ordenados tem uma eficiência maior se comparados aos vetores ordenados."
      ],
      "metadata": {
        "id": "9gu6oT-lpcUO"
      }
    },
    {
      "cell_type": "markdown",
      "source": [
        "# Comparação do Tempo de Pesquisa de Elementos entre Vetores Ordenados e Não Ordenados"
      ],
      "metadata": {
        "id": "Hm73kRiVp5ml"
      }
    },
    {
      "cell_type": "code",
      "source": [
        "vetor_nao_ordenado = insere_nao_ordenado(elementos)\n",
        "len(vetor_nao_ordenado.valores)"
      ],
      "metadata": {
        "colab": {
          "base_uri": "https://localhost:8080/"
        },
        "id": "ZzsUx5DjqdW2",
        "outputId": "4d059190-d8e5-4118-ff6b-fbe48137abf2"
      },
      "execution_count": 33,
      "outputs": [
        {
          "output_type": "execute_result",
          "data": {
            "text/plain": [
              "10000"
            ]
          },
          "metadata": {},
          "execution_count": 33
        }
      ]
    },
    {
      "cell_type": "code",
      "source": [
        "vetor_ordenado = insere_ordenado(elementos)\n",
        "len(vetor_ordenado.valores)"
      ],
      "metadata": {
        "colab": {
          "base_uri": "https://localhost:8080/"
        },
        "id": "z5gvEx5Cq4o-",
        "outputId": "ca2ed205-6d21-470f-910a-ce86d14b6613"
      },
      "execution_count": 35,
      "outputs": [
        {
          "output_type": "execute_result",
          "data": {
            "text/plain": [
              "10000"
            ]
          },
          "metadata": {},
          "execution_count": 35
        }
      ]
    },
    {
      "cell_type": "code",
      "source": [
        "pesquisa = []\n",
        "for _ in range(10000):\n",
        "  pesquisa.append(round(random.random(), 4))\n",
        "len(pesquisa)"
      ],
      "metadata": {
        "colab": {
          "base_uri": "https://localhost:8080/"
        },
        "id": "EPKzpkKirPye",
        "outputId": "0cc97c51-8068-4b5a-9188-f08938f9990d"
      },
      "execution_count": 36,
      "outputs": [
        {
          "output_type": "execute_result",
          "data": {
            "text/plain": [
              "10000"
            ]
          },
          "metadata": {},
          "execution_count": 36
        }
      ]
    },
    {
      "cell_type": "code",
      "source": [
        "def pesquisa_nao_ordenado(lista):\n",
        "  for i in lista:\n",
        "    vetor_nao_ordenado.pesquisar(i)"
      ],
      "metadata": {
        "id": "j6ghziDOrjqg"
      },
      "execution_count": 37,
      "outputs": []
    },
    {
      "cell_type": "code",
      "source": [
        "%timeit pesquisa_nao_ordenado(pesquisa)"
      ],
      "metadata": {
        "colab": {
          "base_uri": "https://localhost:8080/"
        },
        "id": "k5cQU4qzr6Fa",
        "outputId": "a5856e8c-f830-4bdb-8985-1510becaa9de"
      },
      "execution_count": 38,
      "outputs": [
        {
          "output_type": "stream",
          "name": "stdout",
          "text": [
            "12.7 s ± 828 ms per loop (mean ± std. dev. of 7 runs, 1 loop each)\n"
          ]
        }
      ]
    },
    {
      "cell_type": "code",
      "source": [
        "def pesquisa_ordenado(lista):\n",
        "  for i in lista:\n",
        "    vetor_ordenado.pesquisa_binaria(i)"
      ],
      "metadata": {
        "id": "gGvYGW0OsU1w"
      },
      "execution_count": 39,
      "outputs": []
    },
    {
      "cell_type": "code",
      "source": [
        "%timeit pesquisa_ordenado(pesquisa)"
      ],
      "metadata": {
        "colab": {
          "base_uri": "https://localhost:8080/"
        },
        "id": "yPNitU4YshHV",
        "outputId": "369db170-6173-486f-d8ea-821adf0019e2"
      },
      "execution_count": 40,
      "outputs": [
        {
          "output_type": "stream",
          "name": "stdout",
          "text": [
            "58.6 ms ± 1.62 ms per loop (mean ± std. dev. of 7 runs, 10 loops each)\n"
          ]
        }
      ]
    },
    {
      "cell_type": "markdown",
      "source": [
        "Podemos ver constatar que, quando se trata de pesquisa de elementos, os vetores ordenados tem uma eficiência maior se comparados aos vetores não ordenados."
      ],
      "metadata": {
        "id": "cwS_ZbsZssYJ"
      }
    }
  ]
}