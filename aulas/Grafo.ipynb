{
  "nbformat": 4,
  "nbformat_minor": 0,
  "metadata": {
    "colab": {
      "provenance": [],
      "authorship_tag": "ABX9TyOcw60Bnjhg35ILLUW66XuX",
      "include_colab_link": true
    },
    "kernelspec": {
      "name": "python3",
      "display_name": "Python 3"
    },
    "language_info": {
      "name": "python"
    }
  },
  "cells": [
    {
      "cell_type": "markdown",
      "metadata": {
        "id": "view-in-github",
        "colab_type": "text"
      },
      "source": [
        "<a href=\"https://colab.research.google.com/github/LUCASDNORONHA/data_structures_algorithms_python/blob/master/Grafo.ipynb\" target=\"_parent\"><img src=\"https://colab.research.google.com/assets/colab-badge.svg\" alt=\"Open In Colab\"/></a>"
      ]
    },
    {
      "cell_type": "markdown",
      "source": [
        "# **IA Expert Academy**\n",
        "\n",
        "\n",
        "\n",
        "\n",
        "\n",
        "---\n",
        "\n",
        "\n",
        "**Curso:** Estruturas de Dados e Algoritmos em Python\n",
        "\n",
        "**Aluno:** Lucas Dias Noronha"
      ],
      "metadata": {
        "id": "oQdb7q6I-5mO"
      }
    },
    {
      "cell_type": "markdown",
      "source": [
        "# **Grafos**"
      ],
      "metadata": {
        "id": "9N0pTVoQCocU"
      }
    },
    {
      "cell_type": "code",
      "execution_count": 2,
      "metadata": {
        "id": "bhN2aUpQ-40r"
      },
      "outputs": [],
      "source": [
        "class Vertice:\n",
        "  def __init__(self, rotulo):\n",
        "    self.rotulo = rotulo\n",
        "    self.visitado = False\n",
        "    self.adjacentes = []\n",
        "\n",
        "  def adiciona_adjacente(self, adjacente):\n",
        "    self.adjacentes.append(adjacente)\n",
        "\n",
        "  def mostra_adjacentes(self):\n",
        "    for i in self.adjacentes:\n",
        "      print(i.vertice.rotulo, i.custo)\n",
        "\n",
        "\n",
        "class Adjacente:\n",
        "  def __init__(self, vertice, custo):\n",
        "    self.vertice = vertice\n",
        "    self.custo = custo\n",
        "\n",
        "\n",
        "class Grafo:\n",
        "  arad = Vertice('Arad')\n",
        "  zerind = Vertice('Zerind')\n",
        "  oradea = Vertice('Oradea')\n",
        "  sibiu = Vertice('Sibiu')\n",
        "  timisoara = Vertice('Timisoara')\n",
        "  lugoj = Vertice('Lugoj')\n",
        "  mehadia = Vertice('Mehadia')\n",
        "  dobreta = Vertice('Dobreta')\n",
        "  craiova = Vertice('Craiova')\n",
        "  rimnicu = Vertice('Rimnicu')\n",
        "  fagaras = Vertice('Fagaras')\n",
        "  pitesti = Vertice('Pitesti')\n",
        "  bucharest = Vertice('Bucharest')\n",
        "  giurgiu = Vertice('Giurgiu')\n",
        "\n",
        "  arad.adiciona_adjacente(Adjacente(zerind, 75))\n",
        "  arad.adiciona_adjacente(Adjacente(sibiu, 140))\n",
        "  arad.adiciona_adjacente(Adjacente(timisoara, 118))\n",
        "\n",
        "  zerind.adiciona_adjacente(Adjacente(arad, 75))\n",
        "  zerind.adiciona_adjacente(Adjacente(oradea, 71))\n",
        "\n",
        "  oradea.adiciona_adjacente(Adjacente(zerind, 71))\n",
        "  oradea.adiciona_adjacente(Adjacente(sibiu, 151))\n",
        "\n",
        "  sibiu.adiciona_adjacente(Adjacente(oradea, 151))\n",
        "  sibiu.adiciona_adjacente(Adjacente(arad, 140))\n",
        "  sibiu.adiciona_adjacente(Adjacente(fagaras, 99))\n",
        "  sibiu.adiciona_adjacente(Adjacente(rimnicu, 80))\n",
        "\n",
        "  timisoara.adiciona_adjacente(Adjacente(arad, 118))\n",
        "  timisoara.adiciona_adjacente(Adjacente(lugoj, 111))\n",
        "\n",
        "  lugoj.adiciona_adjacente(Adjacente(timisoara, 111))\n",
        "  lugoj.adiciona_adjacente(Adjacente(mehadia, 70))\n",
        "\n",
        "  mehadia.adiciona_adjacente(Adjacente(lugoj, 70))\n",
        "  mehadia.adiciona_adjacente(Adjacente(dobreta, 75))\n",
        "\n",
        "  dobreta.adiciona_adjacente(Adjacente(mehadia, 75))\n",
        "  dobreta.adiciona_adjacente(Adjacente(craiova, 120))\n",
        "\n",
        "  craiova.adiciona_adjacente(Adjacente(dobreta, 120))\n",
        "  craiova.adiciona_adjacente(Adjacente(pitesti, 138))\n",
        "  craiova.adiciona_adjacente(Adjacente(rimnicu, 146))\n",
        "\n",
        "  rimnicu.adiciona_adjacente(Adjacente(craiova, 146))\n",
        "  rimnicu.adiciona_adjacente(Adjacente(sibiu, 80))\n",
        "  rimnicu.adiciona_adjacente(Adjacente(pitesti, 97))\n",
        "\n",
        "  fagaras.adiciona_adjacente(Adjacente(sibiu, 99))\n",
        "  fagaras.adiciona_adjacente(Adjacente(bucharest, 211))\n",
        "\n",
        "  pitesti.adiciona_adjacente(Adjacente(rimnicu, 97))\n",
        "  pitesti.adiciona_adjacente(Adjacente(craiova, 138))\n",
        "  pitesti.adiciona_adjacente(Adjacente(bucharest, 101))\n",
        "\n",
        "  bucharest.adiciona_adjacente(Adjacente(fagaras, 211))\n",
        "  bucharest.adiciona_adjacente(Adjacente(pitesti, 101))\n",
        "  bucharest.adiciona_adjacente(Adjacente(giurgiu, 90))"
      ]
    },
    {
      "cell_type": "code",
      "source": [
        "grafo = Grafo()\n",
        "\n",
        "grafo.arad.mostra_adjacentes()"
      ],
      "metadata": {
        "colab": {
          "base_uri": "https://localhost:8080/"
        },
        "id": "gArAIbB0C-IE",
        "outputId": "25620f3e-aab2-4518-f95f-3c7ab83fe9f5"
      },
      "execution_count": 3,
      "outputs": [
        {
          "output_type": "stream",
          "name": "stdout",
          "text": [
            "Zerind 75\n",
            "Sibiu 140\n",
            "Timisoara 118\n"
          ]
        }
      ]
    },
    {
      "cell_type": "code",
      "source": [
        "grafo.bucharest.mostra_adjacentes()"
      ],
      "metadata": {
        "colab": {
          "base_uri": "https://localhost:8080/"
        },
        "id": "UPvqyDLvDFOt",
        "outputId": "b18b8e1b-c4d5-4cac-f07b-cd091e76ab3b"
      },
      "execution_count": 4,
      "outputs": [
        {
          "output_type": "stream",
          "name": "stdout",
          "text": [
            "Fagaras 211\n",
            "Pitesti 101\n",
            "Giurgiu 90\n"
          ]
        }
      ]
    },
    {
      "cell_type": "markdown",
      "source": [
        "# **Pilhas**"
      ],
      "metadata": {
        "id": "hM6VqvfhDUpE"
      }
    },
    {
      "cell_type": "code",
      "source": [
        "import numpy as np\n",
        "\n",
        "class Pilha:\n",
        "  def __init__(self, capacidade):\n",
        "    self.__capacidade = capacidade\n",
        "    self.__topo = -1\n",
        "\n",
        "    # Mudança do tipo do array\n",
        "    self.__valores = np.empty(self.__capacidade, dtype=object)\n",
        "\n",
        "  def __pilha_cheia(self):\n",
        "    if self.__topo == self.__capacidade - 1:\n",
        "      return True\n",
        "    else:\n",
        "      return False\n",
        "\n",
        "  def __pilha_vazia(self):\n",
        "    if self.__topo == -1:\n",
        "      return True\n",
        "    else:\n",
        "      return False\n",
        "\n",
        "  def empilhar(self, valor):\n",
        "    if self.__pilha_cheia():\n",
        "      print('A pilha está cheia')\n",
        "    else:\n",
        "      self.__topo += 1\n",
        "      self.__valores[self.__topo] = valor\n",
        "\n",
        "  def desempilhar(self):\n",
        "    # Retorna o elemento desempilhado\n",
        "    if self.__pilha_vazia():\n",
        "      print('A pilha está vazia')\n",
        "      return None\n",
        "    else:\n",
        "      temp = self.__valores[self.__topo]\n",
        "      self.__topo -= 1\n",
        "      return temp\n",
        "\n",
        "  def ver_topo(self):\n",
        "    if self.__topo != -1:\n",
        "      return self.__valores[self.__topo]\n",
        "    else:\n",
        "      return -1"
      ],
      "metadata": {
        "id": "F_TC9CzqDXa1"
      },
      "execution_count": 5,
      "outputs": []
    },
    {
      "cell_type": "code",
      "source": [
        "pilha = Pilha(5)\n",
        "pilha.empilhar(grafo.arad)\n",
        "pilha.empilhar(grafo.sibiu)\n",
        "pilha.empilhar(grafo.timisoara)"
      ],
      "metadata": {
        "id": "rzK0BO-oDbzl"
      },
      "execution_count": 6,
      "outputs": []
    },
    {
      "cell_type": "code",
      "source": [
        "pilha.ver_topo().rotulo"
      ],
      "metadata": {
        "colab": {
          "base_uri": "https://localhost:8080/",
          "height": 38
        },
        "id": "RpCtxRQmDeZ8",
        "outputId": "ef674cfd-129f-41dc-855e-4d07b07cc81e"
      },
      "execution_count": 7,
      "outputs": [
        {
          "output_type": "execute_result",
          "data": {
            "text/plain": [
              "'Timisoara'"
            ],
            "application/vnd.google.colaboratory.intrinsic+json": {
              "type": "string"
            }
          },
          "metadata": {},
          "execution_count": 7
        }
      ]
    },
    {
      "cell_type": "code",
      "source": [
        "pilha.desempilhar().rotulo"
      ],
      "metadata": {
        "colab": {
          "base_uri": "https://localhost:8080/",
          "height": 38
        },
        "id": "Dv4eUuE3DgjU",
        "outputId": "69440b96-3ea5-48e6-eae7-80e999aff544"
      },
      "execution_count": 8,
      "outputs": [
        {
          "output_type": "execute_result",
          "data": {
            "text/plain": [
              "'Timisoara'"
            ],
            "application/vnd.google.colaboratory.intrinsic+json": {
              "type": "string"
            }
          },
          "metadata": {},
          "execution_count": 8
        }
      ]
    },
    {
      "cell_type": "code",
      "source": [
        "pilha.desempilhar()\n",
        "pilha.ver_topo().rotulo"
      ],
      "metadata": {
        "colab": {
          "base_uri": "https://localhost:8080/",
          "height": 38
        },
        "id": "j2gwX-CiDi6C",
        "outputId": "baf4f0b0-b4fc-4d54-d3ed-5f378f221c84"
      },
      "execution_count": 9,
      "outputs": [
        {
          "output_type": "execute_result",
          "data": {
            "text/plain": [
              "'Arad'"
            ],
            "application/vnd.google.colaboratory.intrinsic+json": {
              "type": "string"
            }
          },
          "metadata": {},
          "execution_count": 9
        }
      ]
    },
    {
      "cell_type": "markdown",
      "source": [
        "# **Busca em Profundidade**"
      ],
      "metadata": {
        "id": "bUyIZs0CDmWs"
      }
    },
    {
      "cell_type": "code",
      "source": [
        "class BuscaProfundidade:\n",
        "  def __init__(self, inicio):\n",
        "    self.inicio = inicio\n",
        "    self.inicio.visitado = True\n",
        "    self.pilha = Pilha(20)\n",
        "    self.pilha.empilhar(inicio)\n",
        "\n",
        "  def buscar(self):\n",
        "    topo = self.pilha.ver_topo()\n",
        "    print('Topo: {}'.format(topo.rotulo))\n",
        "    for adjacente in topo.adjacentes:\n",
        "      print('Topo é {}. {} já foi visitada? {}'.format(topo.rotulo, adjacente.vertice.rotulo, adjacente.vertice.visitado))\n",
        "      if adjacente.vertice.visitado == False:\n",
        "        adjacente.vertice.visitado = True\n",
        "        self.pilha.empilhar(adjacente.vertice)\n",
        "        print('Empilhou {}'.format(adjacente.vertice.rotulo))\n",
        "        self.buscar()\n",
        "    print('Desempilhou: {}'.format(self.pilha.desempilhar().rotulo))\n",
        "    print()"
      ],
      "metadata": {
        "id": "xYu4hr3vDovG"
      },
      "execution_count": 10,
      "outputs": []
    },
    {
      "cell_type": "code",
      "source": [
        "busca_profundidade = BuscaProfundidade(grafo.arad)\n",
        "busca_profundidade.buscar()"
      ],
      "metadata": {
        "colab": {
          "base_uri": "https://localhost:8080/"
        },
        "id": "fBq80m5lDty8",
        "outputId": "93e95fde-9c6d-48b0-b191-4685a436a6a1"
      },
      "execution_count": 11,
      "outputs": [
        {
          "output_type": "stream",
          "name": "stdout",
          "text": [
            "Topo: Arad\n",
            "Topo é Arad. Zerind já foi visitada? False\n",
            "Empilhou Zerind\n",
            "Topo: Zerind\n",
            "Topo é Zerind. Arad já foi visitada? True\n",
            "Topo é Zerind. Oradea já foi visitada? False\n",
            "Empilhou Oradea\n",
            "Topo: Oradea\n",
            "Topo é Oradea. Zerind já foi visitada? True\n",
            "Topo é Oradea. Sibiu já foi visitada? False\n",
            "Empilhou Sibiu\n",
            "Topo: Sibiu\n",
            "Topo é Sibiu. Oradea já foi visitada? True\n",
            "Topo é Sibiu. Arad já foi visitada? True\n",
            "Topo é Sibiu. Fagaras já foi visitada? False\n",
            "Empilhou Fagaras\n",
            "Topo: Fagaras\n",
            "Topo é Fagaras. Sibiu já foi visitada? True\n",
            "Topo é Fagaras. Bucharest já foi visitada? False\n",
            "Empilhou Bucharest\n",
            "Topo: Bucharest\n",
            "Topo é Bucharest. Fagaras já foi visitada? True\n",
            "Topo é Bucharest. Pitesti já foi visitada? False\n",
            "Empilhou Pitesti\n",
            "Topo: Pitesti\n",
            "Topo é Pitesti. Rimnicu já foi visitada? False\n",
            "Empilhou Rimnicu\n",
            "Topo: Rimnicu\n",
            "Topo é Rimnicu. Craiova já foi visitada? False\n",
            "Empilhou Craiova\n",
            "Topo: Craiova\n",
            "Topo é Craiova. Dobreta já foi visitada? False\n",
            "Empilhou Dobreta\n",
            "Topo: Dobreta\n",
            "Topo é Dobreta. Mehadia já foi visitada? False\n",
            "Empilhou Mehadia\n",
            "Topo: Mehadia\n",
            "Topo é Mehadia. Lugoj já foi visitada? False\n",
            "Empilhou Lugoj\n",
            "Topo: Lugoj\n",
            "Topo é Lugoj. Timisoara já foi visitada? False\n",
            "Empilhou Timisoara\n",
            "Topo: Timisoara\n",
            "Topo é Timisoara. Arad já foi visitada? True\n",
            "Topo é Timisoara. Lugoj já foi visitada? True\n",
            "Desempilhou: Timisoara\n",
            "\n",
            "Topo é Lugoj. Mehadia já foi visitada? True\n",
            "Desempilhou: Lugoj\n",
            "\n",
            "Topo é Mehadia. Dobreta já foi visitada? True\n",
            "Desempilhou: Mehadia\n",
            "\n",
            "Topo é Dobreta. Craiova já foi visitada? True\n",
            "Desempilhou: Dobreta\n",
            "\n",
            "Topo é Craiova. Pitesti já foi visitada? True\n",
            "Topo é Craiova. Rimnicu já foi visitada? True\n",
            "Desempilhou: Craiova\n",
            "\n",
            "Topo é Rimnicu. Sibiu já foi visitada? True\n",
            "Topo é Rimnicu. Pitesti já foi visitada? True\n",
            "Desempilhou: Rimnicu\n",
            "\n",
            "Topo é Pitesti. Craiova já foi visitada? True\n",
            "Topo é Pitesti. Bucharest já foi visitada? True\n",
            "Desempilhou: Pitesti\n",
            "\n",
            "Topo é Bucharest. Giurgiu já foi visitada? False\n",
            "Empilhou Giurgiu\n",
            "Topo: Giurgiu\n",
            "Desempilhou: Giurgiu\n",
            "\n",
            "Desempilhou: Bucharest\n",
            "\n",
            "Desempilhou: Fagaras\n",
            "\n",
            "Topo é Sibiu. Rimnicu já foi visitada? True\n",
            "Desempilhou: Sibiu\n",
            "\n",
            "Desempilhou: Oradea\n",
            "\n",
            "Desempilhou: Zerind\n",
            "\n",
            "Topo é Arad. Sibiu já foi visitada? True\n",
            "Topo é Arad. Timisoara já foi visitada? True\n",
            "Desempilhou: Arad\n",
            "\n"
          ]
        }
      ]
    },
    {
      "cell_type": "code",
      "source": [
        "busca_profundidade.pilha.ver_topo()"
      ],
      "metadata": {
        "colab": {
          "base_uri": "https://localhost:8080/"
        },
        "id": "XaT46MmPDzC1",
        "outputId": "31583d33-efc2-4a7d-b4a6-c6016239b46d"
      },
      "execution_count": 12,
      "outputs": [
        {
          "output_type": "execute_result",
          "data": {
            "text/plain": [
              "-1"
            ]
          },
          "metadata": {},
          "execution_count": 12
        }
      ]
    },
    {
      "cell_type": "markdown",
      "source": [
        "# **Fila**"
      ],
      "metadata": {
        "id": "KUmX0DNcD1os"
      }
    },
    {
      "cell_type": "code",
      "source": [
        "import numpy as np\n",
        "\n",
        "class FilaCircular:\n",
        "\n",
        "  def __init__(self, capacidade):\n",
        "    self.capacidade = capacidade\n",
        "    self.inicio = 0\n",
        "    self.final = -1\n",
        "    self.numero_elementos = 0\n",
        "\n",
        "    # Mudança no tipo de dado\n",
        "    self.valores = np.empty(self.capacidade, dtype=object)\n",
        "\n",
        "  def __fila_vazia(self):\n",
        "    return self.numero_elementos == 0\n",
        "\n",
        "  def __fila_cheia(self):\n",
        "    return self.numero_elementos == self.capacidade\n",
        "\n",
        "  def enfileirar(self, valor):\n",
        "    if self.__fila_cheia():\n",
        "      print('A fila está cheia')\n",
        "      return\n",
        "\n",
        "    if self.final == self.capacidade - 1:\n",
        "      self.final = -1\n",
        "    self.final += 1\n",
        "    self.valores[self.final] = valor\n",
        "    self.numero_elementos += 1\n",
        "\n",
        "  def desenfileirar(self):\n",
        "    if self.__fila_vazia():\n",
        "      print('A fila já está vazia')\n",
        "      return\n",
        "\n",
        "    temp = self.valores[self.inicio]\n",
        "    self.inicio += 1\n",
        "    if self.inicio == self.capacidade - 1:\n",
        "      self.inicio = 0\n",
        "    self.numero_elementos -= 1\n",
        "    return temp\n",
        "\n",
        "  def primeiro(self):\n",
        "    if self.__fila_vazia():\n",
        "      return -1\n",
        "    return self.valores[self.inicio]"
      ],
      "metadata": {
        "id": "hAMoD1W_D36M"
      },
      "execution_count": 13,
      "outputs": []
    },
    {
      "cell_type": "code",
      "source": [
        "fila = FilaCircular(20)"
      ],
      "metadata": {
        "id": "Q1rSyBi-D6OX"
      },
      "execution_count": 14,
      "outputs": []
    },
    {
      "cell_type": "code",
      "source": [
        "fila.enfileirar(grafo.arad)\n",
        "fila.enfileirar(grafo.bucharest)\n",
        "fila.enfileirar(grafo.fagaras)"
      ],
      "metadata": {
        "id": "B29dRQXJD92g"
      },
      "execution_count": 15,
      "outputs": []
    },
    {
      "cell_type": "code",
      "source": [
        "fila.primeiro().rotulo"
      ],
      "metadata": {
        "colab": {
          "base_uri": "https://localhost:8080/",
          "height": 38
        },
        "id": "8Zmq7YpIEAA3",
        "outputId": "e2e7a0d0-1837-41fe-dc1e-2d29bd8a949c"
      },
      "execution_count": 16,
      "outputs": [
        {
          "output_type": "execute_result",
          "data": {
            "text/plain": [
              "'Arad'"
            ],
            "application/vnd.google.colaboratory.intrinsic+json": {
              "type": "string"
            }
          },
          "metadata": {},
          "execution_count": 16
        }
      ]
    },
    {
      "cell_type": "code",
      "source": [
        "fila.desenfileirar().rotulo"
      ],
      "metadata": {
        "colab": {
          "base_uri": "https://localhost:8080/",
          "height": 38
        },
        "id": "8-hUO4akECcm",
        "outputId": "72cc102c-5bc3-46e6-db72-03dc623e646d"
      },
      "execution_count": 17,
      "outputs": [
        {
          "output_type": "execute_result",
          "data": {
            "text/plain": [
              "'Arad'"
            ],
            "application/vnd.google.colaboratory.intrinsic+json": {
              "type": "string"
            }
          },
          "metadata": {},
          "execution_count": 17
        }
      ]
    },
    {
      "cell_type": "code",
      "source": [
        "fila.primeiro().rotulo"
      ],
      "metadata": {
        "colab": {
          "base_uri": "https://localhost:8080/",
          "height": 38
        },
        "id": "kEDCJFbYEEvN",
        "outputId": "7ae448e4-d16a-4a3b-b5eb-41c47ac5e2b3"
      },
      "execution_count": 18,
      "outputs": [
        {
          "output_type": "execute_result",
          "data": {
            "text/plain": [
              "'Bucharest'"
            ],
            "application/vnd.google.colaboratory.intrinsic+json": {
              "type": "string"
            }
          },
          "metadata": {},
          "execution_count": 18
        }
      ]
    },
    {
      "cell_type": "markdown",
      "source": [
        "# **Busca em Largura**"
      ],
      "metadata": {
        "id": "2NzDulyAEG8Z"
      }
    },
    {
      "cell_type": "code",
      "source": [
        "class BuscaLargura:\n",
        "  def __init__(self, inicio):\n",
        "    self.inicio = inicio\n",
        "    self.inicio.visitado = True\n",
        "    self.fila = FilaCircular(20)\n",
        "    self.fila.enfileirar(inicio)\n",
        "\n",
        "  def buscar(self):\n",
        "    primeiro = self.fila.primeiro()\n",
        "    print('-------')\n",
        "    print('Primeiro da fila: {}'.format(primeiro.rotulo))\n",
        "    temp = self.fila.desenfileirar()\n",
        "    print('Desenfileirou: {}'.format(temp.rotulo))\n",
        "    for adjacente in primeiro.adjacentes:\n",
        "      print('Primeiro era {}. {} já foi visitado? {}'.format(temp.rotulo, adjacente.vertice.rotulo, adjacente.vertice.visitado))\n",
        "      if adjacente.vertice.visitado == False:\n",
        "        adjacente.vertice.visitado = True\n",
        "        self.fila.enfileirar(adjacente.vertice)\n",
        "        print('Enfileirou: {}'.format(adjacente.vertice.rotulo))\n",
        "    if self.fila.numero_elementos > 0:\n",
        "      self.buscar()"
      ],
      "metadata": {
        "id": "CFNvPCDdEKNl"
      },
      "execution_count": 19,
      "outputs": []
    },
    {
      "cell_type": "code",
      "source": [
        "busca_largura = BuscaLargura(grafo.arad)\n",
        "busca_largura.buscar()"
      ],
      "metadata": {
        "colab": {
          "base_uri": "https://localhost:8080/"
        },
        "id": "GlwI74QjENoG",
        "outputId": "499c0443-9f27-4d5c-d93f-0954da8361ea"
      },
      "execution_count": 20,
      "outputs": [
        {
          "output_type": "stream",
          "name": "stdout",
          "text": [
            "-------\n",
            "Primeiro da fila: Arad\n",
            "Desenfileirou: Arad\n",
            "Primeiro era Arad. Zerind já foi visitado? True\n",
            "Primeiro era Arad. Sibiu já foi visitado? True\n",
            "Primeiro era Arad. Timisoara já foi visitado? True\n"
          ]
        }
      ]
    },
    {
      "cell_type": "code",
      "source": [
        "busca_largura.fila.numero_elementos"
      ],
      "metadata": {
        "colab": {
          "base_uri": "https://localhost:8080/"
        },
        "id": "zVvEdVBJERVe",
        "outputId": "0a4c723e-8d7d-422a-cda6-67fb2b10735b"
      },
      "execution_count": 21,
      "outputs": [
        {
          "output_type": "execute_result",
          "data": {
            "text/plain": [
              "0"
            ]
          },
          "metadata": {},
          "execution_count": 21
        }
      ]
    }
  ]
}