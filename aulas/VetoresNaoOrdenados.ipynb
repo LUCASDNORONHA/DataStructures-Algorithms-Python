{
  "nbformat": 4,
  "nbformat_minor": 0,
  "metadata": {
    "colab": {
      "provenance": [],
      "authorship_tag": "ABX9TyMSBqJwhtWoQ/HwVVCalQP9",
      "include_colab_link": true
    },
    "kernelspec": {
      "name": "python3",
      "display_name": "Python 3"
    },
    "language_info": {
      "name": "python"
    }
  },
  "cells": [
    {
      "cell_type": "markdown",
      "metadata": {
        "id": "view-in-github",
        "colab_type": "text"
      },
      "source": [
        "<a href=\"https://colab.research.google.com/github/LUCASDNORONHA/data_structures_algorithms_python/blob/master/VetoresNaoOrdenados.ipynb\" target=\"_parent\"><img src=\"https://colab.research.google.com/assets/colab-badge.svg\" alt=\"Open In Colab\"/></a>"
      ]
    },
    {
      "cell_type": "markdown",
      "source": [
        "# **IA Expert Academy**\n",
        "\n",
        "\n",
        "---\n",
        "**Curso:** Estruturas de Dados e Algoritmos em Python\n",
        "\n",
        "**Aluno:** Lucas Dias Noronha\n",
        "\n"
      ],
      "metadata": {
        "id": "p3WeZtqFELtB"
      }
    },
    {
      "cell_type": "markdown",
      "source": [
        "\n",
        "\n",
        "# Vetores Não Ordenados\n"
      ],
      "metadata": {
        "id": "_qbY82AB4BQt"
      }
    },
    {
      "cell_type": "markdown",
      "source": [
        "O vetores não ordenados são estruturas de dados que não tem uma ordem especifica por serem armazenados na ordem que são inseridos."
      ],
      "metadata": {
        "id": "Nj2TvXZTCu0a"
      }
    },
    {
      "cell_type": "markdown",
      "source": [
        "### Exemplo de criação e manipulação de um vetor não ordenado em Python\n",
        "```\n",
        "vetor = [10, 5, 8, 3, 12]\n",
        "```\n",
        "**Acessando elementos:**\n",
        "```\n",
        "primeiro_elemento = vetor[0]  # Retorna 10\n",
        "terceiro_elemento = vetor[2]  # Retorna 8\n",
        "```\n",
        "\n",
        "**Inserindo um elemento:**\n",
        "```\n",
        "vetor.append(20)  # Adiciona o valor 20 ao final do vetor\n",
        "```\n",
        "\n",
        "**Removendo um elemento:**\n",
        "```\n",
        "vetor.remove(5)  # Remove o valor 5 do vetor\n",
        "```\n"
      ],
      "metadata": {
        "id": "belYWWK5DekR"
      }
    },
    {
      "cell_type": "markdown",
      "source": [
        "# Criando uma Classe de Vetores Não Ordenados"
      ],
      "metadata": {
        "id": "zxx0PYauE0gx"
      }
    },
    {
      "cell_type": "code",
      "execution_count": 1,
      "metadata": {
        "id": "1ALWwCoLzAWo"
      },
      "outputs": [],
      "source": [
        "import numpy as np"
      ]
    },
    {
      "cell_type": "markdown",
      "source": [
        "Criando uma classe que terá todas as funcionalidades necessarias para um vetor não ordenado."
      ],
      "metadata": {
        "id": "Gon_c4R0GEcg"
      }
    },
    {
      "cell_type": "code",
      "source": [
        "class VetorNaoOrdenado:\n",
        "    def __init__(self, capacidade):\n",
        "        self.capacidade = capacidade\n",
        "        self.last_position = -1\n",
        "        self.valores = np.empty(self.capacidade, dtype=int)\n",
        "\n",
        "    # O(n)\n",
        "    def imprimir(self):\n",
        "        if self.last_position == -1:\n",
        "            print('O vetor está vazio')\n",
        "        else:\n",
        "            for i in range(self.last_position + 1):\n",
        "                print(i, ' - ', self.valores[i])\n",
        "\n",
        "    # O(c) + O(n) = O(n)\n",
        "    def insere(self, valor):\n",
        "        if self.last_position == self.capacidade - 1:\n",
        "            print('Capacidade máxima atingida')\n",
        "        else:\n",
        "            self.last_position += 1\n",
        "            self.valores[self.last_position] = valor\n",
        "\n",
        "    # O(n)\n",
        "    def pesquisar(self, valor):\n",
        "        for i in range(self.last_position + 1):\n",
        "            if valor == self.valores[i]:\n",
        "                return i\n",
        "        return -1\n",
        "\n",
        "    # O(n)\n",
        "    def excluir(self, valor):\n",
        "        posicao = self.pesquisar(valor)\n",
        "        if posicao == -1:\n",
        "            return -1\n",
        "        else:\n",
        "            for i in range(posicao, self.last_position):\n",
        "                self.valores[i] = self.valores[i + 1]\n",
        "            self.last_position -= 1\n"
      ],
      "metadata": {
        "id": "LfsdC_GK4POa"
      },
      "execution_count": 58,
      "outputs": []
    },
    {
      "cell_type": "markdown",
      "source": [
        "Criando nossa instância com capacidade de armazenamento para 5 elementos."
      ],
      "metadata": {
        "id": "A6kobkAUGWsR"
      }
    },
    {
      "cell_type": "code",
      "source": [
        "vetor = VetorNaoOrdenado(5)\n",
        "vetor.imprimir()"
      ],
      "metadata": {
        "colab": {
          "base_uri": "https://localhost:8080/"
        },
        "id": "0Kt2zzV94tSJ",
        "outputId": "e6be4a6a-f2b6-4466-c9eb-a3b7eac3a946"
      },
      "execution_count": 75,
      "outputs": [
        {
          "output_type": "stream",
          "name": "stdout",
          "text": [
            "O vetor está vazio\n"
          ]
        }
      ]
    },
    {
      "cell_type": "markdown",
      "source": [
        "Iserindo valores no vetor. Veja que quando ele atinge a capacidade máxima, ele não permite mais inserções e retorna uma mensagem."
      ],
      "metadata": {
        "id": "VcbN6J_jGguo"
      }
    },
    {
      "cell_type": "code",
      "source": [
        "vetor.insere(2)\n",
        "vetor.insere(5)\n",
        "vetor.insere(8)\n",
        "vetor.insere(1)\n",
        "vetor.insere(7)\n",
        "\n",
        "vetor.insere(10)\n",
        "\n",
        "vetor.imprimir()"
      ],
      "metadata": {
        "colab": {
          "base_uri": "https://localhost:8080/"
        },
        "id": "lWLxa0sG6cCH",
        "outputId": "42b55e1a-4e08-463b-a5a7-b9ccda7ec4a9"
      },
      "execution_count": 76,
      "outputs": [
        {
          "output_type": "stream",
          "name": "stdout",
          "text": [
            "Capacidade máxima atingida\n",
            "0  -  2\n",
            "1  -  5\n",
            "2  -  8\n",
            "3  -  1\n",
            "4  -  7\n"
          ]
        }
      ]
    },
    {
      "cell_type": "markdown",
      "source": [
        "Pesquisandos o valores e mostrando o índice onde cada valor está armazenado dentro do vetor."
      ],
      "metadata": {
        "id": "cHDHLoPWHcaC"
      }
    },
    {
      "cell_type": "code",
      "source": [
        "print(vetor.pesquisar(2),vetor.pesquisar(5),vetor.pesquisar(8),vetor.pesquisar(1),vetor.pesquisar(7), vetor.pesquisar(9))"
      ],
      "metadata": {
        "colab": {
          "base_uri": "https://localhost:8080/"
        },
        "id": "35OtWHMV7r3S",
        "outputId": "a8b2c277-32cf-465a-ea60-a292efa03f59"
      },
      "execution_count": 61,
      "outputs": [
        {
          "output_type": "stream",
          "name": "stdout",
          "text": [
            "0 1 2 3 4 -1\n"
          ]
        }
      ]
    },
    {
      "cell_type": "markdown",
      "source": [
        "Imprimindos o valores dos elementos contidos no vetor na seguinte ordem índice - vetor."
      ],
      "metadata": {
        "id": "LPjHogmaHsXJ"
      }
    },
    {
      "cell_type": "code",
      "source": [
        "vetor.imprimir()"
      ],
      "metadata": {
        "colab": {
          "base_uri": "https://localhost:8080/"
        },
        "id": "BG2Ra5hs-0DB",
        "outputId": "2302ed7d-a17f-48c4-e785-4f3cad749659"
      },
      "execution_count": 62,
      "outputs": [
        {
          "output_type": "stream",
          "name": "stdout",
          "text": [
            "0  -  2\n",
            "1  -  5\n",
            "2  -  8\n",
            "3  -  1\n",
            "4  -  7\n"
          ]
        }
      ]
    },
    {
      "cell_type": "markdown",
      "source": [
        "Excluindo o valor 5 do vetor e imprimindo o vetor após a exclusão. Podemos ver que os foram realocados de acordo com seu índices."
      ],
      "metadata": {
        "id": "O_Kuc4FHIKWw"
      }
    },
    {
      "cell_type": "code",
      "source": [
        "vetor.excluir(5)\n",
        "vetor.imprimir()"
      ],
      "metadata": {
        "colab": {
          "base_uri": "https://localhost:8080/"
        },
        "id": "hduFUBi9894Y",
        "outputId": "987268af-772e-4e91-f664-9db1fc5d9f41"
      },
      "execution_count": 77,
      "outputs": [
        {
          "output_type": "stream",
          "name": "stdout",
          "text": [
            "0  -  2\n",
            "1  -  8\n",
            "2  -  1\n",
            "3  -  7\n"
          ]
        }
      ]
    },
    {
      "cell_type": "markdown",
      "source": [
        "Excluindo o valor 1 do vetor e imprindo o vetor após a exclusão. Podemos ver que os foram realocados de acordo com seu índices."
      ],
      "metadata": {
        "id": "jHaY_pMGIgLL"
      }
    },
    {
      "cell_type": "code",
      "source": [
        "vetor.excluir(1)\n",
        "vetor.imprimir()"
      ],
      "metadata": {
        "colab": {
          "base_uri": "https://localhost:8080/"
        },
        "id": "9dordXYX_Bh0",
        "outputId": "4d7df48c-df8c-48ca-c5c5-7caac3772dba"
      },
      "execution_count": 70,
      "outputs": [
        {
          "output_type": "stream",
          "name": "stdout",
          "text": [
            "0  -  8\n",
            "1  -  7\n"
          ]
        }
      ]
    },
    {
      "cell_type": "markdown",
      "source": [
        "Excluindo o valor 1 do vetor e imprindo o vetor após a exclusão. Podemos ver que os foram realocados de acordo com seu índices."
      ],
      "metadata": {
        "id": "cXwulRfSI-rD"
      }
    },
    {
      "cell_type": "code",
      "source": [
        "vetor.excluir(2)\n",
        "vetor.imprimir()"
      ],
      "metadata": {
        "id": "hMNxM-Vi_Jka"
      },
      "execution_count": 67,
      "outputs": []
    },
    {
      "cell_type": "markdown",
      "source": [
        "Inserindo novos elementos após a exclusãos dos valores anteriores."
      ],
      "metadata": {
        "id": "bjjLniOTJA7j"
      }
    },
    {
      "cell_type": "code",
      "source": [
        "vetor.insere(5)\n",
        "vetor.insere(1)\n",
        "vetor.imprimir()"
      ],
      "metadata": {
        "colab": {
          "base_uri": "https://localhost:8080/"
        },
        "id": "8lYtfHq2_S1H",
        "outputId": "f6a14b94-fc85-4c2d-89eb-6870c66d40e7"
      },
      "execution_count": 78,
      "outputs": [
        {
          "output_type": "stream",
          "name": "stdout",
          "text": [
            "Capacidade máxima atingida\n",
            "0  -  2\n",
            "1  -  8\n",
            "2  -  1\n",
            "3  -  7\n",
            "4  -  5\n"
          ]
        }
      ]
    },
    {
      "cell_type": "markdown",
      "source": [
        "# Conclusão:\n",
        "\n",
        "Em resumo, vetores não ordenados são uma estrutura de dados simples e eficiente para armazenar elementos quando a ordem dos elementos não é uma consideração importante. Eles são particularmente úteis quando você precisa acessar elementos por índice, mas podem ser ineficientes para operações de inserção e remoção em posições intermediárias. Se a ordem for relevante ou se você precisar de uma estrutura de dados com tamanho dinâmico, outras estruturas, como listas vinculadas, podem ser mais adequadas.\n",
        "\n",
        "\n",
        "\n",
        "\n"
      ],
      "metadata": {
        "id": "eCrZM4TTJPGX"
      }
    }
  ]
}