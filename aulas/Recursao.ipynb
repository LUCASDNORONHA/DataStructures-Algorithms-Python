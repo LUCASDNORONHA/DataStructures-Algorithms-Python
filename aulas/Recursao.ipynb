{
  "nbformat": 4,
  "nbformat_minor": 0,
  "metadata": {
    "colab": {
      "provenance": [],
      "authorship_tag": "ABX9TyMgr2mfsUaVKpTDE8oYNKt6",
      "include_colab_link": true
    },
    "kernelspec": {
      "name": "python3",
      "display_name": "Python 3"
    },
    "language_info": {
      "name": "python"
    }
  },
  "cells": [
    {
      "cell_type": "markdown",
      "metadata": {
        "id": "view-in-github",
        "colab_type": "text"
      },
      "source": [
        "<a href=\"https://colab.research.google.com/github/LUCASDNORONHA/data_structures_algorithms_python/blob/master/Recursao.ipynb\" target=\"_parent\"><img src=\"https://colab.research.google.com/assets/colab-badge.svg\" alt=\"Open In Colab\"/></a>"
      ]
    },
    {
      "cell_type": "markdown",
      "source": [
        "# **IA Expert Academy**\n",
        "\n",
        "\n",
        "---\n",
        "\n",
        "**Curso:** Estruturas de Dados e Algoritmos em Python\n",
        "\n",
        "**Alunos:** Lucas Dias Noronha"
      ],
      "metadata": {
        "id": "obg47pvcQ7l-"
      }
    },
    {
      "cell_type": "markdown",
      "source": [
        "# Recursão"
      ],
      "metadata": {
        "id": "B7YcXwBUQvm0"
      }
    },
    {
      "cell_type": "code",
      "execution_count": 8,
      "metadata": {
        "colab": {
          "base_uri": "https://localhost:8080/"
        },
        "id": "qhJZCTOHOohH",
        "outputId": "b42f2525-3b90-4aad-88b1-8a815fe34d7d"
      },
      "outputs": [
        {
          "output_type": "stream",
          "name": "stdout",
          "text": [
            "Recursão\n",
            "Recursão\n",
            "Recursão\n",
            "Recursão\n",
            "Recursão\n"
          ]
        }
      ],
      "source": [
        "def recursao(i):\n",
        "  print('Recursão')\n",
        "  i += 1\n",
        "  if i == 5:\n",
        "    return\n",
        "  else:\n",
        "    recursao(i)\n",
        "\n",
        "recursao(0)"
      ]
    },
    {
      "cell_type": "code",
      "metadata": {
        "id": "Rgs9ln20_cTk",
        "colab": {
          "base_uri": "https://localhost:8080/"
        },
        "outputId": "8b34d947-1201-46dd-d96d-ffadc16fadc4"
      },
      "source": [
        "def recursao2(i, limite=5):\n",
        "    print(f'Recursão {i + 1}/{limite}')\n",
        "    i += 1\n",
        "    if i < limite:\n",
        "        recursao2(i, limite)\n",
        "\n",
        "recursao2(0)"
      ],
      "execution_count": 10,
      "outputs": [
        {
          "output_type": "stream",
          "name": "stdout",
          "text": [
            "Recursão 1/5\n",
            "Recursão 2/5\n",
            "Recursão 3/5\n",
            "Recursão 4/5\n",
            "Recursão 5/5\n"
          ]
        }
      ]
    },
    {
      "cell_type": "code",
      "source": [
        "def soma1(n):\n",
        "    return sum(range(n + 1))\n",
        "\n",
        "resultado = soma1(5)\n",
        "print(resultado)"
      ],
      "metadata": {
        "colab": {
          "base_uri": "https://localhost:8080/"
        },
        "id": "8QpzewFASSAG",
        "outputId": "1c961cc2-5403-4f45-9fb4-cfbf883e6751"
      },
      "execution_count": 11,
      "outputs": [
        {
          "output_type": "stream",
          "name": "stdout",
          "text": [
            "15\n"
          ]
        }
      ]
    },
    {
      "cell_type": "code",
      "source": [
        "def soma1(n):\n",
        "  soma = 0\n",
        "  for i in range(n + 1):\n",
        "    soma += i\n",
        "  return soma\n",
        "\n",
        "soma1(5)"
      ],
      "metadata": {
        "colab": {
          "base_uri": "https://localhost:8080/"
        },
        "id": "XZwJbfzZRNL_",
        "outputId": "0c2b7dee-49d1-457f-feb7-692676e0816f"
      },
      "execution_count": 2,
      "outputs": [
        {
          "output_type": "execute_result",
          "data": {
            "text/plain": [
              "15"
            ]
          },
          "metadata": {},
          "execution_count": 2
        }
      ]
    },
    {
      "cell_type": "code",
      "source": [
        "def soma2(n):\n",
        "  if n == 0:\n",
        "    return 0\n",
        "\n",
        "  return n + soma2(n - 1)\n",
        "\n",
        "soma2(5)"
      ],
      "metadata": {
        "colab": {
          "base_uri": "https://localhost:8080/"
        },
        "id": "mShj7NxjRT77",
        "outputId": "d7981771-b2dd-4be9-de71-aafde135dab2"
      },
      "execution_count": 3,
      "outputs": [
        {
          "output_type": "execute_result",
          "data": {
            "text/plain": [
              "15"
            ]
          },
          "metadata": {},
          "execution_count": 3
        }
      ]
    },
    {
      "cell_type": "code",
      "source": [
        "%timeit soma1(100)\n",
        "%timeit soma2(100)"
      ],
      "metadata": {
        "colab": {
          "base_uri": "https://localhost:8080/"
        },
        "id": "2FdGgSURRc38",
        "outputId": "aa2ace37-cd96-4b1f-d259-09a50b7452ad"
      },
      "execution_count": 4,
      "outputs": [
        {
          "output_type": "stream",
          "name": "stdout",
          "text": [
            "3.29 µs ± 761 ns per loop (mean ± std. dev. of 7 runs, 100000 loops each)\n",
            "10.8 µs ± 2.2 µs per loop (mean ± std. dev. of 7 runs, 100000 loops each)\n"
          ]
        }
      ]
    },
    {
      "cell_type": "markdown",
      "source": [
        "# Exercícios recursão\n",
        "\n",
        "## Fatorial\n",
        "O fatorial de um número inteiro m não negativo, é indicado por m! (lê-se \"m fatorial\") e é definido pela relação:\n",
        "\n",
        "m!=m⋅(m−1)⋅(m−2)⋅(m−3)...3⋅2⋅1, para m ≥ 2.\n",
        "\n",
        "Algumas definições são:\n",
        "\n",
        "1! = 1 (fatorial de 1) - critério de parada\n",
        "\n",
        "0! = 1 (fatorial de 0)\n",
        "\n",
        "Exemplos:\n",
        "\n",
        "3! = 3 . 2 . 1 = 6\n",
        "\n",
        "4! = 4 . 3 . 2 . 1 = 24\n",
        "\n",
        "6! = 6 . 5 . 4 . 3 . 2 . 1 = 720\n",
        "\n",
        "Fonte: https://www.infoescola.com/matematica/fatorial/"
      ],
      "metadata": {
        "id": "NGg6pLwnSqat"
      }
    },
    {
      "cell_type": "code",
      "source": [
        "def fatorial(n):\n",
        "    if n < 0:\n",
        "        return \"Não é possível calcular o fatorial de um número negativo\"\n",
        "    elif n == 0:\n",
        "        return 1\n",
        "    else:\n",
        "        return n * fatorial(n - 1)\n",
        "\n",
        "\n",
        "print(fatorial(5))  # Calcula o fatorial de 5 (5! = 120)\n",
        "print(fatorial(0))  # O fatorial de 0 é 1\n",
        "print(fatorial(-3))  # Não é possível calcular o fatorial de um número negativo"
      ],
      "metadata": {
        "colab": {
          "base_uri": "https://localhost:8080/"
        },
        "id": "RXPwihR5S-AF",
        "outputId": "591228c4-9f60-49d5-dd3c-308d0b8744ef"
      },
      "execution_count": 12,
      "outputs": [
        {
          "output_type": "stream",
          "name": "stdout",
          "text": [
            "120\n",
            "1\n",
            "Não é possível calcular o fatorial de um número negativo\n"
          ]
        }
      ]
    },
    {
      "cell_type": "markdown",
      "source": [
        "# Exponenciação\n",
        "\n",
        "Crie uma função recursiva que calcule o valor de a (base) elevado a b (expoente).\n",
        "\n",
        "Se o expoente for zero, a potência é igual 1 (critério de parada).\n",
        "\n",
        "Não considere exponenciação de números negativos."
      ],
      "metadata": {
        "id": "A63ab5sRTNwt"
      }
    },
    {
      "cell_type": "code",
      "source": [
        "def potencia(base, expoente):\n",
        "    if expoente < 0:\n",
        "        return \"Expoente negativo não é suportado\"\n",
        "    if expoente == 0:\n",
        "        return 1\n",
        "    return base * potencia(base, expoente - 1)\n",
        "\n",
        "\n",
        "print(potencia(2, 3))  # Calcula 2^3 = 8\n",
        "print(potencia(5, 0))  # Qualquer número elevado a 0 é 1\n",
        "print(potencia(3, -2))  # Expoente negativo não é suportado"
      ],
      "metadata": {
        "colab": {
          "base_uri": "https://localhost:8080/"
        },
        "id": "qFwQUryFTXWk",
        "outputId": "d670f596-3644-41df-d361-6cd5d2e1bb39"
      },
      "execution_count": 13,
      "outputs": [
        {
          "output_type": "stream",
          "name": "stdout",
          "text": [
            "8\n",
            "1\n",
            "Expoente negativo não é suportado\n"
          ]
        }
      ]
    }
  ]
}