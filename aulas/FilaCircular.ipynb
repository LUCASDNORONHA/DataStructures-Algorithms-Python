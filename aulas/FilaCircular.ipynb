{
  "nbformat": 4,
  "nbformat_minor": 0,
  "metadata": {
    "colab": {
      "provenance": [],
      "authorship_tag": "ABX9TyNQJD6kOLrYa/Bw1N8qc26M",
      "include_colab_link": true
    },
    "kernelspec": {
      "name": "python3",
      "display_name": "Python 3"
    },
    "language_info": {
      "name": "python"
    }
  },
  "cells": [
    {
      "cell_type": "markdown",
      "metadata": {
        "id": "view-in-github",
        "colab_type": "text"
      },
      "source": [
        "<a href=\"https://colab.research.google.com/github/LUCASDNORONHA/data_structures_algorithms_python/blob/master/FilaCircular.ipynb\" target=\"_parent\"><img src=\"https://colab.research.google.com/assets/colab-badge.svg\" alt=\"Open In Colab\"/></a>"
      ]
    },
    {
      "cell_type": "markdown",
      "source": [
        "# **IA Expert Academy**\n",
        "\n",
        "\n",
        "---\n",
        "\n",
        "**Curso:** Estruturas de Dados e Algoritmos em Python\n",
        "\n",
        "**Aluno:** Lucas Dias Noronha"
      ],
      "metadata": {
        "id": "2Ynkd1MQCsEo"
      }
    },
    {
      "cell_type": "markdown",
      "source": [
        "# Fila Circular"
      ],
      "metadata": {
        "id": "J8Twsd7_C-dC"
      }
    },
    {
      "cell_type": "code",
      "source": [
        "import numpy as np\n",
        "\n",
        "class FilaCircular:\n",
        "    \"\"\"\n",
        "    Classe que representa uma fila circular com capacidade especificada.\n",
        "    \"\"\"\n",
        "\n",
        "    def __init__(self, capacidade):\n",
        "        \"\"\"\n",
        "        Inicializa uma fila circular com a capacidade especificada.\n",
        "\n",
        "        Args:\n",
        "            capacidade (int): A capacidade máxima da fila.\n",
        "        \"\"\"\n",
        "        self.capacidade = capacidade\n",
        "        self.inicio = 0\n",
        "        self.final = -1\n",
        "        self.numero_elementos = 0\n",
        "        self.valores = np.empty(self.capacidade, dtype=int)\n",
        "\n",
        "    def fila_vazia(self):\n",
        "        \"\"\"\n",
        "        Verifica se a fila está vazia.\n",
        "\n",
        "        Returns:\n",
        "            bool: True se a fila estiver vazia, False caso contrário.\n",
        "        \"\"\"\n",
        "        return self.numero_elementos == 0\n",
        "\n",
        "    def fila_cheia(self):\n",
        "        \"\"\"\n",
        "        Verifica se a fila está cheia.\n",
        "\n",
        "        Returns:\n",
        "            bool: True se a fila estiver cheia, False caso contrário.\n",
        "        \"\"\"\n",
        "        return self.numero_elementos == self.capacidade\n",
        "\n",
        "    def enfileirar(self, valor):\n",
        "        \"\"\"\n",
        "        Adiciona um valor à fila.\n",
        "\n",
        "        Args:\n",
        "            valor: O valor a ser enfileirado.\n",
        "        \"\"\"\n",
        "        if self.fila_cheia():\n",
        "            print('A fila está cheia')\n",
        "            return\n",
        "\n",
        "        if self.final == self.capacidade - 1:\n",
        "            self.final = -1\n",
        "        self.final += 1\n",
        "        self.valores[self.final] = valor\n",
        "        self.numero_elementos += 1\n",
        "\n",
        "    def desenfileirar(self):\n",
        "        \"\"\"\n",
        "        Remove e retorna o primeiro elemento da fila.\n",
        "\n",
        "        Returns:\n",
        "            O primeiro elemento da fila, ou -1 se a fila estiver vazia.\n",
        "        \"\"\"\n",
        "        if self.fila_vazia():\n",
        "            print('A fila já está vazia')\n",
        "            return -1\n",
        "\n",
        "        temp = self.valores[self.inicio]\n",
        "        self.inicio += 1\n",
        "        if self.inicio == self.capacidade:\n",
        "            self.inicio = 0\n",
        "        self.numero_elementos -= 1\n",
        "        return temp\n",
        "\n",
        "    def primeiro(self):\n",
        "        \"\"\"\n",
        "        Retorna o primeiro elemento da fila.\n",
        "\n",
        "        Returns:\n",
        "            O primeiro elemento da fila, ou -1 se a fila estiver vazia.\n",
        "        \"\"\"\n",
        "        if self.fila_vazia():\n",
        "            return -1\n",
        "        return self.valores[self.inicio]"
      ],
      "metadata": {
        "id": "jn7ElI3xAiaw"
      },
      "execution_count": 12,
      "outputs": []
    },
    {
      "cell_type": "code",
      "source": [
        "# Criar uma fila circular com capacidade de 5\n",
        "minha_fila = FilaCircular(5)\n",
        "\n",
        "# Enfileirar valores\n",
        "minha_fila.enfileirar(10)\n",
        "minha_fila.enfileirar(20)\n",
        "minha_fila.enfileirar(30)"
      ],
      "metadata": {
        "id": "IHxHKlyTB3cX"
      },
      "execution_count": 13,
      "outputs": []
    },
    {
      "cell_type": "code",
      "source": [
        "# Verificar se a fila está vazia\n",
        "if minha_fila.fila_vazia():\n",
        "    print(\"A fila está vazia\")\n",
        "else:\n",
        "    print(\"A fila não está vazia\")"
      ],
      "metadata": {
        "colab": {
          "base_uri": "https://localhost:8080/"
        },
        "id": "KY0sm_aCB7Qp",
        "outputId": "17d62171-0d8b-404a-dd4f-051bb006cf6d"
      },
      "execution_count": 14,
      "outputs": [
        {
          "output_type": "stream",
          "name": "stdout",
          "text": [
            "A fila não está vazia\n"
          ]
        }
      ]
    },
    {
      "cell_type": "code",
      "source": [
        "# Verificar se a fila está cheia\n",
        "if minha_fila.fila_cheia():\n",
        "    print(\"A fila está cheia\")\n",
        "else:\n",
        "    print(\"A fila não está cheia\")"
      ],
      "metadata": {
        "colab": {
          "base_uri": "https://localhost:8080/"
        },
        "id": "dcUEhEE-B-JQ",
        "outputId": "cd41a1a9-972f-4281-aa6d-9bc662ec4fa7"
      },
      "execution_count": 15,
      "outputs": [
        {
          "output_type": "stream",
          "name": "stdout",
          "text": [
            "A fila não está cheia\n"
          ]
        }
      ]
    },
    {
      "cell_type": "code",
      "source": [
        "# Obter o primeiro elemento da fila\n",
        "primeiro_elemento = minha_fila.primeiro()\n",
        "print(f\"O primeiro elemento da fila é: {primeiro_elemento}\")"
      ],
      "metadata": {
        "colab": {
          "base_uri": "https://localhost:8080/"
        },
        "id": "wvyXvTwYCBVv",
        "outputId": "3f6bd4e5-a90d-46f6-f07a-de414076f91a"
      },
      "execution_count": 16,
      "outputs": [
        {
          "output_type": "stream",
          "name": "stdout",
          "text": [
            "O primeiro elemento da fila é: 10\n"
          ]
        }
      ]
    },
    {
      "cell_type": "code",
      "source": [
        "# Desenfileirar um valor\n",
        "valor_desenfileirado = minha_fila.desenfileirar()\n",
        "print(f\"Valor desenfileirado: {valor_desenfileirado}\")"
      ],
      "metadata": {
        "colab": {
          "base_uri": "https://localhost:8080/"
        },
        "id": "SxhZH6KzCC3-",
        "outputId": "90a91280-10c6-448b-a4d0-1cb0e4a120b0"
      },
      "execution_count": 17,
      "outputs": [
        {
          "output_type": "stream",
          "name": "stdout",
          "text": [
            "Valor desenfileirado: 10\n"
          ]
        }
      ]
    },
    {
      "cell_type": "code",
      "source": [
        "# Verificar o primeiro elemento da fila novamente\n",
        "novo_primeiro_elemento = minha_fila.primeiro()\n",
        "print(f\"Novo primeiro elemento da fila é: {novo_primeiro_elemento}\")"
      ],
      "metadata": {
        "colab": {
          "base_uri": "https://localhost:8080/"
        },
        "id": "9uV5W8hHCTs4",
        "outputId": "8cc6abe9-8b69-4830-fb1e-a100ff30bc3f"
      },
      "execution_count": 18,
      "outputs": [
        {
          "output_type": "stream",
          "name": "stdout",
          "text": [
            "Novo primeiro elemento da fila é: 20\n"
          ]
        }
      ]
    },
    {
      "cell_type": "code",
      "source": [
        "# Enfileirar mais valores\n",
        "minha_fila.enfileirar(40)\n",
        "minha_fila.enfileirar(50)\n",
        "\n",
        "# Verificar se a fila está cheia\n",
        "if minha_fila.fila_cheia():\n",
        "    print(\"A fila está cheia\")\n",
        "else:\n",
        "    print(\"A fila não está cheia\")"
      ],
      "metadata": {
        "colab": {
          "base_uri": "https://localhost:8080/"
        },
        "id": "4X1_cqYaCXWn",
        "outputId": "d7c63505-3b59-415b-ec83-e0f5718d0843"
      },
      "execution_count": 19,
      "outputs": [
        {
          "output_type": "stream",
          "name": "stdout",
          "text": [
            "A fila não está cheia\n"
          ]
        }
      ]
    }
  ]
}