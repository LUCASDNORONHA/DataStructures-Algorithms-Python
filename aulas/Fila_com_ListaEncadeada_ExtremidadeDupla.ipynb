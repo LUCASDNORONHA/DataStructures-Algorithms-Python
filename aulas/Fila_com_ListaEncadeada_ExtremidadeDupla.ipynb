{
  "nbformat": 4,
  "nbformat_minor": 0,
  "metadata": {
    "colab": {
      "provenance": [],
      "authorship_tag": "ABX9TyN++yM3nCruLKYu/mQ76n7q",
      "include_colab_link": true
    },
    "kernelspec": {
      "name": "python3",
      "display_name": "Python 3"
    },
    "language_info": {
      "name": "python"
    }
  },
  "cells": [
    {
      "cell_type": "markdown",
      "metadata": {
        "id": "view-in-github",
        "colab_type": "text"
      },
      "source": [
        "<a href=\"https://colab.research.google.com/github/LUCASDNORONHA/data_structures_algorithms_python/blob/master/Fila_com_ListaEncadeada_ExtremidadeDupla.ipynb\" target=\"_parent\"><img src=\"https://colab.research.google.com/assets/colab-badge.svg\" alt=\"Open In Colab\"/></a>"
      ]
    },
    {
      "cell_type": "markdown",
      "source": [
        "# **IA Expert Academy**\n",
        "\n",
        "\n",
        "---\n",
        "\n",
        "**Curso:** Estruturas de Dados e Algoritmos em Python\n",
        "\n",
        "**Alunos:** Lucas Dias Noronha"
      ],
      "metadata": {
        "id": "_4GnsVCJNkOU"
      }
    },
    {
      "cell_type": "markdown",
      "source": [
        "# Fila com Lista Encadeada com Extremidade Dupla"
      ],
      "metadata": {
        "id": "ttUvyfjJNQaN"
      }
    },
    {
      "cell_type": "code",
      "execution_count": 1,
      "metadata": {
        "id": "yc7ePJZmM2Vv"
      },
      "outputs": [],
      "source": [
        "class No:\n",
        "    def __init__(self, valor):\n",
        "        \"\"\"\n",
        "        Inicializa um nó com um valor especificado.\n",
        "\n",
        "        Args:\n",
        "            valor: O valor a ser armazenado no nó.\n",
        "        \"\"\"\n",
        "        self.valor = valor\n",
        "        self.proximo = None\n",
        "\n",
        "    def mostra_no(self):\n",
        "        \"\"\"\n",
        "        Exibe o valor do nó.\n",
        "        \"\"\"\n",
        "        print(self.valor)\n",
        "\n",
        "class ListaEncadeadaExtremidadeDupla:\n",
        "    def __init__(self):\n",
        "        self.primeiro = None\n",
        "        self.ultimo = None\n",
        "\n",
        "    def lista_vazia(self):\n",
        "        \"\"\"\n",
        "        Verifica se a lista está vazia.\n",
        "\n",
        "        Returns:\n",
        "            bool: True se a lista estiver vazia, False caso contrário.\n",
        "        \"\"\"\n",
        "        return self.primeiro is None\n",
        "\n",
        "    def insere_final(self, valor):\n",
        "        \"\"\"\n",
        "        Insere um valor no final da lista encadeada de extremidade dupla.\n",
        "\n",
        "        Args:\n",
        "            valor: O valor a ser inserido no final da lista.\n",
        "        \"\"\"\n",
        "        novo = No(valor)\n",
        "        if self.lista_vazia():\n",
        "            self.primeiro = novo\n",
        "        else:\n",
        "            self.ultimo.proximo = novo\n",
        "        self.ultimo = novo\n",
        "\n",
        "    def excluir_inicio(self):\n",
        "        \"\"\"\n",
        "        Remove o primeiro nó da lista encadeada de extremidade dupla.\n",
        "\n",
        "        Returns:\n",
        "            No: O nó removido, ou None se a lista estiver vazia.\n",
        "        \"\"\"\n",
        "        if self.lista_vazia():\n",
        "            print('A lista está vazia')\n",
        "            return None\n",
        "        temp = self.primeiro\n",
        "        if self.primeiro.proximo is None:\n",
        "            self.ultimo = None\n",
        "        self.primeiro = self.primeiro.proximo\n",
        "        return temp\n",
        "\n",
        "class FilaListaEncadeada:\n",
        "    def __init__(self):\n",
        "        self.lista = ListaEncadeadaExtremidadeDupla()\n",
        "\n",
        "    def fila_vazia(self):\n",
        "        \"\"\"\n",
        "        Verifica se a fila está vazia.\n",
        "\n",
        "        Returns:\n",
        "            bool: True se a fila estiver vazia, False caso contrário.\n",
        "        \"\"\"\n",
        "        return self.lista.lista_vazia()\n",
        "\n",
        "    def enfileirar(self, valor):\n",
        "        \"\"\"\n",
        "        Enfileira (insere no final) um valor na fila.\n",
        "\n",
        "        Args:\n",
        "            valor: O valor a ser enfileirado.\n",
        "        \"\"\"\n",
        "        self.lista.insere_final(valor)\n",
        "\n",
        "    def desenfileirar(self):\n",
        "        \"\"\"\n",
        "        Desenfileira (remove o primeiro valor) da fila.\n",
        "\n",
        "        Returns:\n",
        "            No: O nó desenfileirado, ou None se a fila estiver vazia.\n",
        "        \"\"\"\n",
        "        return self.lista.excluir_inicio()\n",
        "\n",
        "    def ver_inicio(self):\n",
        "        \"\"\"\n",
        "        Obtém o valor no início da fila.\n",
        "\n",
        "        Returns:\n",
        "            int: O valor no início da fila, ou -1 se a fila estiver vazia.\n",
        "        \"\"\"\n",
        "        if self.lista.primeiro is None:\n",
        "            return -1\n",
        "        return self.lista.primeiro.valor"
      ]
    },
    {
      "cell_type": "code",
      "source": [
        "# Criar uma fila utilizando uma lista encadeada de extremidade dupla\n",
        "minha_fila = FilaListaEncadeada()\n",
        "\n",
        "# Verificar se a fila está vazia\n",
        "print(f'Fila está vazia? {minha_fila.fila_vazia()}')"
      ],
      "metadata": {
        "colab": {
          "base_uri": "https://localhost:8080/"
        },
        "id": "Tcno02U-N0lT",
        "outputId": "11a19721-8668-4049-af74-d3ceab71f90d"
      },
      "execution_count": 2,
      "outputs": [
        {
          "output_type": "stream",
          "name": "stdout",
          "text": [
            "Fila está vazia? True\n"
          ]
        }
      ]
    },
    {
      "cell_type": "code",
      "source": [
        "# Enfileirar valores\n",
        "minha_fila.enfileirar(10)\n",
        "minha_fila.enfileirar(20)\n",
        "minha_fila.enfileirar(30)\n",
        "\n",
        "# Verificar o valor no início da fila\n",
        "inicio = minha_fila.ver_inicio()\n",
        "print(f'Valor no início da fila: {inicio}')"
      ],
      "metadata": {
        "colab": {
          "base_uri": "https://localhost:8080/"
        },
        "id": "fSRlKFH7OCbF",
        "outputId": "2011ec8c-f00a-49fe-eeb2-04bf50de162d"
      },
      "execution_count": 3,
      "outputs": [
        {
          "output_type": "stream",
          "name": "stdout",
          "text": [
            "Valor no início da fila: 10\n"
          ]
        }
      ]
    },
    {
      "cell_type": "code",
      "source": [
        "# Desenfileirar valores\n",
        "no_desenfileirado = minha_fila.desenfileirar()\n",
        "if no_desenfileirado is not None:\n",
        "    print(f'Valor desenfileirado: {no_desenfileirado.valor}')"
      ],
      "metadata": {
        "colab": {
          "base_uri": "https://localhost:8080/"
        },
        "id": "nRfutiagOF68",
        "outputId": "708253cc-94ad-4a49-cbee-6b5b11f5c594"
      },
      "execution_count": 4,
      "outputs": [
        {
          "output_type": "stream",
          "name": "stdout",
          "text": [
            "Valor desenfileirado: 10\n"
          ]
        }
      ]
    },
    {
      "cell_type": "code",
      "source": [
        "no_desenfileirado = minha_fila.desenfileirar()\n",
        "if no_desenfileirado is not None:\n",
        "    print(f'Valor desenfileirado: {no_desenfileirado.valor}')"
      ],
      "metadata": {
        "colab": {
          "base_uri": "https://localhost:8080/"
        },
        "id": "g4HMhrn4OIxU",
        "outputId": "19a07043-dbbb-4268-9611-537c80591823"
      },
      "execution_count": 5,
      "outputs": [
        {
          "output_type": "stream",
          "name": "stdout",
          "text": [
            "Valor desenfileirado: 20\n"
          ]
        }
      ]
    },
    {
      "cell_type": "code",
      "source": [
        "# Verificar se a fila está vazia após desenfileirar\n",
        "print(f'Fila está vazia? {minha_fila.fila_vazia()}')"
      ],
      "metadata": {
        "colab": {
          "base_uri": "https://localhost:8080/"
        },
        "id": "fxDSFLRVOLk9",
        "outputId": "507b93ce-9b7e-4b51-979e-005f87d7b0ff"
      },
      "execution_count": 6,
      "outputs": [
        {
          "output_type": "stream",
          "name": "stdout",
          "text": [
            "Fila está vazia? False\n"
          ]
        }
      ]
    }
  ]
}