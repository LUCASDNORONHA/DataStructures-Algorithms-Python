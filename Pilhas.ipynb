{
  "nbformat": 4,
  "nbformat_minor": 0,
  "metadata": {
    "colab": {
      "provenance": [],
      "authorship_tag": "ABX9TyPPX35+aU7W8HR/8OfbiXJ7",
      "include_colab_link": true
    },
    "kernelspec": {
      "name": "python3",
      "display_name": "Python 3"
    },
    "language_info": {
      "name": "python"
    }
  },
  "cells": [
    {
      "cell_type": "markdown",
      "metadata": {
        "id": "view-in-github",
        "colab_type": "text"
      },
      "source": [
        "<a href=\"https://colab.research.google.com/github/LUCASDNORONHA/data_structures_algorithms_python/blob/master/Pilhas.ipynb\" target=\"_parent\"><img src=\"https://colab.research.google.com/assets/colab-badge.svg\" alt=\"Open In Colab\"/></a>"
      ]
    },
    {
      "cell_type": "markdown",
      "source": [
        "# **IA Expert Academy**\n",
        "\n",
        "\n",
        "\n",
        "---\n",
        "**Curso:** Estrutura de Dados e Algoritmos em Python\n",
        "\n",
        "**Aluno:** Lucas Dias Noronha"
      ],
      "metadata": {
        "id": "103TNq95j57M"
      }
    },
    {
      "cell_type": "markdown",
      "source": [
        "# Pilhas"
      ],
      "metadata": {
        "id": "RAxfw719kQhC"
      }
    },
    {
      "cell_type": "code",
      "execution_count": 55,
      "metadata": {
        "id": "Qz5gmqOPjxCp"
      },
      "outputs": [],
      "source": [
        "import numpy as np\n",
        "\n",
        "class Pilha:\n",
        "    \"\"\"\n",
        "    Classe que representa uma pilha com capacidade especificada.\n",
        "    \"\"\"\n",
        "\n",
        "    def __init__(self, capacidade):\n",
        "        \"\"\"\n",
        "        Inicializa uma pilha com a capacidade especificada.\n",
        "\n",
        "        Args:\n",
        "            capacidade (int): A capacidade máxima da pilha.\n",
        "        \"\"\"\n",
        "        self.__capacidade = capacidade\n",
        "        self.__topo = -1\n",
        "        self.__valores = np.empty(self.__capacidade, dtype=int)\n",
        "\n",
        "    def __esta_cheia(self):\n",
        "        \"\"\"\n",
        "        Verifica se a pilha está cheia.\n",
        "\n",
        "        Returns:\n",
        "            bool: True se a pilha estiver cheia, False caso contrário.\n",
        "        \"\"\"\n",
        "        return self.__topo == self.__capacidade - 1\n",
        "\n",
        "    def __esta_vazia(self):\n",
        "        \"\"\"\n",
        "        Verifica se a pilha está vazia.\n",
        "\n",
        "        Returns:\n",
        "            bool: True se a pilha estiver vazia, False caso contrário.\n",
        "        \"\"\"\n",
        "        return self.__topo == -1\n",
        "\n",
        "    def empilhar(self, valor):\n",
        "        \"\"\"\n",
        "        Empilha um valor na pilha.\n",
        "\n",
        "        Args:\n",
        "            valor: O valor a ser empilhado na pilha.\n",
        "        \"\"\"\n",
        "        if self.__esta_cheia():\n",
        "            print('A pilha está cheia')\n",
        "        else:\n",
        "            self.__topo += 1\n",
        "            self.__valores[self.__topo] = valor\n",
        "\n",
        "    def desempilhar(self):\n",
        "        \"\"\"\n",
        "        Desempilha um valor da pilha.\n",
        "        \"\"\"\n",
        "        if self.__esta_vazia():\n",
        "            print('Pilha está vazia')\n",
        "        else:\n",
        "            self.__topo -= 1\n",
        "\n",
        "    def topo(self):\n",
        "        \"\"\"\n",
        "        Obtém o valor no topo da pilha.\n",
        "\n",
        "        Returns:\n",
        "            int: O valor no topo da pilha, ou -1 se a pilha estiver vazia.\n",
        "        \"\"\"\n",
        "        if self.__topo != -1:\n",
        "            return self.__valores[self.__topo]\n",
        "        else:\n",
        "            return -1"
      ]
    },
    {
      "cell_type": "code",
      "source": [
        "pilha = Pilha(5)\n",
        "pilha.topo()"
      ],
      "metadata": {
        "colab": {
          "base_uri": "https://localhost:8080/"
        },
        "id": "T13-MbvLmlCp",
        "outputId": "0f322a23-d551-4645-adc3-7509a3d23018"
      },
      "execution_count": 76,
      "outputs": [
        {
          "output_type": "execute_result",
          "data": {
            "text/plain": [
              "-1"
            ]
          },
          "metadata": {},
          "execution_count": 76
        }
      ]
    },
    {
      "cell_type": "code",
      "source": [
        "pilha.empilhar(1)\n",
        "pilha.topo()"
      ],
      "metadata": {
        "colab": {
          "base_uri": "https://localhost:8080/"
        },
        "id": "l8XhKslorZqw",
        "outputId": "ee855221-7b90-4569-e0a1-7d95fd36c0bb"
      },
      "execution_count": 77,
      "outputs": [
        {
          "output_type": "execute_result",
          "data": {
            "text/plain": [
              "1"
            ]
          },
          "metadata": {},
          "execution_count": 77
        }
      ]
    },
    {
      "cell_type": "code",
      "source": [
        "pilha.empilhar(2)\n",
        "pilha.empilhar(3)\n",
        "pilha.empilhar(4)\n",
        "pilha.empilhar(5)"
      ],
      "metadata": {
        "id": "s4ooNNBHrr25"
      },
      "execution_count": 78,
      "outputs": []
    },
    {
      "cell_type": "code",
      "source": [
        "pilha.empilhar(6)"
      ],
      "metadata": {
        "colab": {
          "base_uri": "https://localhost:8080/"
        },
        "id": "fGc8CKTpr5-L",
        "outputId": "2e5d39fa-64da-4b30-f1be-36e5df955add"
      },
      "execution_count": 79,
      "outputs": [
        {
          "output_type": "stream",
          "name": "stdout",
          "text": [
            "A pilha está cheia\n"
          ]
        }
      ]
    },
    {
      "cell_type": "code",
      "source": [
        "pilha.topo()"
      ],
      "metadata": {
        "colab": {
          "base_uri": "https://localhost:8080/"
        },
        "id": "llKpPhD9r9aT",
        "outputId": "a52f44f8-e53a-4fd0-a394-f7231b1c3013"
      },
      "execution_count": 80,
      "outputs": [
        {
          "output_type": "execute_result",
          "data": {
            "text/plain": [
              "5"
            ]
          },
          "metadata": {},
          "execution_count": 80
        }
      ]
    },
    {
      "cell_type": "code",
      "source": [
        "pilha.desempilhar()\n",
        "pilha.topo()"
      ],
      "metadata": {
        "colab": {
          "base_uri": "https://localhost:8080/"
        },
        "id": "umo40P7fr_4J",
        "outputId": "548b8d1c-e1a2-4720-bb3e-a060562fabad"
      },
      "execution_count": 81,
      "outputs": [
        {
          "output_type": "execute_result",
          "data": {
            "text/plain": [
              "4"
            ]
          },
          "metadata": {},
          "execution_count": 81
        }
      ]
    },
    {
      "cell_type": "code",
      "source": [
        "pilha.desempilhar()\n",
        "pilha.topo()"
      ],
      "metadata": {
        "colab": {
          "base_uri": "https://localhost:8080/"
        },
        "id": "Dj2COVpWsHuB",
        "outputId": "efb22119-627e-4c97-801c-c367d7bd9218"
      },
      "execution_count": 82,
      "outputs": [
        {
          "output_type": "execute_result",
          "data": {
            "text/plain": [
              "3"
            ]
          },
          "metadata": {},
          "execution_count": 82
        }
      ]
    },
    {
      "cell_type": "code",
      "source": [
        "pilha.desempilhar()\n",
        "pilha.topo()"
      ],
      "metadata": {
        "colab": {
          "base_uri": "https://localhost:8080/"
        },
        "id": "jVf_au0QsOOZ",
        "outputId": "7eee15b7-6682-4321-b04c-d9863c5bee6d"
      },
      "execution_count": 83,
      "outputs": [
        {
          "output_type": "execute_result",
          "data": {
            "text/plain": [
              "2"
            ]
          },
          "metadata": {},
          "execution_count": 83
        }
      ]
    },
    {
      "cell_type": "code",
      "source": [
        "pilha.desempilhar()\n",
        "pilha.topo()"
      ],
      "metadata": {
        "colab": {
          "base_uri": "https://localhost:8080/"
        },
        "id": "n902qfsnsPkM",
        "outputId": "eae9d096-dce6-4352-fb84-bc8fa92a5250"
      },
      "execution_count": 84,
      "outputs": [
        {
          "output_type": "execute_result",
          "data": {
            "text/plain": [
              "1"
            ]
          },
          "metadata": {},
          "execution_count": 84
        }
      ]
    },
    {
      "cell_type": "code",
      "source": [
        "pilha.desempilhar()\n",
        "pilha.topo()"
      ],
      "metadata": {
        "colab": {
          "base_uri": "https://localhost:8080/"
        },
        "id": "SwvIEoSSsTX4",
        "outputId": "8d5f9070-b28f-4f42-fec5-ff2a4a6add79"
      },
      "execution_count": 85,
      "outputs": [
        {
          "output_type": "execute_result",
          "data": {
            "text/plain": [
              "-1"
            ]
          },
          "metadata": {},
          "execution_count": 85
        }
      ]
    },
    {
      "cell_type": "code",
      "source": [
        "pilha.desempilhar()"
      ],
      "metadata": {
        "colab": {
          "base_uri": "https://localhost:8080/"
        },
        "id": "7YT2Rge8sYMB",
        "outputId": "35a6e828-99bc-47be-f8a3-4c2c335b6390"
      },
      "execution_count": 86,
      "outputs": [
        {
          "output_type": "stream",
          "name": "stdout",
          "text": [
            "Pilha está vazia\n"
          ]
        }
      ]
    }
  ]
}