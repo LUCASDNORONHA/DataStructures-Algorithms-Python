{
  "nbformat": 4,
  "nbformat_minor": 0,
  "metadata": {
    "colab": {
      "provenance": [],
      "authorship_tag": "ABX9TyO/M0vJxEnl4q4rZ6i83nA6",
      "include_colab_link": true
    },
    "kernelspec": {
      "name": "python3",
      "display_name": "Python 3"
    },
    "language_info": {
      "name": "python"
    }
  },
  "cells": [
    {
      "cell_type": "markdown",
      "metadata": {
        "id": "view-in-github",
        "colab_type": "text"
      },
      "source": [
        "<a href=\"https://colab.research.google.com/github/LUCASDNORONHA/data_structures_algorithms_python/blob/master/Deque.ipynb\" target=\"_parent\"><img src=\"https://colab.research.google.com/assets/colab-badge.svg\" alt=\"Open In Colab\"/></a>"
      ]
    },
    {
      "cell_type": "markdown",
      "source": [
        "# **IA Expert Academy**\n",
        "\n",
        "\n",
        "---\n",
        "**Curso:** Estruturas de Dados e Algoritmos em Python\n",
        "\n",
        "**Aluno:** Lucas Dias Noronha\n"
      ],
      "metadata": {
        "id": "2OzzpM4-Hzar"
      }
    },
    {
      "cell_type": "markdown",
      "source": [
        "# Deque"
      ],
      "metadata": {
        "id": "OK0MdDVWIEDf"
      }
    },
    {
      "cell_type": "code",
      "execution_count": 9,
      "metadata": {
        "id": "jtUdfj4UHu28"
      },
      "outputs": [],
      "source": [
        "import numpy as np\n",
        "\n",
        "class Deque:\n",
        "    \"\"\"\n",
        "    Classe que representa um deque (double-ended queue) com capacidade especificada.\n",
        "    \"\"\"\n",
        "\n",
        "    def __init__(self, capacidade):\n",
        "        \"\"\"\n",
        "        Inicializa um deque com a capacidade especificada.\n",
        "\n",
        "        Args:\n",
        "            capacidade (int): A capacidade máxima do deque.\n",
        "        \"\"\"\n",
        "        self.capacidade = capacidade\n",
        "        self.inicio = -1\n",
        "        self.final = 0\n",
        "        self.valores = np.empty(self.capacidade, dtype=int)\n",
        "\n",
        "    def deque_cheio(self):\n",
        "        \"\"\"\n",
        "        Verifica se o deque está cheio.\n",
        "\n",
        "        Returns:\n",
        "            bool: True se o deque estiver cheio, False caso contrário.\n",
        "        \"\"\"\n",
        "        return (self.inicio == 0 and self.final == self.capacidade - 1) or (self.inicio == self.final + 1)\n",
        "\n",
        "    def deque_vazio(self):\n",
        "        \"\"\"\n",
        "        Verifica se o deque está vazio.\n",
        "\n",
        "        Returns:\n",
        "            bool: True se o deque estiver vazio, False caso contrário.\n",
        "        \"\"\"\n",
        "        return self.inicio == -1\n",
        "\n",
        "    def insere_inicio(self, valor):\n",
        "        \"\"\"\n",
        "        Insere um valor no início do deque.\n",
        "\n",
        "        Args:\n",
        "            valor: O valor a ser inserido no início do deque.\n",
        "        \"\"\"\n",
        "        if self.deque_cheio():\n",
        "            print('O deque está cheio')\n",
        "            return\n",
        "\n",
        "        if self.inicio == -1:\n",
        "            self.inicio = 0\n",
        "            self.final = 0\n",
        "        elif self.inicio == 0:\n",
        "            self.inicio = self.capacidade - 1\n",
        "        else:\n",
        "            self.inicio -= 1\n",
        "\n",
        "        self.valores[self.inicio] = valor\n",
        "\n",
        "    def insere_final(self, valor):\n",
        "        \"\"\"\n",
        "        Insere um valor no final do deque.\n",
        "\n",
        "        Args:\n",
        "            valor: O valor a ser inserido no final do deque.\n",
        "        \"\"\"\n",
        "        if self.deque_cheio():\n",
        "            print('O deque está cheio')\n",
        "            return\n",
        "\n",
        "        if self.inicio == -1:\n",
        "            self.inicio = 0\n",
        "            self.final = 0\n",
        "        elif self.final == self.capacidade - 1:\n",
        "            self.final = 0\n",
        "        else:\n",
        "            self.final += 1\n",
        "\n",
        "        self.valores[self.final] = valor\n",
        "\n",
        "    def excluir_inicio(self):\n",
        "        \"\"\"\n",
        "        Remove o valor do início do deque.\n",
        "        \"\"\"\n",
        "        if self.deque_vazio():\n",
        "            print('O deque já está vazio')\n",
        "            return\n",
        "\n",
        "        if self.inicio == self.final:\n",
        "            self.inicio = -1\n",
        "            self.final = -1\n",
        "        else:\n",
        "            if self.inicio == self.capacidade - 1:\n",
        "                self.inicio = 0\n",
        "            else:\n",
        "                self.inicio += 1\n",
        "\n",
        "    def excluir_final(self):\n",
        "        \"\"\"\n",
        "        Remove o valor do final do deque.\n",
        "        \"\"\"\n",
        "        if self.deque_vazio():\n",
        "            print('O deque já está vazio')\n",
        "            return\n",
        "\n",
        "        if self.inicio == self.final:\n",
        "            self.inicio = -1\n",
        "            self.final = -1\n",
        "        elif self.inicio == 0:\n",
        "            self.final = self.capacidade - 1\n",
        "        else:\n",
        "            self.final -= 1\n",
        "\n",
        "    def get_inicio(self):\n",
        "        \"\"\"\n",
        "        Obtém o valor no início do deque.\n",
        "\n",
        "        Returns:\n",
        "            O valor no início do deque, ou exibe uma mensagem se o deque estiver vazio.\n",
        "        \"\"\"\n",
        "        if self.deque_vazio():\n",
        "            print('O deque já está vazio')\n",
        "            return\n",
        "\n",
        "        return self.valores[self.inicio]\n",
        "\n",
        "    def get_final(self):\n",
        "        \"\"\"\n",
        "        Obtém o valor no final do deque.\n",
        "\n",
        "        Returns:\n",
        "            O valor no final do deque, ou exibe uma mensagem se o deque estiver vazio.\n",
        "        \"\"\"\n",
        "        if self.deque_vazio() or self.final < 0:\n",
        "            print('O deque já está vazio')\n",
        "            return\n",
        "\n",
        "        return self.valores[self.final]"
      ]
    },
    {
      "cell_type": "code",
      "source": [
        "# Criar um deque com capacidade de 5\n",
        "meu_deque = Deque(5)\n",
        "\n",
        "# Inserir valores no início e no final do deque\n",
        "meu_deque.insere_inicio(10)\n",
        "meu_deque.insere_final(20)\n",
        "meu_deque.insere_inicio(5)\n",
        "meu_deque.insere_final(15)"
      ],
      "metadata": {
        "id": "b04IZmM5IXY8"
      },
      "execution_count": 10,
      "outputs": []
    },
    {
      "cell_type": "code",
      "source": [
        "# Obter o valor no início do deque\n",
        "valor_inicio = meu_deque.get_inicio()\n",
        "print(f\"Valor no início do deque: {valor_inicio}\")"
      ],
      "metadata": {
        "colab": {
          "base_uri": "https://localhost:8080/"
        },
        "id": "LdQ75jMiI0RG",
        "outputId": "46b98523-a2dc-4d24-84e9-7d26623394fe"
      },
      "execution_count": 11,
      "outputs": [
        {
          "output_type": "stream",
          "name": "stdout",
          "text": [
            "Valor no início do deque: 5\n"
          ]
        }
      ]
    },
    {
      "cell_type": "code",
      "source": [
        "# Obter o valor no final do deque\n",
        "valor_final = meu_deque.get_final()\n",
        "print(f\"Valor no final do deque: {valor_final}\")"
      ],
      "metadata": {
        "colab": {
          "base_uri": "https://localhost:8080/"
        },
        "id": "oR4j50ChI3T3",
        "outputId": "92c795ad-d578-4de2-cc1c-c7583d4273a8"
      },
      "execution_count": 12,
      "outputs": [
        {
          "output_type": "stream",
          "name": "stdout",
          "text": [
            "Valor no final do deque: 15\n"
          ]
        }
      ]
    },
    {
      "cell_type": "code",
      "source": [
        "# Remover valores do início e do final do deque\n",
        "meu_deque.excluir_inicio()\n",
        "meu_deque.excluir_final()"
      ],
      "metadata": {
        "id": "2uo0G6JEI52O"
      },
      "execution_count": 13,
      "outputs": []
    },
    {
      "cell_type": "code",
      "source": [
        "# Verificar se o deque está vazio\n",
        "if meu_deque.deque_vazio():\n",
        "    print(\"O deque está vazio\")\n",
        "else:\n",
        "    print(\"O deque não está vazio\")"
      ],
      "metadata": {
        "colab": {
          "base_uri": "https://localhost:8080/"
        },
        "id": "XShdFKYPI8s3",
        "outputId": "846db871-6125-40d1-ea96-d5d386212a22"
      },
      "execution_count": 14,
      "outputs": [
        {
          "output_type": "stream",
          "name": "stdout",
          "text": [
            "O deque não está vazio\n"
          ]
        }
      ]
    },
    {
      "cell_type": "code",
      "source": [
        "# Inserir mais valores no início e no final do deque\n",
        "meu_deque.insere_inicio(30)\n",
        "meu_deque.insere_final(40)\n",
        "\n",
        "# Obter o valor no início do deque novamente\n",
        "novo_valor_inicio = meu_deque.get_inicio()\n",
        "print(f\"Novo valor no início do deque: {novo_valor_inicio}\")"
      ],
      "metadata": {
        "colab": {
          "base_uri": "https://localhost:8080/"
        },
        "id": "cvFWWxHcI_jG",
        "outputId": "fd6bc429-1a89-4c5c-ed6e-e76bcaf7c04d"
      },
      "execution_count": 15,
      "outputs": [
        {
          "output_type": "stream",
          "name": "stdout",
          "text": [
            "O deque está cheio\n",
            "O deque está cheio\n",
            "Novo valor no início do deque: 10\n"
          ]
        }
      ]
    },
    {
      "cell_type": "code",
      "source": [
        "# Obter o valor no final do deque novamente\n",
        "novo_valor_final = meu_deque.get_final()\n",
        "print(f\"Novo valor no final do deque: {novo_valor_final}\")"
      ],
      "metadata": {
        "colab": {
          "base_uri": "https://localhost:8080/"
        },
        "id": "SeISyAtXJCkG",
        "outputId": "0734f6dc-e1dd-40fe-8f9b-5be067f16dfc"
      },
      "execution_count": 16,
      "outputs": [
        {
          "output_type": "stream",
          "name": "stdout",
          "text": [
            "Novo valor no final do deque: 5\n"
          ]
        }
      ]
    }
  ]
}