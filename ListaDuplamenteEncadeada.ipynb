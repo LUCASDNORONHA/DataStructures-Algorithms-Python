{
  "nbformat": 4,
  "nbformat_minor": 0,
  "metadata": {
    "colab": {
      "provenance": [],
      "authorship_tag": "ABX9TyP2rhSa62vW9b2qOO6hzs6H",
      "include_colab_link": true
    },
    "kernelspec": {
      "name": "python3",
      "display_name": "Python 3"
    },
    "language_info": {
      "name": "python"
    }
  },
  "cells": [
    {
      "cell_type": "markdown",
      "metadata": {
        "id": "view-in-github",
        "colab_type": "text"
      },
      "source": [
        "<a href=\"https://colab.research.google.com/github/LUCASDNORONHA/data_structures_algorithms_python/blob/master/ListaDuplamenteEncadeada.ipynb\" target=\"_parent\"><img src=\"https://colab.research.google.com/assets/colab-badge.svg\" alt=\"Open In Colab\"/></a>"
      ]
    },
    {
      "cell_type": "markdown",
      "source": [
        "# **IA Expert Academy**\n",
        "\n",
        "\n",
        "---\n",
        "\n",
        "**Curso:** Estruturas de Dados e Algoritmos em Python\n",
        "\n",
        "**Alunos:** Lucas Dias Noronha"
      ],
      "metadata": {
        "id": "-ww2OuDuLNqt"
      }
    },
    {
      "cell_type": "markdown",
      "source": [
        "# Lista Duplamente Encadeada"
      ],
      "metadata": {
        "id": "FjRxmTLILPoM"
      }
    },
    {
      "cell_type": "code",
      "execution_count": 1,
      "metadata": {
        "id": "q3ZGZzVcJuCG"
      },
      "outputs": [],
      "source": [
        "class No:\n",
        "    def __init__(self, valor):\n",
        "        \"\"\"\n",
        "        Inicializa um nó com um valor especificado.\n",
        "\n",
        "        Args:\n",
        "            valor: O valor a ser armazenado no nó.\n",
        "        \"\"\"\n",
        "        self.valor = valor\n",
        "        self.proximo = None\n",
        "        self.anterior = None\n",
        "\n",
        "    def mostra_no(self):\n",
        "        \"\"\"\n",
        "        Exibe o valor do nó.\n",
        "        \"\"\"\n",
        "        print(self.valor)\n",
        "\n",
        "class ListaDuplamenteEncadeada:\n",
        "    def __init__(self):\n",
        "        self.primeiro = None\n",
        "        self.ultimo = None\n",
        "\n",
        "    def lista_vazia(self):\n",
        "        \"\"\"\n",
        "        Verifica se a lista está vazia.\n",
        "\n",
        "        Returns:\n",
        "            bool: True se a lista estiver vazia, False caso contrário.\n",
        "        \"\"\"\n",
        "        return self.primeiro is None\n",
        "\n",
        "    def insere_inicio(self, valor):\n",
        "        \"\"\"\n",
        "        Insere um valor no início da lista duplamente encadeada.\n",
        "\n",
        "        Args:\n",
        "            valor: O valor a ser inserido no início da lista.\n",
        "        \"\"\"\n",
        "        novo = No(valor)\n",
        "        if self.lista_vazia():\n",
        "            self.ultimo = novo\n",
        "        else:\n",
        "            self.primeiro.anterior = novo\n",
        "        novo.proximo = self.primeiro\n",
        "        self.primeiro = novo\n",
        "\n",
        "    def insere_final(self, valor):\n",
        "        \"\"\"\n",
        "        Insere um valor no final da lista duplamente encadeada.\n",
        "\n",
        "        Args:\n",
        "            valor: O valor a ser inserido no final da lista.\n",
        "        \"\"\"\n",
        "        novo = No(valor)\n",
        "        if self.lista_vazia():\n",
        "            self.primeiro = novo\n",
        "        else:\n",
        "            self.ultimo.proximo = novo\n",
        "            novo.anterior = self.ultimo\n",
        "        self.ultimo = novo\n",
        "\n",
        "    def excluir_inicio(self):\n",
        "        \"\"\"\n",
        "        Remove o primeiro nó da lista duplamente encadeada.\n",
        "\n",
        "        Returns:\n",
        "            No: O nó removido, ou None se a lista estiver vazia.\n",
        "        \"\"\"\n",
        "        temp = self.primeiro\n",
        "        if self.primeiro.proximo is None:\n",
        "            self.ultimo = None\n",
        "        else:\n",
        "            self.primeiro.proximo.anterior = None\n",
        "        self.primeiro = self.primeiro.proximo\n",
        "        return temp\n",
        "\n",
        "    def excluir_final(self):\n",
        "        \"\"\"\n",
        "        Remove o último nó da lista duplamente encadeada.\n",
        "\n",
        "        Returns:\n",
        "            No: O nó removido, ou None se a lista estiver vazia.\n",
        "        \"\"\"\n",
        "        temp = self.ultimo\n",
        "        if self.primeiro.proximo is None:\n",
        "            self.primeiro = None\n",
        "        else:\n",
        "            self.ultimo.anterior.proximo = None\n",
        "        self.ultimo = self.ultimo.anterior\n",
        "        return temp\n",
        "\n",
        "    def excluir_valor(self, valor):\n",
        "        \"\"\"\n",
        "        Remove o nó que contém o valor especificado da lista duplamente encadeada.\n",
        "\n",
        "        Args:\n",
        "            valor: O valor a ser removido.\n",
        "\n",
        "        Returns:\n",
        "            No: O nó removido, ou None se o valor não for encontrado.\n",
        "        \"\"\"\n",
        "        atual = self.primeiro\n",
        "        while atual.valor != valor:\n",
        "            atual = atual.proximo\n",
        "            if atual is None:\n",
        "                return None\n",
        "        if atual == self.primeiro:\n",
        "            self.primeiro = atual.proximo\n",
        "        else:\n",
        "            atual.anterior.proximo = atual.proximo\n",
        "\n",
        "        if atual == self.ultimo:\n",
        "            self.ultimo = atual.anterior\n",
        "        else:\n",
        "            atual.proximo.anterior = atual.anterior\n",
        "        return atual\n",
        "\n",
        "    def mostrar_frente(self):\n",
        "        \"\"\"\n",
        "        Exibe os valores na lista na direção da frente.\n",
        "        \"\"\"\n",
        "        atual = self.primeiro\n",
        "        while atual is not None:\n",
        "            atual.mostra_no()\n",
        "            atual = atual.proximo\n",
        "\n",
        "    def mostrar_tras(self):\n",
        "        \"\"\"\n",
        "        Exibe os valores na lista na direção de trás.\n",
        "        \"\"\"\n",
        "        atual = self.ultimo\n",
        "        while atual is not None:\n",
        "            atual.mostra_no()\n",
        "            atual = atual.anterior"
      ]
    },
    {
      "cell_type": "code",
      "source": [
        "# Criar uma lista duplamente encadeada\n",
        "minha_lista = ListaDuplamenteEncadeada()\n",
        "\n",
        "# Inserir valores no início e no final da lista\n",
        "minha_lista.insere_inicio(10)\n",
        "minha_lista.insere_final(20)\n",
        "minha_lista.insere_inicio(5)\n",
        "minha_lista.insere_final(15)\n",
        "\n",
        "# Exibir os valores na lista na direção da frente\n",
        "print(\"Valores na lista na direção da frente:\")\n",
        "minha_lista.mostrar_frente()"
      ],
      "metadata": {
        "colab": {
          "base_uri": "https://localhost:8080/"
        },
        "id": "qgL4dcw_Kv8O",
        "outputId": "e23acca3-6201-4950-db0a-c6531ad067dd"
      },
      "execution_count": 2,
      "outputs": [
        {
          "output_type": "stream",
          "name": "stdout",
          "text": [
            "Valores na lista na direção da frente:\n",
            "5\n",
            "10\n",
            "20\n",
            "15\n"
          ]
        }
      ]
    },
    {
      "cell_type": "code",
      "source": [
        "# Exibir os valores na lista na direção de trás\n",
        "print(\"Valores na lista na direção de trás:\")\n",
        "minha_lista.mostrar_tras()"
      ],
      "metadata": {
        "colab": {
          "base_uri": "https://localhost:8080/"
        },
        "id": "3WMf8J6vK1FE",
        "outputId": "1707fc8c-dddd-4829-cf62-5b47fb60339e"
      },
      "execution_count": 3,
      "outputs": [
        {
          "output_type": "stream",
          "name": "stdout",
          "text": [
            "Valores na lista na direção de trás:\n",
            "15\n",
            "20\n",
            "10\n",
            "5\n"
          ]
        }
      ]
    },
    {
      "cell_type": "code",
      "source": [
        "# Remover o primeiro e o último valor da lista\n",
        "primeiro_no = minha_lista.excluir_inicio()\n",
        "ultimo_no = minha_lista.excluir_final()\n",
        "if primeiro_no is not None:\n",
        "    print(f\"Primeiro valor removido: {primeiro_no.valor}\")\n",
        "if ultimo_no is not None:\n",
        "    print(f\"Último valor removido: {ultimo_no.valor}\")"
      ],
      "metadata": {
        "colab": {
          "base_uri": "https://localhost:8080/"
        },
        "id": "DqDpPWVzK4ts",
        "outputId": "c8aa16c2-6fa4-4fe8-cc9b-66e959d1ecee"
      },
      "execution_count": 4,
      "outputs": [
        {
          "output_type": "stream",
          "name": "stdout",
          "text": [
            "Primeiro valor removido: 5\n",
            "Último valor removido: 15\n"
          ]
        }
      ]
    },
    {
      "cell_type": "code",
      "source": [
        "# Exibir os valores atualizados na lista na direção da frente\n",
        "print(\"Valores na lista na direção da frente após remoções:\")\n",
        "minha_lista.mostrar_frente()"
      ],
      "metadata": {
        "colab": {
          "base_uri": "https://localhost:8080/"
        },
        "id": "HUv7eeLZK89E",
        "outputId": "ce70c969-10e5-4f39-8b54-fbca28958270"
      },
      "execution_count": 5,
      "outputs": [
        {
          "output_type": "stream",
          "name": "stdout",
          "text": [
            "Valores na lista na direção da frente após remoções:\n",
            "10\n",
            "20\n"
          ]
        }
      ]
    },
    {
      "cell_type": "code",
      "source": [
        "# Exibir os valores atualizados na lista na direção de trás\n",
        "print(\"Valores na lista na direção de trás após remoções:\")\n",
        "minha_lista.mostrar_tras()"
      ],
      "metadata": {
        "colab": {
          "base_uri": "https://localhost:8080/"
        },
        "id": "EXdctojXK_60",
        "outputId": "f1560d45-a7f9-4eb9-e772-4763c4dc5df3"
      },
      "execution_count": 6,
      "outputs": [
        {
          "output_type": "stream",
          "name": "stdout",
          "text": [
            "Valores na lista na direção de trás após remoções:\n",
            "20\n",
            "10\n"
          ]
        }
      ]
    },
    {
      "cell_type": "code",
      "source": [
        "# Remover um valor específico da lista\n",
        "valor_a_remover = 10\n",
        "no_removido = minha_lista.excluir_valor(valor_a_remover)\n",
        "if no_removido is not None:\n",
        "    print(f\"Valor {valor_a_remover} removido da lista\")"
      ],
      "metadata": {
        "colab": {
          "base_uri": "https://localhost:8080/"
        },
        "id": "be60Gtb6LD2F",
        "outputId": "027a8d99-6669-4ce6-868e-9021b28d9485"
      },
      "execution_count": 7,
      "outputs": [
        {
          "output_type": "stream",
          "name": "stdout",
          "text": [
            "Valor 10 removido da lista\n"
          ]
        }
      ]
    },
    {
      "cell_type": "code",
      "source": [
        "# Exibir os valores após a remoção do valor específico\n",
        "print(\"Valores na lista após a remoção do valor 10:\")\n",
        "minha_lista.mostrar_frente()"
      ],
      "metadata": {
        "colab": {
          "base_uri": "https://localhost:8080/"
        },
        "id": "P1yUUepeLGAU",
        "outputId": "111b76c0-d6c9-4f71-bf5c-a7966fdd00d3"
      },
      "execution_count": 8,
      "outputs": [
        {
          "output_type": "stream",
          "name": "stdout",
          "text": [
            "Valores na lista após a remoção do valor 10:\n",
            "20\n"
          ]
        }
      ]
    }
  ]
}